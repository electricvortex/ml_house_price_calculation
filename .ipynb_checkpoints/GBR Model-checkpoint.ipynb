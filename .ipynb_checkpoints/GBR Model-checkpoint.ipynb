{
 "cells": [
  {
   "cell_type": "code",
   "execution_count": 39,
   "metadata": {
    "collapsed": true
   },
   "outputs": [],
   "source": [
    "%matplotlib notebook\n",
    "import pandas as pd\n",
    "import numpy as np\n",
    "from sklearn.utils import shuffle\n",
    "from matplotlib import pyplot as plt\n",
    "from sklearn.neighbors import KNeighborsRegressor\n",
    "import seaborn as sns\n",
    "from sklearn.model_selection import train_test_split"
   ]
  },
  {
   "cell_type": "code",
   "execution_count": 40,
   "metadata": {
    "collapsed": true
   },
   "outputs": [],
   "source": [
    "def normalization(data):\n",
    "    from sklearn.preprocessing import MinMaxScaler\n",
    "    scaler = MinMaxScaler()\n",
    "    data = scaler.fit_transform(data)\n",
    "    return data"
   ]
  },
  {
   "cell_type": "code",
   "execution_count": 144,
   "metadata": {},
   "outputs": [],
   "source": [
    "data = pd.read_csv(\"dtrain.csv\", delimiter=\",\")\n",
    "data = data[data['geocode_lat'] != 0]\n",
    "zeros = data[data['geocode_lat'] == 0]\n",
    "data = shuffle(data)\n",
    "data = data[data['price'] < 1000000000]"
   ]
  },
  {
   "cell_type": "code",
   "execution_count": 145,
   "metadata": {
    "collapsed": true
   },
   "outputs": [],
   "source": [
    "#choosing data\n",
    "X = data[['house_type_0', 'house_type_иное', 'house_type_каркасно-камышитовый',\n",
    "       'house_type_кирпичный', 'house_type_монолитный',\n",
    "       'house_type_панельный', 'state_0', 'state_евроремонт', 'state_свободная планировка',\n",
    "       'state_среднее', 'state_требует ремонта', 'state_хорошее',\n",
    "       'state_черновая отделка', 'region_Алматы', 'region_Алматы, Алатауский р-н',\n",
    "       'region_Алматы, Алмалинский р-н', 'region_Алматы, Ауэзовский р-н',\n",
    "       'region_Алматы, Бостандыкский р-н', 'region_Алматы, Жетысуйский р-н',\n",
    "       'region_Алматы, Жетысуский р-н', 'region_Алматы, Медеуский р-н',\n",
    "       'region_Алматы, Наурызбайский р-н', 'region_Алматы, Турксибский р-н',\n",
    "       'region_Казахстан', 'internet_0', 'internet_ADSL', 'internet_оптика', 'internet_проводной',\n",
    "       'internet_через TV кабель', 'bathroom_0', 'bathroom_2 с/у и более', 'bathroom_нет',\n",
    "       'bathroom_раздельный', 'bathroom_совмещенный', 'built_time', 'all_space', 'balcony',\n",
    "          'phone', 'parking', 'furniture', 'at_the_hostel',\n",
    "          'appartments_floor', 'building_floors', 'price_for_sqr_meter',\n",
    "         'trngl_first_point', 'trngl_second_point', 'trngl_third_point']]\n",
    "#X_geo = data[['geocode_lat', 'geocode_long']]\n",
    "y = data['price']\n",
    "#x_columns = X.columns\n",
    "#x_index = X.index\n",
    "# X = normalization(X)\n",
    "#X = pd.DataFrame(X, index=x_index, columns=x_columns)\n",
    "#X = pd.concat([X, X_geo], axis=1)\n",
    "\n",
    "X_train, X_test, y_train, y_test = train_test_split(X, y, random_state=0, train_size=0.6)"
   ]
  },
  {
   "cell_type": "code",
   "execution_count": 146,
   "metadata": {
    "collapsed": true
   },
   "outputs": [],
   "source": [
    "from sklearn.ensemble import GradientBoostingRegressor, RandomForestRegressor"
   ]
  },
  {
   "cell_type": "code",
   "execution_count": 147,
   "metadata": {
    "collapsed": true
   },
   "outputs": [],
   "source": [
    "model = GradientBoostingRegressor(n_estimators = (len(X.columns) * 2), learning_rate=0.2, \n",
    "                                  random_state=7, max_depth=10)\n",
    "model2 = RandomForestRegressor(n_estimators = (len(X.columns) * 2), random_state=7)"
   ]
  },
  {
   "cell_type": "code",
   "execution_count": 148,
   "metadata": {},
   "outputs": [
    {
     "data": {
      "text/plain": [
       "RandomForestRegressor(bootstrap=True, criterion='mse', max_depth=None,\n",
       "           max_features='auto', max_leaf_nodes=None,\n",
       "           min_impurity_split=1e-07, min_samples_leaf=1,\n",
       "           min_samples_split=2, min_weight_fraction_leaf=0.0,\n",
       "           n_estimators=94, n_jobs=1, oob_score=False, random_state=7,\n",
       "           verbose=0, warm_start=False)"
      ]
     },
     "execution_count": 148,
     "metadata": {},
     "output_type": "execute_result"
    }
   ],
   "source": [
    "model.fit(X_train, y_train)\n",
    "model2.fit(X_train, y_train)"
   ]
  },
  {
   "cell_type": "code",
   "execution_count": 149,
   "metadata": {},
   "outputs": [
    {
     "name": "stdout",
     "output_type": "stream",
     "text": [
      "0.991061185188\n",
      "0.987515164065\n"
     ]
    }
   ],
   "source": [
    "print(model.score(X_test, y_test))\n",
    "print(model2.score(X_test, y_test))"
   ]
  },
  {
   "cell_type": "code",
   "execution_count": 150,
   "metadata": {},
   "outputs": [
    {
     "name": "stdout",
     "output_type": "stream",
     "text": [
      "GBM Mean absolute error:  390948.131768\n",
      "GBM Mean squared error:  9.65833257426e+12\n",
      "RFR Mean absolute error:  396394.633391\n",
      "RFR Mean squared error:  1.34897858537e+13\n"
     ]
    }
   ],
   "source": [
    "from sklearn.metrics import mean_absolute_error, mean_squared_error\n",
    "print(\"GBM Mean absolute error: \", mean_absolute_error(model.predict(X_test), y_test))\n",
    "print(\"GBM Mean squared error: \", mean_squared_error(model.predict(X_test), y_test))\n",
    "print(\"RFR Mean absolute error: \", mean_absolute_error(model2.predict(X_test), y_test))\n",
    "print(\"RFR Mean squared error: \", mean_squared_error(model2.predict(X_test), y_test))"
   ]
  },
  {
   "cell_type": "code",
   "execution_count": null,
   "metadata": {
    "collapsed": true
   },
   "outputs": [],
   "source": []
  },
  {
   "cell_type": "code",
   "execution_count": 151,
   "metadata": {
    "collapsed": true
   },
   "outputs": [],
   "source": [
    "pred_ans = (model.predict(X_test) + 7 * model2.predict(X_test)) / 8"
   ]
  },
  {
   "cell_type": "code",
   "execution_count": 152,
   "metadata": {},
   "outputs": [
    {
     "name": "stdout",
     "output_type": "stream",
     "text": [
      "Averaged Mean absolute error:  377801.816498\n",
      "Averaged Mean squared error:  1.1850588134e+13\n"
     ]
    }
   ],
   "source": [
    "print(\"Averaged Mean absolute error: \", mean_absolute_error(pred_ans, y_test))\n",
    "print(\"Averaged Mean squared error: \", mean_squared_error(pred_ans, y_test))"
   ]
  },
  {
   "cell_type": "code",
   "execution_count": null,
   "metadata": {
    "collapsed": true
   },
   "outputs": [],
   "source": []
  },
  {
   "cell_type": "code",
   "execution_count": 153,
   "metadata": {
    "collapsed": true
   },
   "outputs": [],
   "source": [
    "def scorer(clf, X, y):\n",
    "    return mean_absolute_error(clf.predict(X), y)"
   ]
  },
  {
   "cell_type": "code",
   "execution_count": 154,
   "metadata": {},
   "outputs": [
    {
     "name": "stdout",
     "output_type": "stream",
     "text": [
      "[ 647287.46596698  531422.9693698   388292.40442356  739497.87738714\n",
      "  402441.26239303]\n"
     ]
    }
   ],
   "source": [
    "from sklearn.model_selection import cross_val_score\n",
    "scores = cross_val_score(model, X, y, cv=5, scoring=scorer)\n",
    "print(scores)"
   ]
  },
  {
   "cell_type": "code",
   "execution_count": 155,
   "metadata": {},
   "outputs": [
    {
     "data": {
      "text/plain": [
       "541788.39590810216"
      ]
     },
     "execution_count": 155,
     "metadata": {},
     "output_type": "execute_result"
    }
   ],
   "source": [
    "scores.mean()"
   ]
  },
  {
   "cell_type": "code",
   "execution_count": 156,
   "metadata": {},
   "outputs": [
    {
     "data": {
      "text/plain": [
       "136605.40101914611"
      ]
     },
     "execution_count": 156,
     "metadata": {},
     "output_type": "execute_result"
    }
   ],
   "source": [
    "scores.std()"
   ]
  },
  {
   "cell_type": "code",
   "execution_count": null,
   "metadata": {
    "collapsed": true
   },
   "outputs": [],
   "source": []
  },
  {
   "cell_type": "code",
   "execution_count": 138,
   "metadata": {},
   "outputs": [],
   "source": [
    "a = data[data.index==4911]\n",
    "ax = X[data.index==4911]"
   ]
  },
  {
   "cell_type": "code",
   "execution_count": 139,
   "metadata": {},
   "outputs": [
    {
     "data": {
      "text/plain": [
       "1998292790.250984"
      ]
     },
     "execution_count": 139,
     "metadata": {},
     "output_type": "execute_result"
    }
   ],
   "source": [
    "float((model2.predict(ax)[0] + 5*model.predict(ax)[0]) / 6)"
   ]
  },
  {
   "cell_type": "code",
   "execution_count": 140,
   "metadata": {
    "scrolled": true
   },
   "outputs": [
    {
     "data": {
      "text/plain": [
       "2028000000.0"
      ]
     },
     "execution_count": 140,
     "metadata": {},
     "output_type": "execute_result"
    }
   ],
   "source": [
    "float(a['price'])"
   ]
  },
  {
   "cell_type": "code",
   "execution_count": 141,
   "metadata": {},
   "outputs": [
    {
     "data": {
      "text/plain": [
       "89103879.0408988"
      ]
     },
     "execution_count": 141,
     "metadata": {},
     "output_type": "execute_result"
    }
   ],
   "source": [
    "abs(((model2.predict(ax)[0] + model.predict(ax)[0]) / 2) - float(a['price']))"
   ]
  },
  {
   "cell_type": "code",
   "execution_count": null,
   "metadata": {},
   "outputs": [],
   "source": []
  },
  {
   "cell_type": "code",
   "execution_count": 137,
   "metadata": {},
   "outputs": [
    {
     "data": {
      "text/html": [
       "<div>\n",
       "<style>\n",
       "    .dataframe thead tr:only-child th {\n",
       "        text-align: right;\n",
       "    }\n",
       "\n",
       "    .dataframe thead th {\n",
       "        text-align: left;\n",
       "    }\n",
       "\n",
       "    .dataframe tbody tr th {\n",
       "        vertical-align: top;\n",
       "    }\n",
       "</style>\n",
       "<table border=\"1\" class=\"dataframe\">\n",
       "  <thead>\n",
       "    <tr style=\"text-align: right;\">\n",
       "      <th></th>\n",
       "      <th>address</th>\n",
       "      <th>price</th>\n",
       "      <th>map_complex</th>\n",
       "      <th>built_time</th>\n",
       "      <th>floor</th>\n",
       "      <th>all_space</th>\n",
       "      <th>balcony</th>\n",
       "      <th>phone</th>\n",
       "      <th>parking</th>\n",
       "      <th>furniture</th>\n",
       "      <th>...</th>\n",
       "      <th>internet_проводной</th>\n",
       "      <th>internet_через TV кабель</th>\n",
       "      <th>bathroom_0</th>\n",
       "      <th>bathroom_2 с/у и более</th>\n",
       "      <th>bathroom_нет</th>\n",
       "      <th>bathroom_раздельный</th>\n",
       "      <th>bathroom_совмещенный</th>\n",
       "      <th>trngl_first_point</th>\n",
       "      <th>trngl_second_point</th>\n",
       "      <th>trngl_third_point</th>\n",
       "    </tr>\n",
       "  </thead>\n",
       "  <tbody>\n",
       "    <tr>\n",
       "      <th>4911</th>\n",
       "      <td>проспект Аль-Фараби 8</td>\n",
       "      <td>2028000000</td>\n",
       "      <td>Esentai Apartments</td>\n",
       "      <td>2010.0</td>\n",
       "      <td>22 из 24</td>\n",
       "      <td>260.0</td>\n",
       "      <td>0.0</td>\n",
       "      <td>0.0</td>\n",
       "      <td>0.0</td>\n",
       "      <td>0.0</td>\n",
       "      <td>...</td>\n",
       "      <td>0</td>\n",
       "      <td>0</td>\n",
       "      <td>1</td>\n",
       "      <td>0</td>\n",
       "      <td>0</td>\n",
       "      <td>0</td>\n",
       "      <td>0</td>\n",
       "      <td>0.114259</td>\n",
       "      <td>-0.146469</td>\n",
       "      <td>-0.000526</td>\n",
       "    </tr>\n",
       "    <tr>\n",
       "      <th>1119</th>\n",
       "      <td>Аль-Фараби 77/3</td>\n",
       "      <td>1355000000</td>\n",
       "      <td>Esentai Apartments</td>\n",
       "      <td>2015.0</td>\n",
       "      <td>20 из 21</td>\n",
       "      <td>485.0</td>\n",
       "      <td>0.0</td>\n",
       "      <td>0.0</td>\n",
       "      <td>0.0</td>\n",
       "      <td>0.0</td>\n",
       "      <td>...</td>\n",
       "      <td>0</td>\n",
       "      <td>0</td>\n",
       "      <td>1</td>\n",
       "      <td>0</td>\n",
       "      <td>0</td>\n",
       "      <td>0</td>\n",
       "      <td>0</td>\n",
       "      <td>0.140964</td>\n",
       "      <td>-0.119764</td>\n",
       "      <td>0.026179</td>\n",
       "    </tr>\n",
       "    <tr>\n",
       "      <th>4906</th>\n",
       "      <td>проспект Аль-Фараби 3</td>\n",
       "      <td>1716000000</td>\n",
       "      <td>Esentai Apartments</td>\n",
       "      <td>2010.0</td>\n",
       "      <td>23 из 24</td>\n",
       "      <td>580.0</td>\n",
       "      <td>0.0</td>\n",
       "      <td>0.0</td>\n",
       "      <td>0.0</td>\n",
       "      <td>0.0</td>\n",
       "      <td>...</td>\n",
       "      <td>0</td>\n",
       "      <td>0</td>\n",
       "      <td>1</td>\n",
       "      <td>0</td>\n",
       "      <td>0</td>\n",
       "      <td>0</td>\n",
       "      <td>0</td>\n",
       "      <td>0.099490</td>\n",
       "      <td>-0.161238</td>\n",
       "      <td>-0.015295</td>\n",
       "    </tr>\n",
       "    <tr>\n",
       "      <th>4912</th>\n",
       "      <td>проспект Аль-Фараби 32</td>\n",
       "      <td>2028000000</td>\n",
       "      <td>Esentai Apartments</td>\n",
       "      <td>2010.0</td>\n",
       "      <td>22 из 24</td>\n",
       "      <td>262.0</td>\n",
       "      <td>0.0</td>\n",
       "      <td>0.0</td>\n",
       "      <td>0.0</td>\n",
       "      <td>0.0</td>\n",
       "      <td>...</td>\n",
       "      <td>0</td>\n",
       "      <td>0</td>\n",
       "      <td>1</td>\n",
       "      <td>0</td>\n",
       "      <td>0</td>\n",
       "      <td>0</td>\n",
       "      <td>0</td>\n",
       "      <td>0.119950</td>\n",
       "      <td>-0.140778</td>\n",
       "      <td>0.005165</td>\n",
       "    </tr>\n",
       "  </tbody>\n",
       "</table>\n",
       "<p>4 rows × 59 columns</p>\n",
       "</div>"
      ],
      "text/plain": [
       "                     address       price         map_complex  built_time  \\\n",
       "4911   проспект Аль-Фараби 8  2028000000  Esentai Apartments      2010.0   \n",
       "1119         Аль-Фараби 77/3  1355000000  Esentai Apartments      2015.0   \n",
       "4906   проспект Аль-Фараби 3  1716000000  Esentai Apartments      2010.0   \n",
       "4912  проспект Аль-Фараби 32  2028000000  Esentai Apartments      2010.0   \n",
       "\n",
       "         floor  all_space  balcony  phone  parking  furniture  \\\n",
       "4911  22 из 24      260.0      0.0    0.0      0.0        0.0   \n",
       "1119  20 из 21      485.0      0.0    0.0      0.0        0.0   \n",
       "4906  23 из 24      580.0      0.0    0.0      0.0        0.0   \n",
       "4912  22 из 24      262.0      0.0    0.0      0.0        0.0   \n",
       "\n",
       "            ...         internet_проводной  internet_через TV кабель  \\\n",
       "4911        ...                          0                         0   \n",
       "1119        ...                          0                         0   \n",
       "4906        ...                          0                         0   \n",
       "4912        ...                          0                         0   \n",
       "\n",
       "      bathroom_0  bathroom_2 с/у и более  bathroom_нет  bathroom_раздельный  \\\n",
       "4911           1                       0             0                    0   \n",
       "1119           1                       0             0                    0   \n",
       "4906           1                       0             0                    0   \n",
       "4912           1                       0             0                    0   \n",
       "\n",
       "      bathroom_совмещенный  trngl_first_point  trngl_second_point  \\\n",
       "4911                     0           0.114259           -0.146469   \n",
       "1119                     0           0.140964           -0.119764   \n",
       "4906                     0           0.099490           -0.161238   \n",
       "4912                     0           0.119950           -0.140778   \n",
       "\n",
       "      trngl_third_point  \n",
       "4911          -0.000526  \n",
       "1119           0.026179  \n",
       "4906          -0.015295  \n",
       "4912           0.005165  \n",
       "\n",
       "[4 rows x 59 columns]"
      ]
     },
     "execution_count": 137,
     "metadata": {},
     "output_type": "execute_result"
    }
   ],
   "source": [
    "data[data['price'] > 1000000000]"
   ]
  },
  {
   "cell_type": "code",
   "execution_count": null,
   "metadata": {
    "collapsed": true
   },
   "outputs": [],
   "source": []
  }
 ],
 "metadata": {
  "kernelspec": {
   "display_name": "Python 3",
   "language": "python",
   "name": "python3"
  },
  "language_info": {
   "codemirror_mode": {
    "name": "ipython",
    "version": 3
   },
   "file_extension": ".py",
   "mimetype": "text/x-python",
   "name": "python",
   "nbconvert_exporter": "python",
   "pygments_lexer": "ipython3",
   "version": "3.5.2"
  }
 },
 "nbformat": 4,
 "nbformat_minor": 2
}
