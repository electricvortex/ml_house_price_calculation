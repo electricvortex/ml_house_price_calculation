{
 "cells": [
  {
   "cell_type": "code",
   "execution_count": 1,
   "metadata": {
    "collapsed": true
   },
   "outputs": [],
   "source": [
    "%matplotlib notebook\n",
    "import pandas as pd\n",
    "import numpy as np\n",
    "from matplotlib import pyplot as plt\n",
    "from sklearn.neighbors import KNeighborsRegressor\n",
    "from sklearn.ensemble import RandomForestRegressor\n",
    "import seaborn as sns\n",
    "from sklearn.model_selection import train_test_split"
   ]
  },
  {
   "cell_type": "code",
   "execution_count": 2,
   "metadata": {
    "collapsed": true
   },
   "outputs": [],
   "source": [
    "def normalization(data):\n",
    "    from sklearn.preprocessing import MinMaxScaler\n",
    "    scaler = MinMaxScaler()\n",
    "    data = scaler.fit_transform(data)\n",
    "    return data"
   ]
  },
  {
   "cell_type": "code",
   "execution_count": 3,
   "metadata": {
    "collapsed": true
   },
   "outputs": [],
   "source": [
    "data = pd.read_csv(\"dtrain.csv\", delimiter=\",\")\n",
    "data = data[data['geocode_lat'] != 0]\n",
    "zeros = data[data['geocode_lat'] == 0]"
   ]
  },
  {
   "cell_type": "code",
   "execution_count": 4,
   "metadata": {
    "collapsed": true
   },
   "outputs": [],
   "source": [
    "#choosing data\n",
    "X = data[['house_type_0', 'house_type_иное', 'house_type_каркасно-камышитовый',\n",
    "       'house_type_кирпичный', 'house_type_монолитный',\n",
    "       'house_type_панельный', 'state_0', 'state_евроремонт', 'state_свободная планировка',\n",
    "       'state_среднее', 'state_требует ремонта', 'state_хорошее',\n",
    "       'state_черновая отделка', 'door_0', 'door_бронированная', 'door_деревянная',\n",
    "       'door_металлическая', 'region_Алматы', 'region_Алматы, Алатауский р-н',\n",
    "       'region_Алматы, Алмалинский р-н', 'region_Алматы, Ауэзовский р-н',\n",
    "       'region_Алматы, Бостандыкский р-н', 'region_Алматы, Жетысуйский р-н',\n",
    "       'region_Алматы, Жетысуский р-н', 'region_Алматы, Медеуский р-н',\n",
    "       'region_Алматы, Наурызбайский р-н', 'region_Алматы, Турксибский р-н',\n",
    "       'region_Казахстан', 'internet_0', 'internet_ADSL', 'internet_оптика', 'internet_проводной',\n",
    "       'internet_через TV кабель', 'bathroom_0', 'bathroom_2 с/у и более', 'bathroom_нет',\n",
    "       'bathroom_раздельный', 'bathroom_совмещенный', 'built_time', 'all_space', 'balcony',\n",
    "          'phone', 'parking', 'furniture', 'at_the_hostel',\n",
    "          'appartments_floor', 'building_floors', 'price_for_sqr_meter']]\n",
    "X_geo = data[['geocode_lat', 'geocode_long']]\n",
    "y = data['price']\n",
    "x_columns = X.columns\n",
    "x_index = X.index\n",
    "X = normalization(X)\n",
    "X = pd.DataFrame(X, index=x_index, columns=x_columns)\n",
    "X = pd.concat([X, X_geo], axis=1)\n",
    "\n",
    "X_train, X_test, y_train, y_test = train_test_split(X, y, random_state=0)"
   ]
  },
  {
   "cell_type": "code",
   "execution_count": 12,
   "metadata": {},
   "outputs": [],
   "source": [
    "model = RandomForestRegressor(n_estimators = (len(X.columns) * 2), n_jobs = -1, oob_score = True)"
   ]
  },
  {
   "cell_type": "code",
   "execution_count": 13,
   "metadata": {},
   "outputs": [
    {
     "data": {
      "text/plain": [
       "RandomForestRegressor(bootstrap=True, criterion='mse', max_depth=None,\n",
       "           max_features='auto', max_leaf_nodes=None,\n",
       "           min_impurity_split=1e-07, min_samples_leaf=1,\n",
       "           min_samples_split=2, min_weight_fraction_leaf=0.0,\n",
       "           n_estimators=100, n_jobs=-1, oob_score=True, random_state=None,\n",
       "           verbose=0, warm_start=False)"
      ]
     },
     "execution_count": 13,
     "metadata": {},
     "output_type": "execute_result"
    }
   ],
   "source": [
    "model.fit(X_train, y_train)"
   ]
  },
  {
   "cell_type": "code",
   "execution_count": 14,
   "metadata": {},
   "outputs": [
    {
     "data": {
      "text/plain": [
       "0.96456076638045429"
      ]
     },
     "execution_count": 14,
     "metadata": {},
     "output_type": "execute_result"
    }
   ],
   "source": [
    "model.score(X_test, y_test)"
   ]
  },
  {
   "cell_type": "code",
   "execution_count": 15,
   "metadata": {},
   "outputs": [
    {
     "data": {
      "text/plain": [
       "Index(['house_type_0', 'house_type_иное', 'house_type_каркасно-камышитовый',\n",
       "       'house_type_кирпичный', 'house_type_монолитный', 'house_type_панельный',\n",
       "       'state_0', 'state_евроремонт', 'state_свободная планировка',\n",
       "       'state_среднее', 'state_требует ремонта', 'state_хорошее',\n",
       "       'state_черновая отделка', 'door_0', 'door_бронированная',\n",
       "       'door_деревянная', 'door_металлическая', 'region_Алматы',\n",
       "       'region_Алматы, Алатауский р-н', 'region_Алматы, Алмалинский р-н',\n",
       "       'region_Алматы, Ауэзовский р-н', 'region_Алматы, Бостандыкский р-н',\n",
       "       'region_Алматы, Жетысуйский р-н', 'region_Алматы, Жетысуский р-н',\n",
       "       'region_Алматы, Медеуский р-н', 'region_Алматы, Наурызбайский р-н',\n",
       "       'region_Алматы, Турксибский р-н', 'region_Казахстан', 'internet_0',\n",
       "       'internet_ADSL', 'internet_оптика', 'internet_проводной',\n",
       "       'internet_через TV кабель', 'bathroom_0', 'bathroom_2 с/у и более',\n",
       "       'bathroom_нет', 'bathroom_раздельный', 'bathroom_совмещенный',\n",
       "       'built_time', 'all_space', 'balcony', 'phone', 'parking', 'furniture',\n",
       "       'at_the_hostel', 'appartments_floor', 'building_floors',\n",
       "       'price_for_sqr_meter', 'geocode_lat', 'geocode_long'],\n",
       "      dtype='object')"
      ]
     },
     "execution_count": 15,
     "metadata": {},
     "output_type": "execute_result"
    }
   ],
   "source": [
    "X.columns"
   ]
  },
  {
   "cell_type": "code",
   "execution_count": 18,
   "metadata": {},
   "outputs": [
    {
     "name": "stdout",
     "output_type": "stream",
     "text": [
      "0.0023840209478\n",
      "0.00125328762063\n"
     ]
    }
   ],
   "source": [
    "#last two features - latitude and longitude (index 48 and 49)\n",
    "print(model.feature_importances_[48])\n",
    "print(model.feature_importances_[49])"
   ]
  },
  {
   "cell_type": "code",
   "execution_count": null,
   "metadata": {
    "collapsed": true
   },
   "outputs": [],
   "source": []
  }
 ],
 "metadata": {
  "kernelspec": {
   "display_name": "Python 3",
   "language": "python",
   "name": "python3"
  },
  "language_info": {
   "codemirror_mode": {
    "name": "ipython",
    "version": 3
   },
   "file_extension": ".py",
   "mimetype": "text/x-python",
   "name": "python",
   "nbconvert_exporter": "python",
   "pygments_lexer": "ipython3",
   "version": "3.5.2"
  }
 },
 "nbformat": 4,
 "nbformat_minor": 2
}
