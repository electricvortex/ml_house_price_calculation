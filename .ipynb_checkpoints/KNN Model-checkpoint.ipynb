{
 "cells": [
  {
   "cell_type": "code",
   "execution_count": 1,
   "metadata": {
    "collapsed": true
   },
   "outputs": [],
   "source": [
    "%matplotlib notebook\n",
    "import pandas as pd\n",
    "import numpy as np\n",
    "from matplotlib import pyplot as plt\n",
    "from sklearn.neighbors import KNeighborsRegressor\n",
    "import seaborn as sns\n",
    "from sklearn.model_selection import train_test_split"
   ]
  },
  {
   "cell_type": "code",
   "execution_count": 2,
   "metadata": {
    "collapsed": true
   },
   "outputs": [],
   "source": [
    "def normalization(data):\n",
    "    from sklearn.preprocessing import MinMaxScaler\n",
    "    scaler = MinMaxScaler()\n",
    "    data = scaler.fit_transform(data)\n",
    "    return data"
   ]
  },
  {
   "cell_type": "code",
   "execution_count": 3,
   "metadata": {
    "collapsed": true
   },
   "outputs": [],
   "source": [
    "data = pd.read_csv(\"dtrain.csv\", delimiter=\",\")\n",
    "data = data[data['geocode_lat'] != 0]\n",
    "zeros = data[data['geocode_lat'] == 0]"
   ]
  },
  {
   "cell_type": "code",
   "execution_count": 4,
   "metadata": {
    "collapsed": true
   },
   "outputs": [],
   "source": [
    "#choosing data\n",
    "X = data[['house_type_0', 'house_type_иное', 'house_type_каркасно-камышитовый',\n",
    "       'house_type_кирпичный', 'house_type_монолитный',\n",
    "       'house_type_панельный', 'state_0', 'state_евроремонт', 'state_свободная планировка',\n",
    "       'state_среднее', 'state_требует ремонта', 'state_хорошее',\n",
    "       'state_черновая отделка', 'door_0', 'door_бронированная', 'door_деревянная',\n",
    "       'door_металлическая', 'region_Алматы', 'region_Алматы, Алатауский р-н',\n",
    "       'region_Алматы, Алмалинский р-н', 'region_Алматы, Ауэзовский р-н',\n",
    "       'region_Алматы, Бостандыкский р-н', 'region_Алматы, Жетысуйский р-н',\n",
    "       'region_Алматы, Жетысуский р-н', 'region_Алматы, Медеуский р-н',\n",
    "       'region_Алматы, Наурызбайский р-н', 'region_Алматы, Турксибский р-н',\n",
    "       'region_Казахстан', 'internet_0', 'internet_ADSL', 'internet_оптика', 'internet_проводной',\n",
    "       'internet_через TV кабель', 'bathroom_0', 'bathroom_2 с/у и более', 'bathroom_нет',\n",
    "       'bathroom_раздельный', 'bathroom_совмещенный', 'built_time', 'all_space', 'balcony',\n",
    "          'phone', 'parking', 'furniture', 'at_the_hostel',\n",
    "          'appartments_floor', 'building_floors', 'price_for_sqr_meter']]\n",
    "X_geo = data[['geocode_lat', 'geocode_long', 'trngl_first_point', 'trngl_second_point', 'trngl_third_point']]\n",
    "y = data['price']\n",
    "x_columns = X.columns\n",
    "x_index = X.index\n",
    "X = normalization(X)\n",
    "X = pd.DataFrame(X, index=x_index, columns=x_columns)\n",
    "X = pd.concat([X, X_geo], axis=1)\n",
    "\n",
    "X_train, X_test, y_train, y_test = train_test_split(X, y, random_state=0)"
   ]
  },
  {
   "cell_type": "code",
   "execution_count": 5,
   "metadata": {},
   "outputs": [
    {
     "data": {
      "text/plain": [
       "KNeighborsRegressor(algorithm='auto', leaf_size=30, metric='minkowski',\n",
       "          metric_params=None, n_jobs=-1, n_neighbors=9, p=2,\n",
       "          weights='distance')"
      ]
     },
     "execution_count": 5,
     "metadata": {},
     "output_type": "execute_result"
    }
   ],
   "source": [
    "model = KNeighborsRegressor(n_neighbors = 9, n_jobs=-1, weights='distance')\n",
    "model.fit(X_train, y_train)"
   ]
  },
  {
   "cell_type": "code",
   "execution_count": 6,
   "metadata": {},
   "outputs": [
    {
     "data": {
      "text/plain": [
       "0.64371048934701269"
      ]
     },
     "execution_count": 6,
     "metadata": {},
     "output_type": "execute_result"
    }
   ],
   "source": [
    "model.score(X_test, y_test)"
   ]
  },
  {
   "cell_type": "code",
   "execution_count": 7,
   "metadata": {},
   "outputs": [
    {
     "name": "stdout",
     "output_type": "stream",
     "text": [
      "[ 0.17482961  0.51654274  0.56582939  0.51818611  0.57189837]\n"
     ]
    }
   ],
   "source": [
    "from sklearn.model_selection import cross_val_score\n",
    "scores = cross_val_score(model, X, y, cv=5)\n",
    "print(scores)"
   ]
  },
  {
   "cell_type": "code",
   "execution_count": 8,
   "metadata": {
    "collapsed": true
   },
   "outputs": [],
   "source": [
    "# var1 = 'geocode_long'\n",
    "# var2 = 'geocode_lat'\n",
    "# data.plot.scatter(x=var1, y=var2, color = (0, 0, 0), s = 15, xlim = [76.77, 77.03], ylim = [43.12, 43.43])"
   ]
  },
  {
   "cell_type": "code",
   "execution_count": 9,
   "metadata": {},
   "outputs": [
    {
     "data": {
      "text/html": [
       "<div>\n",
       "<style>\n",
       "    .dataframe thead tr:only-child th {\n",
       "        text-align: right;\n",
       "    }\n",
       "\n",
       "    .dataframe thead th {\n",
       "        text-align: left;\n",
       "    }\n",
       "\n",
       "    .dataframe tbody tr th {\n",
       "        vertical-align: top;\n",
       "    }\n",
       "</style>\n",
       "<table border=\"1\" class=\"dataframe\">\n",
       "  <thead>\n",
       "    <tr style=\"text-align: right;\">\n",
       "      <th></th>\n",
       "      <th>house_type_0</th>\n",
       "      <th>house_type_иное</th>\n",
       "      <th>house_type_каркасно-камышитовый</th>\n",
       "      <th>house_type_кирпичный</th>\n",
       "      <th>house_type_монолитный</th>\n",
       "      <th>house_type_панельный</th>\n",
       "      <th>state_0</th>\n",
       "      <th>state_евроремонт</th>\n",
       "      <th>state_свободная планировка</th>\n",
       "      <th>state_среднее</th>\n",
       "      <th>...</th>\n",
       "      <th>furniture</th>\n",
       "      <th>at_the_hostel</th>\n",
       "      <th>appartments_floor</th>\n",
       "      <th>building_floors</th>\n",
       "      <th>price_for_sqr_meter</th>\n",
       "      <th>geocode_lat</th>\n",
       "      <th>geocode_long</th>\n",
       "      <th>trngl_first_point</th>\n",
       "      <th>trngl_second_point</th>\n",
       "      <th>trngl_third_point</th>\n",
       "    </tr>\n",
       "  </thead>\n",
       "  <tbody>\n",
       "    <tr>\n",
       "      <th>8083</th>\n",
       "      <td>0.0</td>\n",
       "      <td>0.0</td>\n",
       "      <td>0.0</td>\n",
       "      <td>0.0</td>\n",
       "      <td>1.0</td>\n",
       "      <td>0.0</td>\n",
       "      <td>0.0</td>\n",
       "      <td>0.0</td>\n",
       "      <td>0.0</td>\n",
       "      <td>0.0</td>\n",
       "      <td>...</td>\n",
       "      <td>0.0</td>\n",
       "      <td>0.0</td>\n",
       "      <td>0.085714</td>\n",
       "      <td>0.196078</td>\n",
       "      <td>0.062649</td>\n",
       "      <td>43.201956</td>\n",
       "      <td>76.898196</td>\n",
       "      <td>0.190793</td>\n",
       "      <td>-0.069935</td>\n",
       "      <td>0.076008</td>\n",
       "    </tr>\n",
       "  </tbody>\n",
       "</table>\n",
       "<p>1 rows × 53 columns</p>\n",
       "</div>"
      ],
      "text/plain": [
       "      house_type_0  house_type_иное  house_type_каркасно-камышитовый  \\\n",
       "8083           0.0              0.0                              0.0   \n",
       "\n",
       "      house_type_кирпичный  house_type_монолитный  house_type_панельный  \\\n",
       "8083                   0.0                    1.0                   0.0   \n",
       "\n",
       "      state_0  state_евроремонт  state_свободная планировка  state_среднее  \\\n",
       "8083      0.0               0.0                         0.0            0.0   \n",
       "\n",
       "            ...          furniture  at_the_hostel  appartments_floor  \\\n",
       "8083        ...                0.0            0.0           0.085714   \n",
       "\n",
       "      building_floors  price_for_sqr_meter  geocode_lat  geocode_long  \\\n",
       "8083         0.196078             0.062649    43.201956     76.898196   \n",
       "\n",
       "      trngl_first_point  trngl_second_point  trngl_third_point  \n",
       "8083           0.190793           -0.069935           0.076008  \n",
       "\n",
       "[1 rows x 53 columns]"
      ]
     },
     "execution_count": 9,
     "metadata": {},
     "output_type": "execute_result"
    }
   ],
   "source": [
    "out = X_test[:1]\n",
    "out"
   ]
  },
  {
   "cell_type": "code",
   "execution_count": 10,
   "metadata": {},
   "outputs": [
    {
     "data": {
      "text/plain": [
       "8083    69664000\n",
       "Name: price, dtype: int64"
      ]
     },
     "execution_count": 10,
     "metadata": {},
     "output_type": "execute_result"
    }
   ],
   "source": [
    "y_test[:1]"
   ]
  },
  {
   "cell_type": "code",
   "execution_count": 11,
   "metadata": {},
   "outputs": [
    {
     "name": "stdout",
     "output_type": "stream",
     "text": [
      "[ 43159139.11357753]\n"
     ]
    }
   ],
   "source": [
    "print(model.predict(out))"
   ]
  },
  {
   "cell_type": "code",
   "execution_count": 12,
   "metadata": {},
   "outputs": [
    {
     "data": {
      "text/plain": [
       "(array([[ 0.10336481,  0.11777422,  1.00374796,  1.00434435,  1.00525542,\n",
       "          1.00653556,  1.0070887 ,  1.00722265,  1.00765923]]),\n",
       " array([[ 1094,  8181, 10614,  3617,  9565,  6703,  6190,  4554,  3016]]))"
      ]
     },
     "execution_count": 12,
     "metadata": {},
     "output_type": "execute_result"
    }
   ],
   "source": [
    "model.kneighbors(out)"
   ]
  },
  {
   "cell_type": "code",
   "execution_count": 13,
   "metadata": {},
   "outputs": [
    {
     "data": {
      "text/html": [
       "<div>\n",
       "<style>\n",
       "    .dataframe thead tr:only-child th {\n",
       "        text-align: right;\n",
       "    }\n",
       "\n",
       "    .dataframe thead th {\n",
       "        text-align: left;\n",
       "    }\n",
       "\n",
       "    .dataframe tbody tr th {\n",
       "        vertical-align: top;\n",
       "    }\n",
       "</style>\n",
       "<table border=\"1\" class=\"dataframe\">\n",
       "  <thead>\n",
       "    <tr style=\"text-align: right;\">\n",
       "      <th></th>\n",
       "      <th>house_type_0</th>\n",
       "      <th>house_type_иное</th>\n",
       "      <th>house_type_каркасно-камышитовый</th>\n",
       "      <th>house_type_кирпичный</th>\n",
       "      <th>house_type_монолитный</th>\n",
       "      <th>house_type_панельный</th>\n",
       "      <th>state_0</th>\n",
       "      <th>state_евроремонт</th>\n",
       "      <th>state_свободная планировка</th>\n",
       "      <th>state_среднее</th>\n",
       "      <th>...</th>\n",
       "      <th>furniture</th>\n",
       "      <th>at_the_hostel</th>\n",
       "      <th>appartments_floor</th>\n",
       "      <th>building_floors</th>\n",
       "      <th>price_for_sqr_meter</th>\n",
       "      <th>geocode_lat</th>\n",
       "      <th>geocode_long</th>\n",
       "      <th>trngl_first_point</th>\n",
       "      <th>trngl_second_point</th>\n",
       "      <th>trngl_third_point</th>\n",
       "    </tr>\n",
       "  </thead>\n",
       "  <tbody>\n",
       "    <tr>\n",
       "      <th>4554</th>\n",
       "      <td>0.0</td>\n",
       "      <td>0.0</td>\n",
       "      <td>0.0</td>\n",
       "      <td>0.0</td>\n",
       "      <td>1.0</td>\n",
       "      <td>0.0</td>\n",
       "      <td>0.0</td>\n",
       "      <td>1.0</td>\n",
       "      <td>0.0</td>\n",
       "      <td>0.0</td>\n",
       "      <td>...</td>\n",
       "      <td>1.0</td>\n",
       "      <td>0.0</td>\n",
       "      <td>0.257143</td>\n",
       "      <td>0.352941</td>\n",
       "      <td>0.043418</td>\n",
       "      <td>43.196225</td>\n",
       "      <td>76.892357</td>\n",
       "      <td>0.202363</td>\n",
       "      <td>-0.058365</td>\n",
       "      <td>0.087578</td>\n",
       "    </tr>\n",
       "  </tbody>\n",
       "</table>\n",
       "<p>1 rows × 53 columns</p>\n",
       "</div>"
      ],
      "text/plain": [
       "      house_type_0  house_type_иное  house_type_каркасно-камышитовый  \\\n",
       "4554           0.0              0.0                              0.0   \n",
       "\n",
       "      house_type_кирпичный  house_type_монолитный  house_type_панельный  \\\n",
       "4554                   0.0                    1.0                   0.0   \n",
       "\n",
       "      state_0  state_евроремонт  state_свободная планировка  state_среднее  \\\n",
       "4554      0.0               1.0                         0.0            0.0   \n",
       "\n",
       "            ...          furniture  at_the_hostel  appartments_floor  \\\n",
       "4554        ...                1.0            0.0           0.257143   \n",
       "\n",
       "      building_floors  price_for_sqr_meter  geocode_lat  geocode_long  \\\n",
       "4554         0.352941             0.043418    43.196225     76.892357   \n",
       "\n",
       "      trngl_first_point  trngl_second_point  trngl_third_point  \n",
       "4554           0.202363           -0.058365           0.087578  \n",
       "\n",
       "[1 rows x 53 columns]"
      ]
     },
     "execution_count": 13,
     "metadata": {},
     "output_type": "execute_result"
    }
   ],
   "source": [
    "X[X.index == 4554]"
   ]
  },
  {
   "cell_type": "code",
   "execution_count": 14,
   "metadata": {},
   "outputs": [
    {
     "data": {
      "text/html": [
       "<div>\n",
       "<style>\n",
       "    .dataframe thead tr:only-child th {\n",
       "        text-align: right;\n",
       "    }\n",
       "\n",
       "    .dataframe thead th {\n",
       "        text-align: left;\n",
       "    }\n",
       "\n",
       "    .dataframe tbody tr th {\n",
       "        vertical-align: top;\n",
       "    }\n",
       "</style>\n",
       "<table border=\"1\" class=\"dataframe\">\n",
       "  <thead>\n",
       "    <tr style=\"text-align: right;\">\n",
       "      <th></th>\n",
       "      <th>house_type_0</th>\n",
       "      <th>house_type_иное</th>\n",
       "      <th>house_type_каркасно-камышитовый</th>\n",
       "      <th>house_type_кирпичный</th>\n",
       "      <th>house_type_монолитный</th>\n",
       "      <th>house_type_панельный</th>\n",
       "      <th>state_0</th>\n",
       "      <th>state_евроремонт</th>\n",
       "      <th>state_свободная планировка</th>\n",
       "      <th>state_среднее</th>\n",
       "      <th>...</th>\n",
       "      <th>furniture</th>\n",
       "      <th>at_the_hostel</th>\n",
       "      <th>appartments_floor</th>\n",
       "      <th>building_floors</th>\n",
       "      <th>price_for_sqr_meter</th>\n",
       "      <th>geocode_lat</th>\n",
       "      <th>geocode_long</th>\n",
       "      <th>trngl_first_point</th>\n",
       "      <th>trngl_second_point</th>\n",
       "      <th>trngl_third_point</th>\n",
       "    </tr>\n",
       "  </thead>\n",
       "  <tbody>\n",
       "    <tr>\n",
       "      <th>3103</th>\n",
       "      <td>0.0</td>\n",
       "      <td>0.0</td>\n",
       "      <td>0.0</td>\n",
       "      <td>1.0</td>\n",
       "      <td>0.0</td>\n",
       "      <td>0.0</td>\n",
       "      <td>0.0</td>\n",
       "      <td>0.0</td>\n",
       "      <td>0.0</td>\n",
       "      <td>1.0</td>\n",
       "      <td>...</td>\n",
       "      <td>0.0</td>\n",
       "      <td>0.0</td>\n",
       "      <td>0.014286</td>\n",
       "      <td>0.098039</td>\n",
       "      <td>0.04532</td>\n",
       "      <td>43.261505</td>\n",
       "      <td>76.954835</td>\n",
       "      <td>0.074605</td>\n",
       "      <td>-0.186123</td>\n",
       "      <td>-0.04018</td>\n",
       "    </tr>\n",
       "  </tbody>\n",
       "</table>\n",
       "<p>1 rows × 53 columns</p>\n",
       "</div>"
      ],
      "text/plain": [
       "      house_type_0  house_type_иное  house_type_каркасно-камышитовый  \\\n",
       "3103           0.0              0.0                              0.0   \n",
       "\n",
       "      house_type_кирпичный  house_type_монолитный  house_type_панельный  \\\n",
       "3103                   1.0                    0.0                   0.0   \n",
       "\n",
       "      state_0  state_евроремонт  state_свободная планировка  state_среднее  \\\n",
       "3103      0.0               0.0                         0.0            1.0   \n",
       "\n",
       "            ...          furniture  at_the_hostel  appartments_floor  \\\n",
       "3103        ...                0.0            0.0           0.014286   \n",
       "\n",
       "      building_floors  price_for_sqr_meter  geocode_lat  geocode_long  \\\n",
       "3103         0.098039              0.04532    43.261505     76.954835   \n",
       "\n",
       "      trngl_first_point  trngl_second_point  trngl_third_point  \n",
       "3103           0.074605           -0.186123           -0.04018  \n",
       "\n",
       "[1 rows x 53 columns]"
      ]
     },
     "execution_count": 14,
     "metadata": {},
     "output_type": "execute_result"
    }
   ],
   "source": [
    "X[X.index == 3103]"
   ]
  },
  {
   "cell_type": "code",
   "execution_count": 15,
   "metadata": {},
   "outputs": [
    {
     "data": {
      "text/html": [
       "<div>\n",
       "<style>\n",
       "    .dataframe thead tr:only-child th {\n",
       "        text-align: right;\n",
       "    }\n",
       "\n",
       "    .dataframe thead th {\n",
       "        text-align: left;\n",
       "    }\n",
       "\n",
       "    .dataframe tbody tr th {\n",
       "        vertical-align: top;\n",
       "    }\n",
       "</style>\n",
       "<table border=\"1\" class=\"dataframe\">\n",
       "  <thead>\n",
       "    <tr style=\"text-align: right;\">\n",
       "      <th></th>\n",
       "      <th>house_type_0</th>\n",
       "      <th>house_type_иное</th>\n",
       "      <th>house_type_каркасно-камышитовый</th>\n",
       "      <th>house_type_кирпичный</th>\n",
       "      <th>house_type_монолитный</th>\n",
       "      <th>house_type_панельный</th>\n",
       "      <th>state_0</th>\n",
       "      <th>state_евроремонт</th>\n",
       "      <th>state_свободная планировка</th>\n",
       "      <th>state_среднее</th>\n",
       "      <th>...</th>\n",
       "      <th>furniture</th>\n",
       "      <th>at_the_hostel</th>\n",
       "      <th>appartments_floor</th>\n",
       "      <th>building_floors</th>\n",
       "      <th>price_for_sqr_meter</th>\n",
       "      <th>geocode_lat</th>\n",
       "      <th>geocode_long</th>\n",
       "      <th>trngl_first_point</th>\n",
       "      <th>trngl_second_point</th>\n",
       "      <th>trngl_third_point</th>\n",
       "    </tr>\n",
       "  </thead>\n",
       "  <tbody>\n",
       "    <tr>\n",
       "      <th>6703</th>\n",
       "      <td>0.0</td>\n",
       "      <td>0.0</td>\n",
       "      <td>0.0</td>\n",
       "      <td>0.0</td>\n",
       "      <td>1.0</td>\n",
       "      <td>0.0</td>\n",
       "      <td>0.0</td>\n",
       "      <td>1.0</td>\n",
       "      <td>0.0</td>\n",
       "      <td>0.0</td>\n",
       "      <td>...</td>\n",
       "      <td>0.5</td>\n",
       "      <td>0.0</td>\n",
       "      <td>0.028571</td>\n",
       "      <td>0.313725</td>\n",
       "      <td>0.057495</td>\n",
       "      <td>43.206766</td>\n",
       "      <td>76.884964</td>\n",
       "      <td>0.199215</td>\n",
       "      <td>-0.061513</td>\n",
       "      <td>0.08443</td>\n",
       "    </tr>\n",
       "  </tbody>\n",
       "</table>\n",
       "<p>1 rows × 53 columns</p>\n",
       "</div>"
      ],
      "text/plain": [
       "      house_type_0  house_type_иное  house_type_каркасно-камышитовый  \\\n",
       "6703           0.0              0.0                              0.0   \n",
       "\n",
       "      house_type_кирпичный  house_type_монолитный  house_type_панельный  \\\n",
       "6703                   0.0                    1.0                   0.0   \n",
       "\n",
       "      state_0  state_евроремонт  state_свободная планировка  state_среднее  \\\n",
       "6703      0.0               1.0                         0.0            0.0   \n",
       "\n",
       "            ...          furniture  at_the_hostel  appartments_floor  \\\n",
       "6703        ...                0.5            0.0           0.028571   \n",
       "\n",
       "      building_floors  price_for_sqr_meter  geocode_lat  geocode_long  \\\n",
       "6703         0.313725             0.057495    43.206766     76.884964   \n",
       "\n",
       "      trngl_first_point  trngl_second_point  trngl_third_point  \n",
       "6703           0.199215           -0.061513            0.08443  \n",
       "\n",
       "[1 rows x 53 columns]"
      ]
     },
     "execution_count": 15,
     "metadata": {},
     "output_type": "execute_result"
    }
   ],
   "source": [
    "X[X.index == 6703]"
   ]
  },
  {
   "cell_type": "code",
   "execution_count": 16,
   "metadata": {},
   "outputs": [
    {
     "data": {
      "text/html": [
       "<div>\n",
       "<style>\n",
       "    .dataframe thead tr:only-child th {\n",
       "        text-align: right;\n",
       "    }\n",
       "\n",
       "    .dataframe thead th {\n",
       "        text-align: left;\n",
       "    }\n",
       "\n",
       "    .dataframe tbody tr th {\n",
       "        vertical-align: top;\n",
       "    }\n",
       "</style>\n",
       "<table border=\"1\" class=\"dataframe\">\n",
       "  <thead>\n",
       "    <tr style=\"text-align: right;\">\n",
       "      <th></th>\n",
       "      <th>house_type_0</th>\n",
       "      <th>house_type_иное</th>\n",
       "      <th>house_type_каркасно-камышитовый</th>\n",
       "      <th>house_type_кирпичный</th>\n",
       "      <th>house_type_монолитный</th>\n",
       "      <th>house_type_панельный</th>\n",
       "      <th>state_0</th>\n",
       "      <th>state_евроремонт</th>\n",
       "      <th>state_свободная планировка</th>\n",
       "      <th>state_среднее</th>\n",
       "      <th>...</th>\n",
       "      <th>furniture</th>\n",
       "      <th>at_the_hostel</th>\n",
       "      <th>appartments_floor</th>\n",
       "      <th>building_floors</th>\n",
       "      <th>price_for_sqr_meter</th>\n",
       "      <th>geocode_lat</th>\n",
       "      <th>geocode_long</th>\n",
       "      <th>trngl_first_point</th>\n",
       "      <th>trngl_second_point</th>\n",
       "      <th>trngl_third_point</th>\n",
       "    </tr>\n",
       "  </thead>\n",
       "  <tbody>\n",
       "    <tr>\n",
       "      <th>3617</th>\n",
       "      <td>0.0</td>\n",
       "      <td>0.0</td>\n",
       "      <td>0.0</td>\n",
       "      <td>0.0</td>\n",
       "      <td>0.0</td>\n",
       "      <td>1.0</td>\n",
       "      <td>0.0</td>\n",
       "      <td>1.0</td>\n",
       "      <td>0.0</td>\n",
       "      <td>0.0</td>\n",
       "      <td>...</td>\n",
       "      <td>0.5</td>\n",
       "      <td>0.0</td>\n",
       "      <td>0.014286</td>\n",
       "      <td>0.098039</td>\n",
       "      <td>0.032304</td>\n",
       "      <td>43.208317</td>\n",
       "      <td>76.89966</td>\n",
       "      <td>0.182968</td>\n",
       "      <td>-0.07776</td>\n",
       "      <td>0.068183</td>\n",
       "    </tr>\n",
       "  </tbody>\n",
       "</table>\n",
       "<p>1 rows × 53 columns</p>\n",
       "</div>"
      ],
      "text/plain": [
       "      house_type_0  house_type_иное  house_type_каркасно-камышитовый  \\\n",
       "3617           0.0              0.0                              0.0   \n",
       "\n",
       "      house_type_кирпичный  house_type_монолитный  house_type_панельный  \\\n",
       "3617                   0.0                    0.0                   1.0   \n",
       "\n",
       "      state_0  state_евроремонт  state_свободная планировка  state_среднее  \\\n",
       "3617      0.0               1.0                         0.0            0.0   \n",
       "\n",
       "            ...          furniture  at_the_hostel  appartments_floor  \\\n",
       "3617        ...                0.5            0.0           0.014286   \n",
       "\n",
       "      building_floors  price_for_sqr_meter  geocode_lat  geocode_long  \\\n",
       "3617         0.098039             0.032304    43.208317      76.89966   \n",
       "\n",
       "      trngl_first_point  trngl_second_point  trngl_third_point  \n",
       "3617           0.182968            -0.07776           0.068183  \n",
       "\n",
       "[1 rows x 53 columns]"
      ]
     },
     "execution_count": 16,
     "metadata": {},
     "output_type": "execute_result"
    }
   ],
   "source": [
    "X[X.index == 3617]"
   ]
  },
  {
   "cell_type": "code",
   "execution_count": 17,
   "metadata": {},
   "outputs": [
    {
     "data": {
      "text/html": [
       "<div>\n",
       "<style>\n",
       "    .dataframe thead tr:only-child th {\n",
       "        text-align: right;\n",
       "    }\n",
       "\n",
       "    .dataframe thead th {\n",
       "        text-align: left;\n",
       "    }\n",
       "\n",
       "    .dataframe tbody tr th {\n",
       "        vertical-align: top;\n",
       "    }\n",
       "</style>\n",
       "<table border=\"1\" class=\"dataframe\">\n",
       "  <thead>\n",
       "    <tr style=\"text-align: right;\">\n",
       "      <th></th>\n",
       "      <th>house_type_0</th>\n",
       "      <th>house_type_иное</th>\n",
       "      <th>house_type_каркасно-камышитовый</th>\n",
       "      <th>house_type_кирпичный</th>\n",
       "      <th>house_type_монолитный</th>\n",
       "      <th>house_type_панельный</th>\n",
       "      <th>state_0</th>\n",
       "      <th>state_евроремонт</th>\n",
       "      <th>state_свободная планировка</th>\n",
       "      <th>state_среднее</th>\n",
       "      <th>...</th>\n",
       "      <th>furniture</th>\n",
       "      <th>at_the_hostel</th>\n",
       "      <th>appartments_floor</th>\n",
       "      <th>building_floors</th>\n",
       "      <th>price_for_sqr_meter</th>\n",
       "      <th>geocode_lat</th>\n",
       "      <th>geocode_long</th>\n",
       "      <th>trngl_first_point</th>\n",
       "      <th>trngl_second_point</th>\n",
       "      <th>trngl_third_point</th>\n",
       "    </tr>\n",
       "  </thead>\n",
       "  <tbody>\n",
       "    <tr>\n",
       "      <th>5868</th>\n",
       "      <td>0.0</td>\n",
       "      <td>0.0</td>\n",
       "      <td>0.0</td>\n",
       "      <td>1.0</td>\n",
       "      <td>0.0</td>\n",
       "      <td>0.0</td>\n",
       "      <td>0.0</td>\n",
       "      <td>1.0</td>\n",
       "      <td>0.0</td>\n",
       "      <td>0.0</td>\n",
       "      <td>...</td>\n",
       "      <td>1.0</td>\n",
       "      <td>0.0</td>\n",
       "      <td>0.057143</td>\n",
       "      <td>0.098039</td>\n",
       "      <td>0.056539</td>\n",
       "      <td>43.199577</td>\n",
       "      <td>76.893174</td>\n",
       "      <td>0.198194</td>\n",
       "      <td>-0.062534</td>\n",
       "      <td>0.083409</td>\n",
       "    </tr>\n",
       "  </tbody>\n",
       "</table>\n",
       "<p>1 rows × 53 columns</p>\n",
       "</div>"
      ],
      "text/plain": [
       "      house_type_0  house_type_иное  house_type_каркасно-камышитовый  \\\n",
       "5868           0.0              0.0                              0.0   \n",
       "\n",
       "      house_type_кирпичный  house_type_монолитный  house_type_панельный  \\\n",
       "5868                   1.0                    0.0                   0.0   \n",
       "\n",
       "      state_0  state_евроремонт  state_свободная планировка  state_среднее  \\\n",
       "5868      0.0               1.0                         0.0            0.0   \n",
       "\n",
       "            ...          furniture  at_the_hostel  appartments_floor  \\\n",
       "5868        ...                1.0            0.0           0.057143   \n",
       "\n",
       "      building_floors  price_for_sqr_meter  geocode_lat  geocode_long  \\\n",
       "5868         0.098039             0.056539    43.199577     76.893174   \n",
       "\n",
       "      trngl_first_point  trngl_second_point  trngl_third_point  \n",
       "5868           0.198194           -0.062534           0.083409  \n",
       "\n",
       "[1 rows x 53 columns]"
      ]
     },
     "execution_count": 17,
     "metadata": {},
     "output_type": "execute_result"
    }
   ],
   "source": [
    "X[X.index == 5868]"
   ]
  },
  {
   "cell_type": "code",
   "execution_count": null,
   "metadata": {
    "collapsed": true
   },
   "outputs": [],
   "source": []
  }
 ],
 "metadata": {
  "kernelspec": {
   "display_name": "Python 3",
   "language": "python",
   "name": "python3"
  },
  "language_info": {
   "codemirror_mode": {
    "name": "ipython",
    "version": 3
   },
   "file_extension": ".py",
   "mimetype": "text/x-python",
   "name": "python",
   "nbconvert_exporter": "python",
   "pygments_lexer": "ipython3",
   "version": "3.5.2"
  }
 },
 "nbformat": 4,
 "nbformat_minor": 2
}
