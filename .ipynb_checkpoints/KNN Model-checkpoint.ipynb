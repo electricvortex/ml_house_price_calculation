{
 "cells": [
  {
   "cell_type": "code",
   "execution_count": 35,
   "metadata": {
    "collapsed": true
   },
   "outputs": [],
   "source": [
    "%matplotlib notebook\n",
    "import pandas as pd\n",
    "import numpy as np\n",
    "from sklearn.utils import shuffle\n",
    "from matplotlib import pyplot as plt\n",
    "from sklearn.neighbors import KNeighborsRegressor\n",
    "import seaborn as sns\n",
    "from sklearn.model_selection import train_test_split\n",
    "import sys\n",
    "import math\n",
    "import warnings\n",
    "warnings.filterwarnings('ignore')"
   ]
  },
  {
   "cell_type": "code",
   "execution_count": 36,
   "metadata": {
    "collapsed": true
   },
   "outputs": [],
   "source": [
    "def normalization(data):\n",
    "    from sklearn.preprocessing import MinMaxScaler\n",
    "    scaler = MinMaxScaler()\n",
    "    data = scaler.fit_transform(data)\n",
    "    return data"
   ]
  },
  {
   "cell_type": "code",
   "execution_count": 37,
   "metadata": {
    "collapsed": true
   },
   "outputs": [],
   "source": [
    "df = pd.read_csv(\"new_dtrain.csv\", delimiter=\",\")\n",
    "zeros = df[df['latitude'] == 0]\n",
    "df = df[df['latitude'] != 0]\n",
    "subset = list(df.columns.values)\n",
    "subset = subset.remove('price')\n",
    "data = df.drop_duplicates(subset = subset)\n",
    "#print(len(data[data.price > 1000000000]))\n",
    "data = data[data.price < 1000000000]\n",
    "data = data[data.price < 800000000]\n",
    "data = shuffle(data)\n",
    "data = data.reset_index(drop=True)"
   ]
  },
  {
   "cell_type": "code",
   "execution_count": 38,
   "metadata": {
    "collapsed": true
   },
   "outputs": [],
   "source": [
    "# data = log_feature(data)\n",
    "#choosing data\n",
    "X = data[['room_number', 'house_type',\n",
    "       'built_time', 'appartments_floor', 'all_space', 'state', 'bathroom',\n",
    "       'balcony', 'balcony_glassed', 'door', 'phone', 'ceiling', 'safety',\n",
    "       'at_the_hotel', 'internet', 'furniture', 'parking', 'latitude',\n",
    "       'longitude', 'building_floors', 'map_complex', 'floor',\n",
    "          'trngl_first_point', 'trngl_second_point', 'trngl_third_point']]\n",
    "# X_geo = data[['geocode_lat', 'geocode_long', 'trngl_first_point', 'trngl_second_point', 'trngl_third_point']]\n",
    "y = data['price']\n",
    "# x_columns = X.columns\n",
    "# x_index = X.index\n",
    "# X = normalization(X)\n",
    "# X = pd.DataFrame(X, index=x_index, columns=x_columns)\n",
    "# X = pd.concat([X, X_geo], axis=1)\n",
    "\n",
    "X_train, X_test, y_train, y_test = train_test_split(X, y, random_state=7)"
   ]
  },
  {
   "cell_type": "code",
   "execution_count": 39,
   "metadata": {},
   "outputs": [
    {
     "data": {
      "text/plain": [
       "KNeighborsRegressor(algorithm='auto', leaf_size=30, metric='minkowski',\n",
       "          metric_params=None, n_jobs=-1, n_neighbors=5, p=1,\n",
       "          weights='distance')"
      ]
     },
     "execution_count": 39,
     "metadata": {},
     "output_type": "execute_result"
    }
   ],
   "source": [
    "model = KNeighborsRegressor(n_neighbors = 5, n_jobs=-1, weights='distance', p=1)\n",
    "model.fit(X_train, y_train)"
   ]
  },
  {
   "cell_type": "code",
   "execution_count": 40,
   "metadata": {
    "collapsed": true
   },
   "outputs": [],
   "source": [
    "# from sklearn.model_selection import cross_val_score\n",
    "# scores = cross_val_score(model, X, y, cv=5)\n",
    "# print(scores)"
   ]
  },
  {
   "cell_type": "code",
   "execution_count": 41,
   "metadata": {
    "collapsed": true
   },
   "outputs": [],
   "source": [
    "# var1 = 'longitude'\n",
    "# var2 = 'latitude'\n",
    "\n",
    "# data.plot.scatter(x=var1, y=var2, color = (0, 0, 0), s = 15, xlim = [76.70, 77.10], ylim = [43.10, 43.45])"
   ]
  },
  {
   "cell_type": "code",
   "execution_count": 42,
   "metadata": {},
   "outputs": [
    {
     "name": "stdout",
     "output_type": "stream",
     "text": [
      "Mean absolute error:  3253155.14908\n",
      "Mean squared error:  1.62699011399e+14\n",
      "R2 score:  0.854442134728\n"
     ]
    }
   ],
   "source": [
    "from sklearn.metrics import mean_absolute_error, mean_squared_error\n",
    "print(\"Mean absolute error: \", mean_absolute_error(model.predict(X_test), y_test))\n",
    "print(\"Mean squared error: \", mean_squared_error(model.predict(X_test), y_test))\n",
    "print(\"R2 score: \", model.score(X_test, y_test))"
   ]
  },
  {
   "cell_type": "code",
   "execution_count": 43,
   "metadata": {
    "collapsed": true
   },
   "outputs": [],
   "source": [
    "#firstly you should get an interval (confidence_interval function)\n",
    "def price_range(price, interval):\n",
    "    #confidence interval should be Global variable!!!\n",
    "    upper_price = price + interval\n",
    "    lower_price = price - interval\n",
    "    return upper_price, price, lower_price"
   ]
  },
  {
   "cell_type": "code",
   "execution_count": 44,
   "metadata": {
    "collapsed": true
   },
   "outputs": [],
   "source": [
    "#confidence interval for whole DataFrame\n",
    "def confidence_interval(data):\n",
    "    const = 3.62\n",
    "    price = data['price']\n",
    "    std = np.std(price)\n",
    "    Z = std/(math.sqrt(len(price)))\n",
    "    return (Z * const)"
   ]
  },
  {
   "cell_type": "code",
   "execution_count": 45,
   "metadata": {
    "collapsed": true
   },
   "outputs": [],
   "source": [
    "#Substract 7% from answer of the model\n",
    "def percent_(price):\n",
    "    x = (7*price)/100\n",
    "    price -= x\n",
    "    return price"
   ]
  },
  {
   "cell_type": "code",
   "execution_count": null,
   "metadata": {
    "collapsed": true
   },
   "outputs": [],
   "source": []
  }
 ],
 "metadata": {
  "kernelspec": {
   "display_name": "Python 3",
   "language": "python",
   "name": "python3"
  },
  "language_info": {
   "codemirror_mode": {
    "name": "ipython",
    "version": 3
   },
   "file_extension": ".py",
   "mimetype": "text/x-python",
   "name": "python",
   "nbconvert_exporter": "python",
   "pygments_lexer": "ipython3",
   "version": "3.5.2"
  }
 },
 "nbformat": 4,
 "nbformat_minor": 2
}
