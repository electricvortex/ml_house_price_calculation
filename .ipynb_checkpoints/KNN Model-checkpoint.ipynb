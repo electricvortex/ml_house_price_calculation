{
 "cells": [
  {
   "cell_type": "code",
   "execution_count": 95,
   "metadata": {
    "collapsed": true
   },
   "outputs": [],
   "source": [
    "%matplotlib notebook\n",
    "import pandas as pd\n",
    "import numpy as np\n",
    "from sklearn.utils import shuffle\n",
    "from matplotlib import pyplot as plt\n",
    "from sklearn.neighbors import KNeighborsRegressor\n",
    "import seaborn as sns\n",
    "from sklearn.model_selection import train_test_split\n",
    "import sys\n",
    "import math\n",
    "import warnings\n",
    "warnings.filterwarnings('ignore')"
   ]
  },
  {
   "cell_type": "code",
   "execution_count": 96,
   "metadata": {
    "collapsed": true
   },
   "outputs": [],
   "source": [
    "# def normalization(data):\n",
    "#     from sklearn.preprocessing import MinMaxScaler\n",
    "#     scaler = MinMaxScaler()\n",
    "#     data = scaler.fit_transform(data)\n",
    "#     return data"
   ]
  },
  {
   "cell_type": "code",
   "execution_count": 97,
   "metadata": {
    "collapsed": true
   },
   "outputs": [],
   "source": [
    "df = pd.read_csv(\"new_dtrain.csv\", delimiter=\",\")\n",
    "zeros = df[df['latitude'] == 0]\n",
    "df = df[df['latitude'] != 0]\n",
    "subset = list(df.columns.values)\n",
    "subset = subset.remove('price')\n",
    "data = df.drop_duplicates(subset = subset)\n",
    "#print(len(data[data.price > 1000000000]))\n",
    "data = data[data.price < 1000000000]\n",
    "data = data[data.price < 800000000]\n",
    "data = shuffle(data)\n",
    "data = data.reset_index(drop=True)"
   ]
  },
  {
   "cell_type": "code",
   "execution_count": 98,
   "metadata": {
    "collapsed": true
   },
   "outputs": [],
   "source": [
    "# data = log_feature(data)\n",
    "#choosing data\n",
    "X = data[['room_number', 'house_type',\n",
    "       'built_time', 'appartments_floor', 'all_space', 'state', 'bathroom',\n",
    "       'balcony', 'balcony_glassed', 'door', 'phone', 'ceiling', 'safety',\n",
    "       'at_the_hotel', 'internet', 'furniture', 'parking', 'latitude',\n",
    "       'longitude', 'building_floors', 'map_complex', 'floor',\n",
    "          'trngl_first_point', 'trngl_second_point', 'trngl_third_point']]\n",
    "# X_geo = data[['geocode_lat', 'geocode_long', 'trngl_first_point', 'trngl_second_point', 'trngl_third_point']]\n",
    "y = data['price']\n",
    "# x_columns = X.columns\n",
    "# x_index = X.index\n",
    "# X = normalization(X)\n",
    "# X = pd.DataFrame(X, index=x_index, columns=x_columns)\n",
    "# X = pd.concat([X, X_geo], axis=1)\n",
    "\n",
    "X_train, X_test, y_train, y_test = train_test_split(X, y, random_state=7)"
   ]
  },
  {
   "cell_type": "code",
   "execution_count": 99,
   "metadata": {},
   "outputs": [
    {
     "data": {
      "text/plain": [
       "KNeighborsRegressor(algorithm='auto', leaf_size=30, metric='minkowski',\n",
       "          metric_params=None, n_jobs=-1, n_neighbors=5, p=1,\n",
       "          weights='distance')"
      ]
     },
     "execution_count": 99,
     "metadata": {},
     "output_type": "execute_result"
    }
   ],
   "source": [
    "model = KNeighborsRegressor(n_neighbors = 5, n_jobs=-1, weights='distance', p=1)\n",
    "model.fit(X_train, y_train)"
   ]
  },
  {
   "cell_type": "code",
   "execution_count": 100,
   "metadata": {
    "collapsed": true
   },
   "outputs": [],
   "source": [
    "# from sklearn.model_selection import cross_val_score\n",
    "# scores = cross_val_score(model, X, y, cv=5)\n",
    "# print(scores)"
   ]
  },
  {
   "cell_type": "code",
   "execution_count": 101,
   "metadata": {
    "collapsed": true
   },
   "outputs": [],
   "source": [
    "# var1 = 'longitude'\n",
    "# var2 = 'latitude'\n",
    "\n",
    "# data.plot.scatter(x=var1, y=var2, color = (0, 0, 0), s = 15, xlim = [76.70, 77.10], ylim = [43.10, 43.45])"
   ]
  },
  {
   "cell_type": "code",
   "execution_count": 102,
   "metadata": {},
   "outputs": [
    {
     "name": "stdout",
     "output_type": "stream",
     "text": [
      "Mean absolute error:  3073525.18152\n",
      "Mean squared error:  1.210387335e+14\n",
      "R2 score:  0.89145438923\n"
     ]
    }
   ],
   "source": [
    "from sklearn.metrics import mean_absolute_error, mean_squared_error\n",
    "print(\"Mean absolute error: \", mean_absolute_error(model.predict(X_test), y_test))\n",
    "print(\"Mean squared error: \", mean_squared_error(model.predict(X_test), y_test))\n",
    "print(\"R2 score: \", model.score(X_test, y_test))"
   ]
  },
  {
   "cell_type": "code",
   "execution_count": 103,
   "metadata": {
    "collapsed": true
   },
   "outputs": [],
   "source": [
    "#firstly you should get an interval (confidence_interval function)\n",
    "def price_range(price, interval):\n",
    "    #confidence interval should be Global variable!!!\n",
    "    upper_price = price + interval\n",
    "    lower_price = price - interval\n",
    "    return upper_price, price, lower_price"
   ]
  },
  {
   "cell_type": "code",
   "execution_count": 104,
   "metadata": {
    "collapsed": true
   },
   "outputs": [],
   "source": [
    "#confidence interval for whole DataFrame\n",
    "def confidence_interval(data):\n",
    "    const = 3.62\n",
    "    price = data['price']\n",
    "    std = np.std(price)\n",
    "    Z = std/(math.sqrt(len(price)))\n",
    "    return (Z * const)"
   ]
  },
  {
   "cell_type": "code",
   "execution_count": 105,
   "metadata": {},
   "outputs": [
    {
     "ename": "SyntaxError",
     "evalue": "unexpected EOF while parsing (<ipython-input-105-2f6bb1b65b30>, line 8)",
     "output_type": "error",
     "traceback": [
      "\u001b[0;36m  File \u001b[0;32m\"<ipython-input-105-2f6bb1b65b30>\"\u001b[0;36m, line \u001b[0;32m8\u001b[0m\n\u001b[0;31m    \u001b[0m\n\u001b[0m    ^\u001b[0m\n\u001b[0;31mSyntaxError\u001b[0m\u001b[0;31m:\u001b[0m unexpected EOF while parsing\n"
     ]
    }
   ],
   "source": [
    "#Substract 7% from answer of the model\n",
    "def percent_(price):\n",
    "    x = (7*price)/100\n",
    "    price -= x\n",
    "    return price\n",
    "\n",
    "def find_neighbors(data, point):\n",
    "    "
   ]
  },
  {
   "cell_type": "code",
   "execution_count": null,
   "metadata": {},
   "outputs": [],
   "source": [
    "data.head()"
   ]
  },
  {
   "cell_type": "code",
   "execution_count": 106,
   "metadata": {},
   "outputs": [
    {
     "data": {
      "text/plain": [
       "27515    16900000\n",
       "Name: price, dtype: int64"
      ]
     },
     "execution_count": 106,
     "metadata": {},
     "output_type": "execute_result"
    }
   ],
   "source": [
    "out = X_test[-1:]\n",
    "y_test[-1:]"
   ]
  },
  {
   "cell_type": "code",
   "execution_count": 107,
   "metadata": {},
   "outputs": [
    {
     "data": {
      "text/plain": [
       "array([ 17524502.38344103])"
      ]
     },
     "execution_count": 107,
     "metadata": {},
     "output_type": "execute_result"
    }
   ],
   "source": [
    "out_pred = model.predict(out)\n",
    "out_pred"
   ]
  },
  {
   "cell_type": "code",
   "execution_count": 108,
   "metadata": {},
   "outputs": [],
   "source": [
    "error = abs(y_test[-1:] - out_pred)"
   ]
  },
  {
   "cell_type": "code",
   "execution_count": 109,
   "metadata": {},
   "outputs": [
    {
     "data": {
      "text/plain": [
       "27515    624502.383441\n",
       "Name: price, dtype: float64"
      ]
     },
     "execution_count": 109,
     "metadata": {},
     "output_type": "execute_result"
    }
   ],
   "source": [
    "error"
   ]
  },
  {
   "cell_type": "code",
   "execution_count": 110,
   "metadata": {},
   "outputs": [
    {
     "data": {
      "text/plain": [
       "(array([[  3.493927,   8.884897,  10.3     ,  10.901846,  11.897281]]),\n",
       " array([[19152, 13162, 14603,  8238, 15389]]))"
      ]
     },
     "execution_count": 110,
     "metadata": {},
     "output_type": "execute_result"
    }
   ],
   "source": [
    "model.kneighbors(out)"
   ]
  },
  {
   "cell_type": "code",
   "execution_count": 113,
   "metadata": {},
   "outputs": [
    {
     "data": {
      "text/html": [
       "<div>\n",
       "<style>\n",
       "    .dataframe thead tr:only-child th {\n",
       "        text-align: right;\n",
       "    }\n",
       "\n",
       "    .dataframe thead th {\n",
       "        text-align: left;\n",
       "    }\n",
       "\n",
       "    .dataframe tbody tr th {\n",
       "        vertical-align: top;\n",
       "    }\n",
       "</style>\n",
       "<table border=\"1\" class=\"dataframe\">\n",
       "  <thead>\n",
       "    <tr style=\"text-align: right;\">\n",
       "      <th></th>\n",
       "      <th>Index</th>\n",
       "      <th>address</th>\n",
       "      <th>room_number</th>\n",
       "      <th>price</th>\n",
       "      <th>map_complex</th>\n",
       "      <th>house_type</th>\n",
       "      <th>built_time</th>\n",
       "      <th>appartments_floor</th>\n",
       "      <th>all_space</th>\n",
       "      <th>state</th>\n",
       "      <th>...</th>\n",
       "      <th>internet</th>\n",
       "      <th>furniture</th>\n",
       "      <th>floor</th>\n",
       "      <th>parking</th>\n",
       "      <th>latitude</th>\n",
       "      <th>longitude</th>\n",
       "      <th>building_floors</th>\n",
       "      <th>trngl_first_point</th>\n",
       "      <th>trngl_second_point</th>\n",
       "      <th>trngl_third_point</th>\n",
       "    </tr>\n",
       "  </thead>\n",
       "  <tbody>\n",
       "    <tr>\n",
       "      <th>19152</th>\n",
       "      <td>8385</td>\n",
       "      <td>Басенова 41 — Розыбакиева</td>\n",
       "      <td>3</td>\n",
       "      <td>18000000</td>\n",
       "      <td>1.0</td>\n",
       "      <td>2</td>\n",
       "      <td>1975</td>\n",
       "      <td>2.0</td>\n",
       "      <td>55.0</td>\n",
       "      <td>5</td>\n",
       "      <td>...</td>\n",
       "      <td>0</td>\n",
       "      <td>0.5</td>\n",
       "      <td>0</td>\n",
       "      <td>0</td>\n",
       "      <td>43.221201</td>\n",
       "      <td>76.889868</td>\n",
       "      <td>5.0</td>\n",
       "      <td>17.9876</td>\n",
       "      <td>-8.0852</td>\n",
       "      <td>6.5091</td>\n",
       "    </tr>\n",
       "  </tbody>\n",
       "</table>\n",
       "<p>1 rows × 28 columns</p>\n",
       "</div>"
      ],
      "text/plain": [
       "       Index                       address  room_number     price  \\\n",
       "19152   8385    Басенова 41 — Розыбакиева             3  18000000   \n",
       "\n",
       "       map_complex  house_type  built_time  appartments_floor  all_space  \\\n",
       "19152          1.0           2        1975                2.0       55.0   \n",
       "\n",
       "       state        ...          internet  furniture  floor  parking  \\\n",
       "19152      5        ...                 0        0.5      0        0   \n",
       "\n",
       "        latitude  longitude  building_floors  trngl_first_point  \\\n",
       "19152  43.221201  76.889868              5.0            17.9876   \n",
       "\n",
       "       trngl_second_point  trngl_third_point  \n",
       "19152             -8.0852             6.5091  \n",
       "\n",
       "[1 rows x 28 columns]"
      ]
     },
     "execution_count": 113,
     "metadata": {},
     "output_type": "execute_result"
    }
   ],
   "source": [
    "data[data.index == 19152]"
   ]
  },
  {
   "cell_type": "code",
   "execution_count": 114,
   "metadata": {},
   "outputs": [
    {
     "data": {
      "text/html": [
       "<div>\n",
       "<style>\n",
       "    .dataframe thead tr:only-child th {\n",
       "        text-align: right;\n",
       "    }\n",
       "\n",
       "    .dataframe thead th {\n",
       "        text-align: left;\n",
       "    }\n",
       "\n",
       "    .dataframe tbody tr th {\n",
       "        vertical-align: top;\n",
       "    }\n",
       "</style>\n",
       "<table border=\"1\" class=\"dataframe\">\n",
       "  <thead>\n",
       "    <tr style=\"text-align: right;\">\n",
       "      <th></th>\n",
       "      <th>Index</th>\n",
       "      <th>address</th>\n",
       "      <th>room_number</th>\n",
       "      <th>price</th>\n",
       "      <th>map_complex</th>\n",
       "      <th>house_type</th>\n",
       "      <th>built_time</th>\n",
       "      <th>appartments_floor</th>\n",
       "      <th>all_space</th>\n",
       "      <th>state</th>\n",
       "      <th>...</th>\n",
       "      <th>internet</th>\n",
       "      <th>furniture</th>\n",
       "      <th>floor</th>\n",
       "      <th>parking</th>\n",
       "      <th>latitude</th>\n",
       "      <th>longitude</th>\n",
       "      <th>building_floors</th>\n",
       "      <th>trngl_first_point</th>\n",
       "      <th>trngl_second_point</th>\n",
       "      <th>trngl_third_point</th>\n",
       "    </tr>\n",
       "  </thead>\n",
       "  <tbody>\n",
       "    <tr>\n",
       "      <th>13162</th>\n",
       "      <td>11570</td>\n",
       "      <td>мкр Таугуль, Пятницкого 41 — Щепкина</td>\n",
       "      <td>3</td>\n",
       "      <td>20500000</td>\n",
       "      <td>1.0</td>\n",
       "      <td>2</td>\n",
       "      <td>1986</td>\n",
       "      <td>4.0</td>\n",
       "      <td>59.0</td>\n",
       "      <td>5</td>\n",
       "      <td>...</td>\n",
       "      <td>1</td>\n",
       "      <td>1.0</td>\n",
       "      <td>1</td>\n",
       "      <td>1</td>\n",
       "      <td>43.210097</td>\n",
       "      <td>76.871704</td>\n",
       "      <td>5.0</td>\n",
       "      <td>20.9144</td>\n",
       "      <td>-5.1584</td>\n",
       "      <td>9.4359</td>\n",
       "    </tr>\n",
       "  </tbody>\n",
       "</table>\n",
       "<p>1 rows × 28 columns</p>\n",
       "</div>"
      ],
      "text/plain": [
       "       Index                                  address  room_number     price  \\\n",
       "13162  11570    мкр Таугуль, Пятницкого 41 — Щепкина             3  20500000   \n",
       "\n",
       "       map_complex  house_type  built_time  appartments_floor  all_space  \\\n",
       "13162          1.0           2        1986                4.0       59.0   \n",
       "\n",
       "       state        ...          internet  furniture  floor  parking  \\\n",
       "13162      5        ...                 1        1.0      1        1   \n",
       "\n",
       "        latitude  longitude  building_floors  trngl_first_point  \\\n",
       "13162  43.210097  76.871704              5.0            20.9144   \n",
       "\n",
       "       trngl_second_point  trngl_third_point  \n",
       "13162             -5.1584             9.4359  \n",
       "\n",
       "[1 rows x 28 columns]"
      ]
     },
     "execution_count": 114,
     "metadata": {},
     "output_type": "execute_result"
    }
   ],
   "source": [
    "data[data.index == 13162]"
   ]
  },
  {
   "cell_type": "code",
   "execution_count": 115,
   "metadata": {},
   "outputs": [
    {
     "data": {
      "text/html": [
       "<div>\n",
       "<style>\n",
       "    .dataframe thead tr:only-child th {\n",
       "        text-align: right;\n",
       "    }\n",
       "\n",
       "    .dataframe thead th {\n",
       "        text-align: left;\n",
       "    }\n",
       "\n",
       "    .dataframe tbody tr th {\n",
       "        vertical-align: top;\n",
       "    }\n",
       "</style>\n",
       "<table border=\"1\" class=\"dataframe\">\n",
       "  <thead>\n",
       "    <tr style=\"text-align: right;\">\n",
       "      <th></th>\n",
       "      <th>Index</th>\n",
       "      <th>address</th>\n",
       "      <th>room_number</th>\n",
       "      <th>price</th>\n",
       "      <th>map_complex</th>\n",
       "      <th>house_type</th>\n",
       "      <th>built_time</th>\n",
       "      <th>appartments_floor</th>\n",
       "      <th>all_space</th>\n",
       "      <th>state</th>\n",
       "      <th>...</th>\n",
       "      <th>internet</th>\n",
       "      <th>furniture</th>\n",
       "      <th>floor</th>\n",
       "      <th>parking</th>\n",
       "      <th>latitude</th>\n",
       "      <th>longitude</th>\n",
       "      <th>building_floors</th>\n",
       "      <th>trngl_first_point</th>\n",
       "      <th>trngl_second_point</th>\n",
       "      <th>trngl_third_point</th>\n",
       "    </tr>\n",
       "  </thead>\n",
       "  <tbody>\n",
       "    <tr>\n",
       "      <th>14603</th>\n",
       "      <td>23016</td>\n",
       "      <td>Жамакаева 258/8</td>\n",
       "      <td>3</td>\n",
       "      <td>74750000</td>\n",
       "      <td>90.0</td>\n",
       "      <td>4</td>\n",
       "      <td>2012</td>\n",
       "      <td>5.0</td>\n",
       "      <td>130.0</td>\n",
       "      <td>6</td>\n",
       "      <td>...</td>\n",
       "      <td>2</td>\n",
       "      <td>1.0</td>\n",
       "      <td>7</td>\n",
       "      <td>1</td>\n",
       "      <td>43.210693</td>\n",
       "      <td>76.945452</td>\n",
       "      <td>6.0</td>\n",
       "      <td>13.480042</td>\n",
       "      <td>-12.592758</td>\n",
       "      <td>2.001542</td>\n",
       "    </tr>\n",
       "  </tbody>\n",
       "</table>\n",
       "<p>1 rows × 28 columns</p>\n",
       "</div>"
      ],
      "text/plain": [
       "       Index             address  room_number     price  map_complex  \\\n",
       "14603  23016    Жамакаева 258/8             3  74750000         90.0   \n",
       "\n",
       "       house_type  built_time  appartments_floor  all_space  state  \\\n",
       "14603           4        2012                5.0      130.0      6   \n",
       "\n",
       "             ...          internet  furniture  floor  parking   latitude  \\\n",
       "14603        ...                 2        1.0      7        1  43.210693   \n",
       "\n",
       "       longitude  building_floors  trngl_first_point  trngl_second_point  \\\n",
       "14603  76.945452              6.0          13.480042          -12.592758   \n",
       "\n",
       "       trngl_third_point  \n",
       "14603           2.001542  \n",
       "\n",
       "[1 rows x 28 columns]"
      ]
     },
     "execution_count": 115,
     "metadata": {},
     "output_type": "execute_result"
    }
   ],
   "source": [
    "data[data.index == 14603]"
   ]
  },
  {
   "cell_type": "code",
   "execution_count": 116,
   "metadata": {},
   "outputs": [
    {
     "data": {
      "text/html": [
       "<div>\n",
       "<style>\n",
       "    .dataframe thead tr:only-child th {\n",
       "        text-align: right;\n",
       "    }\n",
       "\n",
       "    .dataframe thead th {\n",
       "        text-align: left;\n",
       "    }\n",
       "\n",
       "    .dataframe tbody tr th {\n",
       "        vertical-align: top;\n",
       "    }\n",
       "</style>\n",
       "<table border=\"1\" class=\"dataframe\">\n",
       "  <thead>\n",
       "    <tr style=\"text-align: right;\">\n",
       "      <th></th>\n",
       "      <th>Index</th>\n",
       "      <th>address</th>\n",
       "      <th>room_number</th>\n",
       "      <th>price</th>\n",
       "      <th>map_complex</th>\n",
       "      <th>house_type</th>\n",
       "      <th>built_time</th>\n",
       "      <th>appartments_floor</th>\n",
       "      <th>all_space</th>\n",
       "      <th>state</th>\n",
       "      <th>...</th>\n",
       "      <th>internet</th>\n",
       "      <th>furniture</th>\n",
       "      <th>floor</th>\n",
       "      <th>parking</th>\n",
       "      <th>latitude</th>\n",
       "      <th>longitude</th>\n",
       "      <th>building_floors</th>\n",
       "      <th>trngl_first_point</th>\n",
       "      <th>trngl_second_point</th>\n",
       "      <th>trngl_third_point</th>\n",
       "    </tr>\n",
       "  </thead>\n",
       "  <tbody>\n",
       "    <tr>\n",
       "      <th>8238</th>\n",
       "      <td>32402</td>\n",
       "      <td>Жандосова 14 — Ауэзова</td>\n",
       "      <td>2</td>\n",
       "      <td>14900000</td>\n",
       "      <td>1.0</td>\n",
       "      <td>4</td>\n",
       "      <td>1961</td>\n",
       "      <td>3.0</td>\n",
       "      <td>40.0</td>\n",
       "      <td>5</td>\n",
       "      <td>...</td>\n",
       "      <td>2</td>\n",
       "      <td>0.5</td>\n",
       "      <td>7</td>\n",
       "      <td>1</td>\n",
       "      <td>43.23403</td>\n",
       "      <td>76.907853</td>\n",
       "      <td>3.0</td>\n",
       "      <td>14.9062</td>\n",
       "      <td>-11.1666</td>\n",
       "      <td>3.4277</td>\n",
       "    </tr>\n",
       "  </tbody>\n",
       "</table>\n",
       "<p>1 rows × 28 columns</p>\n",
       "</div>"
      ],
      "text/plain": [
       "      Index                    address  room_number     price  map_complex  \\\n",
       "8238  32402    Жандосова 14 — Ауэзова             2  14900000          1.0   \n",
       "\n",
       "      house_type  built_time  appartments_floor  all_space  state  \\\n",
       "8238           4        1961                3.0       40.0      5   \n",
       "\n",
       "            ...          internet  furniture  floor  parking  latitude  \\\n",
       "8238        ...                 2        0.5      7        1  43.23403   \n",
       "\n",
       "      longitude  building_floors  trngl_first_point  trngl_second_point  \\\n",
       "8238  76.907853              3.0            14.9062            -11.1666   \n",
       "\n",
       "      trngl_third_point  \n",
       "8238             3.4277  \n",
       "\n",
       "[1 rows x 28 columns]"
      ]
     },
     "execution_count": 116,
     "metadata": {},
     "output_type": "execute_result"
    }
   ],
   "source": [
    "data[data.index == 8238]"
   ]
  },
  {
   "cell_type": "code",
   "execution_count": 117,
   "metadata": {},
   "outputs": [
    {
     "data": {
      "text/html": [
       "<div>\n",
       "<style>\n",
       "    .dataframe thead tr:only-child th {\n",
       "        text-align: right;\n",
       "    }\n",
       "\n",
       "    .dataframe thead th {\n",
       "        text-align: left;\n",
       "    }\n",
       "\n",
       "    .dataframe tbody tr th {\n",
       "        vertical-align: top;\n",
       "    }\n",
       "</style>\n",
       "<table border=\"1\" class=\"dataframe\">\n",
       "  <thead>\n",
       "    <tr style=\"text-align: right;\">\n",
       "      <th></th>\n",
       "      <th>Index</th>\n",
       "      <th>address</th>\n",
       "      <th>room_number</th>\n",
       "      <th>price</th>\n",
       "      <th>map_complex</th>\n",
       "      <th>house_type</th>\n",
       "      <th>built_time</th>\n",
       "      <th>appartments_floor</th>\n",
       "      <th>all_space</th>\n",
       "      <th>state</th>\n",
       "      <th>...</th>\n",
       "      <th>internet</th>\n",
       "      <th>furniture</th>\n",
       "      <th>floor</th>\n",
       "      <th>parking</th>\n",
       "      <th>latitude</th>\n",
       "      <th>longitude</th>\n",
       "      <th>building_floors</th>\n",
       "      <th>trngl_first_point</th>\n",
       "      <th>trngl_second_point</th>\n",
       "      <th>trngl_third_point</th>\n",
       "    </tr>\n",
       "  </thead>\n",
       "  <tbody>\n",
       "    <tr>\n",
       "      <th>15389</th>\n",
       "      <td>10074</td>\n",
       "      <td>Айтиева 44</td>\n",
       "      <td>4</td>\n",
       "      <td>62900000</td>\n",
       "      <td>1.0</td>\n",
       "      <td>4</td>\n",
       "      <td>2004</td>\n",
       "      <td>10.0</td>\n",
       "      <td>98.0</td>\n",
       "      <td>5</td>\n",
       "      <td>...</td>\n",
       "      <td>1</td>\n",
       "      <td>1.0</td>\n",
       "      <td>1</td>\n",
       "      <td>0</td>\n",
       "      <td>43.254605</td>\n",
       "      <td>76.904565</td>\n",
       "      <td>10.0</td>\n",
       "      <td>13.1775</td>\n",
       "      <td>-12.8953</td>\n",
       "      <td>1.699</td>\n",
       "    </tr>\n",
       "  </tbody>\n",
       "</table>\n",
       "<p>1 rows × 28 columns</p>\n",
       "</div>"
      ],
      "text/plain": [
       "       Index        address  room_number     price  map_complex  house_type  \\\n",
       "15389  10074    Айтиева 44             4  62900000          1.0           4   \n",
       "\n",
       "       built_time  appartments_floor  all_space  state        ...          \\\n",
       "15389        2004               10.0       98.0      5        ...           \n",
       "\n",
       "       internet  furniture  floor  parking   latitude  longitude  \\\n",
       "15389         1        1.0      1        0  43.254605  76.904565   \n",
       "\n",
       "       building_floors  trngl_first_point  trngl_second_point  \\\n",
       "15389             10.0            13.1775            -12.8953   \n",
       "\n",
       "       trngl_third_point  \n",
       "15389              1.699  \n",
       "\n",
       "[1 rows x 28 columns]"
      ]
     },
     "execution_count": 117,
     "metadata": {},
     "output_type": "execute_result"
    }
   ],
   "source": [
    "data[data.index == 15389]"
   ]
  },
  {
   "cell_type": "code",
   "execution_count": 84,
   "metadata": {},
   "outputs": [],
   "source": [
    "test = data[data.price == 145500000]"
   ]
  },
  {
   "cell_type": "code",
   "execution_count": null,
   "metadata": {
    "collapsed": true
   },
   "outputs": [],
   "source": []
  }
 ],
 "metadata": {
  "kernelspec": {
   "display_name": "Python 3",
   "language": "python",
   "name": "python3"
  },
  "language_info": {
   "codemirror_mode": {
    "name": "ipython",
    "version": 3
   },
   "file_extension": ".py",
   "mimetype": "text/x-python",
   "name": "python",
   "nbconvert_exporter": "python",
   "pygments_lexer": "ipython3",
   "version": "3.5.2"
  }
 },
 "nbformat": 4,
 "nbformat_minor": 2
}
