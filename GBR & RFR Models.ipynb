{
 "cells": [
  {
   "cell_type": "code",
   "execution_count": 59,
   "metadata": {
    "collapsed": true
   },
   "outputs": [],
   "source": [
    "#%matplotlib notebook\n",
    "import pandas as pd\n",
    "import numpy as np\n",
    "from sklearn.utils import shuffle\n",
    "from matplotlib import pyplot as plt\n",
    "from sklearn.neighbors import KNeighborsRegressor\n",
    "import seaborn as sns\n",
    "from sklearn.model_selection import train_test_split\n",
    "%matplotlib inline\n",
    "import math"
   ]
  },
  {
   "cell_type": "code",
   "execution_count": 60,
   "metadata": {
    "collapsed": true
   },
   "outputs": [],
   "source": [
    "def normalization(data):\n",
    "    from sklearn.preprocessing import MinMaxScaler\n",
    "    scaler = MinMaxScaler()\n",
    "    data = scaler.fit_transform(data)\n",
    "    return data"
   ]
  },
  {
   "cell_type": "code",
   "execution_count": 75,
   "metadata": {},
   "outputs": [
    {
     "name": "stderr",
     "output_type": "stream",
     "text": [
      "/usr/local/lib/python3.5/dist-packages/IPython/core/interactiveshell.py:2698: DtypeWarning: Columns (3) have mixed types. Specify dtype option on import or set low_memory=False.\n",
      "  interactivity=interactivity, compiler=compiler, result=result)\n"
     ]
    }
   ],
   "source": [
    "df = pd.read_csv(\"new_dtrain.csv\", delimiter=\",\")\n",
    "zeros = df[df['latitude'] == 0]\n",
    "df = df[df['latitude'] != 0]\n",
    "subset = list(df.columns.values)\n",
    "subset = subset.remove('price')\n",
    "data = df.drop_duplicates(subset = subset)\n",
    "#print(len(data[data.price > 1000000000]))\n",
    "data = data[data.price < 1000000000]\n",
    "data = data[data.price < 800000000]\n",
    "data = data[data.price < 400000000]\n",
    "\n",
    "data.replace(-1, 0, inplace=True)\n",
    "data.replace(' С ', '0', inplace=True)\n",
    "\n",
    "data = shuffle(data)\n",
    "data = data.reset_index(drop=True)"
   ]
  },
  {
   "cell_type": "code",
   "execution_count": 76,
   "metadata": {
    "collapsed": true
   },
   "outputs": [],
   "source": [
    "# data = log_feature(data)\n",
    "#choosing data\n",
    "X = data[['room_number', 'house_type',\n",
    "       'built_time', 'appartments_floor', 'all_space', 'state', 'bathroom',\n",
    "       'balcony', 'balcony_glassed', 'door', 'phone', 'ceiling', 'safety',\n",
    "       'at_the_hotel', 'internet', 'furniture', 'parking', 'building_floors', 'map_complex', 'floor',\n",
    "          'trngl_first_point', 'trngl_second_point', 'trngl_third_point']]\n",
    "# X_geo = data[['geocode_lat', 'geocode_long', 'trngl_first_point', 'trngl_second_point', 'trngl_third_point']]\n",
    "#'latitude','longitude'\n",
    "y = data['price']\n",
    "# x_columns = X.columns\n",
    "# x_index = X.index\n",
    "# X = normalization(X)\n",
    "# X = pd.DataFrame(X, index=x_index, columns=x_columns)\n",
    "# X = pd.concat([X, X_geo], axis=1)\n",
    "\n",
    "X_train, X_test, y_train, y_test = train_test_split(X, y, random_state=7)"
   ]
  },
  {
   "cell_type": "code",
   "execution_count": 77,
   "metadata": {},
   "outputs": [
    {
     "data": {
      "text/plain": [
       "KNeighborsRegressor(algorithm='auto', leaf_size=30, metric='minkowski',\n",
       "          metric_params=None, n_jobs=-1, n_neighbors=5, p=1,\n",
       "          weights='uniform')"
      ]
     },
     "execution_count": 77,
     "metadata": {},
     "output_type": "execute_result"
    }
   ],
   "source": [
    "from sklearn.ensemble import GradientBoostingRegressor, RandomForestRegressor\n",
    "from sklearn.neighbors import KNeighborsRegressor\n",
    "model = KNeighborsRegressor(n_neighbors = 5, n_jobs=-1, p=1)\n",
    "model.fit(X_train, y_train)"
   ]
  },
  {
   "cell_type": "code",
   "execution_count": 78,
   "metadata": {
    "collapsed": true
   },
   "outputs": [],
   "source": [
    "gbr_model = GradientBoostingRegressor(n_estimators = 100, learning_rate=0.1, \n",
    "                                  random_state=7, max_depth=10)\n",
    "rfr_model = RandomForestRegressor(n_estimators = 300, random_state=7)"
   ]
  },
  {
   "cell_type": "code",
   "execution_count": 79,
   "metadata": {
    "scrolled": true
   },
   "outputs": [
    {
     "data": {
      "text/plain": [
       "RandomForestRegressor(bootstrap=True, criterion='mse', max_depth=None,\n",
       "           max_features='auto', max_leaf_nodes=None,\n",
       "           min_impurity_split=1e-07, min_samples_leaf=1,\n",
       "           min_samples_split=2, min_weight_fraction_leaf=0.0,\n",
       "           n_estimators=300, n_jobs=1, oob_score=False, random_state=7,\n",
       "           verbose=0, warm_start=False)"
      ]
     },
     "execution_count": 79,
     "metadata": {},
     "output_type": "execute_result"
    }
   ],
   "source": [
    "gbr_model.fit(X_train, y_train)\n",
    "rfr_model.fit(X_train, y_train)"
   ]
  },
  {
   "cell_type": "markdown",
   "metadata": {},
   "source": [
    "# Metrics"
   ]
  },
  {
   "cell_type": "code",
   "execution_count": 80,
   "metadata": {},
   "outputs": [
    {
     "name": "stdout",
     "output_type": "stream",
     "text": [
      "0.872940857946\n",
      "0.96662406681\n",
      "0.904692474477\n"
     ]
    }
   ],
   "source": [
    "print(model.score(X_test, y_test))\n",
    "print(grb_model.score(X_test, y_test))\n",
    "print(rfr_model.score(X_test, y_test))"
   ]
  },
  {
   "cell_type": "code",
   "execution_count": 81,
   "metadata": {},
   "outputs": [
    {
     "name": "stdout",
     "output_type": "stream",
     "text": [
      "RFR Mean absolute error:  3229900.05527\n",
      "GBR Mean absolute error:  1731542.30347\n",
      "KNN Regressor absolute error:  3667246.15305\n"
     ]
    }
   ],
   "source": [
    "from sklearn.metrics import mean_absolute_error, mean_squared_error\n",
    "print(\"RFR Mean absolute error: \", mean_absolute_error(rfr_model.predict(X_test), y_test))\n",
    "print(\"GBR Mean absolute error: \", mean_absolute_error(grb_model.predict(X_test), y_test))\n",
    "print(\"KNN Regressor absolute error: \", mean_absolute_error(model.predict(X_test), y_test))"
   ]
  },
  {
   "cell_type": "markdown",
   "metadata": {},
   "source": [
    "# Overfitting"
   ]
  },
  {
   "cell_type": "code",
   "execution_count": 86,
   "metadata": {},
   "outputs": [
    {
     "name": "stdout",
     "output_type": "stream",
     "text": [
      "RFR Mean absolute error:  1214140.39326\n",
      "GBR Mean absolute error:  1711291.40563\n",
      "KNN Regressor absolute error:  2831097.65876\n"
     ]
    }
   ],
   "source": [
    "print(\"RFR Mean absolute error: \", mean_absolute_error(rfr_model.predict(X_train), y_train))\n",
    "print(\"GBR Mean absolute error: \", mean_absolute_error(grb_model.predict(X_train), y_train))\n",
    "print(\"KNN Regressor absolute error: \", mean_absolute_error(model.predict(X_train), y_train))"
   ]
  },
  {
   "cell_type": "code",
   "execution_count": 82,
   "metadata": {
    "collapsed": true
   },
   "outputs": [],
   "source": [
    "from sklearn.linear_model import LinearRegression\n",
    "linear_model = LinearRegression()"
   ]
  },
  {
   "cell_type": "code",
   "execution_count": 83,
   "metadata": {
    "collapsed": true
   },
   "outputs": [],
   "source": [
    "def stack_out(data):\n",
    "    stack = pd.DataFrame()\n",
    "    stack['knn'] = model.predict(data)\n",
    "    stack['rfr'] = rfr_model.predict(data)\n",
    "    stack['gbr'] = gbr_model.predict(data)\n",
    "    return stack"
   ]
  },
  {
   "cell_type": "code",
   "execution_count": 84,
   "metadata": {},
   "outputs": [
    {
     "data": {
      "text/plain": [
       "LinearRegression(copy_X=True, fit_intercept=True, n_jobs=1, normalize=False)"
      ]
     },
     "execution_count": 84,
     "metadata": {},
     "output_type": "execute_result"
    }
   ],
   "source": [
    "linear_model.fit(stack_out(X_train), y_train)"
   ]
  },
  {
   "cell_type": "code",
   "execution_count": 85,
   "metadata": {},
   "outputs": [
    {
     "name": "stdout",
     "output_type": "stream",
     "text": [
      "Stacking output(MAE):  3364007.60141\n"
     ]
    }
   ],
   "source": [
    "print(\"Stacking output(MAE): \", mean_absolute_error(linear_model.predict(stack_out(X_test)), y_test))"
   ]
  },
  {
   "cell_type": "code",
   "execution_count": null,
   "metadata": {
    "collapsed": true
   },
   "outputs": [],
   "source": []
  }
 ],
 "metadata": {
  "kernelspec": {
   "display_name": "Python 3",
   "language": "python",
   "name": "python3"
  },
  "language_info": {
   "codemirror_mode": {
    "name": "ipython",
    "version": 3
   },
   "file_extension": ".py",
   "mimetype": "text/x-python",
   "name": "python",
   "nbconvert_exporter": "python",
   "pygments_lexer": "ipython3",
   "version": "3.5.2"
  }
 },
 "nbformat": 4,
 "nbformat_minor": 2
}
