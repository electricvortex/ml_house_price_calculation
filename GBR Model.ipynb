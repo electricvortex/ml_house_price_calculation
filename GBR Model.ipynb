{
 "cells": [
  {
   "cell_type": "code",
   "execution_count": 39,
   "metadata": {
    "collapsed": true
   },
   "outputs": [],
   "source": [
    "%matplotlib notebook\n",
    "import pandas as pd\n",
    "import numpy as np\n",
    "from sklearn.utils import shuffle\n",
    "from matplotlib import pyplot as plt\n",
    "from sklearn.neighbors import KNeighborsRegressor\n",
    "import seaborn as sns\n",
    "from sklearn.model_selection import train_test_split"
   ]
  },
  {
   "cell_type": "code",
   "execution_count": 40,
   "metadata": {
    "collapsed": true
   },
   "outputs": [],
   "source": [
    "def normalization(data):\n",
    "    from sklearn.preprocessing import MinMaxScaler\n",
    "    scaler = MinMaxScaler()\n",
    "    data = scaler.fit_transform(data)\n",
    "    return data"
   ]
  },
  {
   "cell_type": "code",
   "execution_count": 144,
   "metadata": {},
   "outputs": [],
   "source": [
    "data = pd.read_csv(\"dtrain.csv\", delimiter=\",\")\n",
    "data = data[data['geocode_lat'] != 0]\n",
    "zeros = data[data['geocode_lat'] == 0]\n",
    "data = shuffle(data)\n",
    "data = data[data['price'] < 1000000000]"
   ]
  },
  {
   "cell_type": "code",
   "execution_count": 145,
   "metadata": {
    "collapsed": true
   },
   "outputs": [],
   "source": [
    "#choosing data\n",
    "X = data[['house_type_0', 'house_type_иное', 'house_type_каркасно-камышитовый',\n",
    "       'house_type_кирпичный', 'house_type_монолитный',\n",
    "       'house_type_панельный', 'state_0', 'state_евроремонт', 'state_свободная планировка',\n",
    "       'state_среднее', 'state_требует ремонта', 'state_хорошее',\n",
    "       'state_черновая отделка', 'region_Алматы', 'region_Алматы, Алатауский р-н',\n",
    "       'region_Алматы, Алмалинский р-н', 'region_Алматы, Ауэзовский р-н',\n",
    "       'region_Алматы, Бостандыкский р-н', 'region_Алматы, Жетысуйский р-н',\n",
    "       'region_Алматы, Жетысуский р-н', 'region_Алматы, Медеуский р-н',\n",
    "       'region_Алматы, Наурызбайский р-н', 'region_Алматы, Турксибский р-н',\n",
    "       'region_Казахстан', 'internet_0', 'internet_ADSL', 'internet_оптика', 'internet_проводной',\n",
    "       'internet_через TV кабель', 'bathroom_0', 'bathroom_2 с/у и более', 'bathroom_нет',\n",
    "       'bathroom_раздельный', 'bathroom_совмещенный', 'built_time', 'all_space', 'balcony',\n",
    "          'phone', 'parking', 'furniture', 'at_the_hostel',\n",
    "          'appartments_floor', 'building_floors', 'price_for_sqr_meter',\n",
    "         'trngl_first_point', 'trngl_second_point', 'trngl_third_point']]\n",
    "#X_geo = data[['geocode_lat', 'geocode_long']]\n",
    "y = data['price']\n",
    "#x_columns = X.columns\n",
    "#x_index = X.index\n",
    "# X = normalization(X)\n",
    "#X = pd.DataFrame(X, index=x_index, columns=x_columns)\n",
    "#X = pd.concat([X, X_geo], axis=1)\n",
    "\n",
    "X_train, X_test, y_train, y_test = train_test_split(X, y, random_state=0, train_size=0.6)"
   ]
  },
  {
   "cell_type": "code",
   "execution_count": 146,
   "metadata": {
    "collapsed": true
   },
   "outputs": [],
   "source": [
    "from sklearn.ensemble import GradientBoostingRegressor, RandomForestRegressor"
   ]
  },
  {
   "cell_type": "code",
   "execution_count": 147,
   "metadata": {
    "collapsed": true
   },
   "outputs": [],
   "source": [
    "model = GradientBoostingRegressor(n_estimators = (len(X.columns) * 2), learning_rate=0.2, \n",
    "                                  random_state=7, max_depth=10)\n",
    "model2 = RandomForestRegressor(n_estimators = (len(X.columns) * 2), random_state=7)"
   ]
  },
  {
   "cell_type": "code",
   "execution_count": 148,
   "metadata": {},
   "outputs": [
    {
     "data": {
      "text/plain": [
       "RandomForestRegressor(bootstrap=True, criterion='mse', max_depth=None,\n",
       "           max_features='auto', max_leaf_nodes=None,\n",
       "           min_impurity_split=1e-07, min_samples_leaf=1,\n",
       "           min_samples_split=2, min_weight_fraction_leaf=0.0,\n",
       "           n_estimators=94, n_jobs=1, oob_score=False, random_state=7,\n",
       "           verbose=0, warm_start=False)"
      ]
     },
     "execution_count": 148,
     "metadata": {},
     "output_type": "execute_result"
    }
   ],
   "source": [
    "model.fit(X_train, y_train)\n",
    "model2.fit(X_train, y_train)"
   ]
  },
  {
   "cell_type": "code",
   "execution_count": 149,
   "metadata": {},
   "outputs": [
    {
     "name": "stdout",
     "output_type": "stream",
     "text": [
      "0.991061185188\n",
      "0.987515164065\n"
     ]
    }
   ],
   "source": [
    "print(model.score(X_test, y_test))\n",
    "print(model2.score(X_test, y_test))"
   ]
  },
  {
   "cell_type": "code",
   "execution_count": 150,
   "metadata": {},
   "outputs": [
    {
     "name": "stdout",
     "output_type": "stream",
     "text": [
      "GBM Mean absolute error:  390948.131768\n",
      "GBM Mean squared error:  9.65833257426e+12\n",
      "RFR Mean absolute error:  396394.633391\n",
      "RFR Mean squared error:  1.34897858537e+13\n"
     ]
    }
   ],
   "source": [
    "from sklearn.metrics import mean_absolute_error, mean_squared_error\n",
    "print(\"GBM Mean absolute error: \", mean_absolute_error(model.predict(X_test), y_test))\n",
    "print(\"GBM Mean squared error: \", mean_squared_error(model.predict(X_test), y_test))\n",
    "print(\"RFR Mean absolute error: \", mean_absolute_error(model2.predict(X_test), y_test))\n",
    "print(\"RFR Mean squared error: \", mean_squared_error(model2.predict(X_test), y_test))"
   ]
  },
  {
   "cell_type": "code",
   "execution_count": null,
   "metadata": {
    "collapsed": true
   },
   "outputs": [],
   "source": []
  },
  {
   "cell_type": "code",
   "execution_count": 160,
   "metadata": {
    "collapsed": true
   },
   "outputs": [],
   "source": [
    "pred_ans = (model.predict(X_test) + model2.predict(X_test)) / 2"
   ]
  },
  {
   "cell_type": "code",
   "execution_count": 161,
   "metadata": {},
   "outputs": [
    {
     "name": "stdout",
     "output_type": "stream",
     "text": [
      "Averaged Mean absolute error:  362746.022229\n",
      "Averaged Mean squared error:  8.92202250591e+12\n"
     ]
    }
   ],
   "source": [
    "print(\"Averaged Mean absolute error: \", mean_absolute_error(pred_ans, y_test))\n",
    "print(\"Averaged Mean squared error: \", mean_squared_error(pred_ans, y_test))"
   ]
  },
  {
   "cell_type": "code",
   "execution_count": null,
   "metadata": {
    "collapsed": true
   },
   "outputs": [],
   "source": []
  },
  {
   "cell_type": "code",
   "execution_count": 178,
   "metadata": {
    "collapsed": true
   },
   "outputs": [],
   "source": [
    "def scorer(clf, X, y):\n",
    "    return mean_absolute_error(clf.predict(X), y)"
   ]
  },
  {
   "cell_type": "code",
   "execution_count": 179,
   "metadata": {},
   "outputs": [
    {
     "name": "stdout",
     "output_type": "stream",
     "text": [
      "[ 647287.46596698  531422.9693698   388292.40442356  739497.87738714\n",
      "  402441.26239303]\n"
     ]
    }
   ],
   "source": [
    "from sklearn.model_selection import cross_val_score\n",
    "scores = cross_val_score(model, X, y, cv=5, scoring=scorer)\n",
    "print(scores)"
   ]
  },
  {
   "cell_type": "code",
   "execution_count": null,
   "metadata": {
    "collapsed": true
   },
   "outputs": [],
   "source": []
  },
  {
   "cell_type": "code",
   "execution_count": 180,
   "metadata": {},
   "outputs": [
    {
     "data": {
      "text/plain": [
       "541788.39590810216"
      ]
     },
     "execution_count": 180,
     "metadata": {},
     "output_type": "execute_result"
    }
   ],
   "source": [
    "scores.mean()"
   ]
  },
  {
   "cell_type": "code",
   "execution_count": 181,
   "metadata": {},
   "outputs": [
    {
     "data": {
      "text/plain": [
       "136605.40101914611"
      ]
     },
     "execution_count": 181,
     "metadata": {},
     "output_type": "execute_result"
    }
   ],
   "source": [
    "scores.std()"
   ]
  },
  {
   "cell_type": "code",
   "execution_count": null,
   "metadata": {
    "collapsed": true
   },
   "outputs": [],
   "source": []
  },
  {
   "cell_type": "code",
   "execution_count": 174,
   "metadata": {},
   "outputs": [],
   "source": [
    "a = data[data.index==14255]\n",
    "ax = X[data.index==14255]"
   ]
  },
  {
   "cell_type": "code",
   "execution_count": 175,
   "metadata": {},
   "outputs": [
    {
     "data": {
      "text/plain": [
       "14034171.09062176"
      ]
     },
     "execution_count": 175,
     "metadata": {},
     "output_type": "execute_result"
    }
   ],
   "source": [
    "float((model2.predict(ax)[0] + model.predict(ax)[0]) / 2)"
   ]
  },
  {
   "cell_type": "code",
   "execution_count": 176,
   "metadata": {
    "scrolled": true
   },
   "outputs": [
    {
     "data": {
      "text/plain": [
       "14000000.0"
      ]
     },
     "execution_count": 176,
     "metadata": {},
     "output_type": "execute_result"
    }
   ],
   "source": [
    "float(a['price'])"
   ]
  },
  {
   "cell_type": "code",
   "execution_count": 177,
   "metadata": {},
   "outputs": [
    {
     "data": {
      "text/plain": [
       "34171.090621760115"
      ]
     },
     "execution_count": 177,
     "metadata": {},
     "output_type": "execute_result"
    }
   ],
   "source": [
    "abs(((model2.predict(ax)[0] + model.predict(ax)[0]) / 2) - float(a['price']))"
   ]
  },
  {
   "cell_type": "code",
   "execution_count": null,
   "metadata": {},
   "outputs": [],
   "source": []
  },
  {
   "cell_type": "code",
   "execution_count": 169,
   "metadata": {},
   "outputs": [
    {
     "data": {
      "text/html": [
       "<div>\n",
       "<style>\n",
       "    .dataframe thead tr:only-child th {\n",
       "        text-align: right;\n",
       "    }\n",
       "\n",
       "    .dataframe thead th {\n",
       "        text-align: left;\n",
       "    }\n",
       "\n",
       "    .dataframe tbody tr th {\n",
       "        vertical-align: top;\n",
       "    }\n",
       "</style>\n",
       "<table border=\"1\" class=\"dataframe\">\n",
       "  <thead>\n",
       "    <tr style=\"text-align: right;\">\n",
       "      <th></th>\n",
       "      <th>house_type_0</th>\n",
       "      <th>house_type_иное</th>\n",
       "      <th>house_type_каркасно-камышитовый</th>\n",
       "      <th>house_type_кирпичный</th>\n",
       "      <th>house_type_монолитный</th>\n",
       "      <th>house_type_панельный</th>\n",
       "      <th>state_0</th>\n",
       "      <th>state_евроремонт</th>\n",
       "      <th>state_свободная планировка</th>\n",
       "      <th>state_среднее</th>\n",
       "      <th>...</th>\n",
       "      <th>phone</th>\n",
       "      <th>parking</th>\n",
       "      <th>furniture</th>\n",
       "      <th>at_the_hostel</th>\n",
       "      <th>appartments_floor</th>\n",
       "      <th>building_floors</th>\n",
       "      <th>price_for_sqr_meter</th>\n",
       "      <th>trngl_first_point</th>\n",
       "      <th>trngl_second_point</th>\n",
       "      <th>trngl_third_point</th>\n",
       "    </tr>\n",
       "  </thead>\n",
       "  <tbody>\n",
       "    <tr>\n",
       "      <th>14190</th>\n",
       "      <td>0</td>\n",
       "      <td>0</td>\n",
       "      <td>0</td>\n",
       "      <td>0</td>\n",
       "      <td>0</td>\n",
       "      <td>1</td>\n",
       "      <td>0</td>\n",
       "      <td>0</td>\n",
       "      <td>0</td>\n",
       "      <td>1</td>\n",
       "      <td>...</td>\n",
       "      <td>0.0</td>\n",
       "      <td>0.0</td>\n",
       "      <td>0.0</td>\n",
       "      <td>0.0</td>\n",
       "      <td>4.0</td>\n",
       "      <td>5.0</td>\n",
       "      <td>3.272727e+05</td>\n",
       "      <td>0.121381</td>\n",
       "      <td>-0.139347</td>\n",
       "      <td>0.006596</td>\n",
       "    </tr>\n",
       "    <tr>\n",
       "      <th>14255</th>\n",
       "      <td>0</td>\n",
       "      <td>0</td>\n",
       "      <td>0</td>\n",
       "      <td>0</td>\n",
       "      <td>0</td>\n",
       "      <td>1</td>\n",
       "      <td>0</td>\n",
       "      <td>0</td>\n",
       "      <td>0</td>\n",
       "      <td>0</td>\n",
       "      <td>...</td>\n",
       "      <td>0.0</td>\n",
       "      <td>0.0</td>\n",
       "      <td>0.0</td>\n",
       "      <td>0.0</td>\n",
       "      <td>1.0</td>\n",
       "      <td>5.0</td>\n",
       "      <td>2.500000e+05</td>\n",
       "      <td>0.194196</td>\n",
       "      <td>-0.066532</td>\n",
       "      <td>0.079411</td>\n",
       "    </tr>\n",
       "    <tr>\n",
       "      <th>14316</th>\n",
       "      <td>0</td>\n",
       "      <td>0</td>\n",
       "      <td>0</td>\n",
       "      <td>0</td>\n",
       "      <td>0</td>\n",
       "      <td>1</td>\n",
       "      <td>0</td>\n",
       "      <td>0</td>\n",
       "      <td>0</td>\n",
       "      <td>0</td>\n",
       "      <td>...</td>\n",
       "      <td>1.0</td>\n",
       "      <td>1.0</td>\n",
       "      <td>1.0</td>\n",
       "      <td>0.0</td>\n",
       "      <td>4.0</td>\n",
       "      <td>5.0</td>\n",
       "      <td>3.887500e+05</td>\n",
       "      <td>0.294702</td>\n",
       "      <td>0.033974</td>\n",
       "      <td>0.179917</td>\n",
       "    </tr>\n",
       "    <tr>\n",
       "      <th>23148</th>\n",
       "      <td>0</td>\n",
       "      <td>0</td>\n",
       "      <td>0</td>\n",
       "      <td>0</td>\n",
       "      <td>0</td>\n",
       "      <td>1</td>\n",
       "      <td>0</td>\n",
       "      <td>0</td>\n",
       "      <td>0</td>\n",
       "      <td>1</td>\n",
       "      <td>...</td>\n",
       "      <td>1.0</td>\n",
       "      <td>1.0</td>\n",
       "      <td>0.5</td>\n",
       "      <td>0.0</td>\n",
       "      <td>1.0</td>\n",
       "      <td>4.0</td>\n",
       "      <td>2.383333e+05</td>\n",
       "      <td>0.098151</td>\n",
       "      <td>-0.162577</td>\n",
       "      <td>-0.016634</td>\n",
       "    </tr>\n",
       "    <tr>\n",
       "      <th>23601</th>\n",
       "      <td>0</td>\n",
       "      <td>0</td>\n",
       "      <td>0</td>\n",
       "      <td>0</td>\n",
       "      <td>1</td>\n",
       "      <td>0</td>\n",
       "      <td>1</td>\n",
       "      <td>0</td>\n",
       "      <td>0</td>\n",
       "      <td>0</td>\n",
       "      <td>...</td>\n",
       "      <td>1.0</td>\n",
       "      <td>1.0</td>\n",
       "      <td>0.5</td>\n",
       "      <td>0.0</td>\n",
       "      <td>1.0</td>\n",
       "      <td>2.0</td>\n",
       "      <td>1.043333e+06</td>\n",
       "      <td>0.113467</td>\n",
       "      <td>-0.147261</td>\n",
       "      <td>-0.001318</td>\n",
       "    </tr>\n",
       "    <tr>\n",
       "      <th>6740</th>\n",
       "      <td>0</td>\n",
       "      <td>0</td>\n",
       "      <td>0</td>\n",
       "      <td>0</td>\n",
       "      <td>1</td>\n",
       "      <td>0</td>\n",
       "      <td>0</td>\n",
       "      <td>1</td>\n",
       "      <td>0</td>\n",
       "      <td>0</td>\n",
       "      <td>...</td>\n",
       "      <td>1.0</td>\n",
       "      <td>1.0</td>\n",
       "      <td>1.0</td>\n",
       "      <td>0.0</td>\n",
       "      <td>5.0</td>\n",
       "      <td>7.0</td>\n",
       "      <td>5.923077e+05</td>\n",
       "      <td>0.095924</td>\n",
       "      <td>-0.164804</td>\n",
       "      <td>-0.018861</td>\n",
       "    </tr>\n",
       "    <tr>\n",
       "      <th>24371</th>\n",
       "      <td>0</td>\n",
       "      <td>0</td>\n",
       "      <td>0</td>\n",
       "      <td>1</td>\n",
       "      <td>0</td>\n",
       "      <td>0</td>\n",
       "      <td>0</td>\n",
       "      <td>0</td>\n",
       "      <td>0</td>\n",
       "      <td>0</td>\n",
       "      <td>...</td>\n",
       "      <td>1.0</td>\n",
       "      <td>1.0</td>\n",
       "      <td>0.0</td>\n",
       "      <td>0.0</td>\n",
       "      <td>2.0</td>\n",
       "      <td>5.0</td>\n",
       "      <td>4.000000e+05</td>\n",
       "      <td>0.121045</td>\n",
       "      <td>-0.139683</td>\n",
       "      <td>0.006260</td>\n",
       "    </tr>\n",
       "    <tr>\n",
       "      <th>11650</th>\n",
       "      <td>0</td>\n",
       "      <td>0</td>\n",
       "      <td>0</td>\n",
       "      <td>0</td>\n",
       "      <td>1</td>\n",
       "      <td>0</td>\n",
       "      <td>0</td>\n",
       "      <td>0</td>\n",
       "      <td>1</td>\n",
       "      <td>0</td>\n",
       "      <td>...</td>\n",
       "      <td>1.0</td>\n",
       "      <td>0.0</td>\n",
       "      <td>0.0</td>\n",
       "      <td>0.0</td>\n",
       "      <td>14.0</td>\n",
       "      <td>15.0</td>\n",
       "      <td>4.678571e+05</td>\n",
       "      <td>0.109838</td>\n",
       "      <td>-0.150890</td>\n",
       "      <td>-0.004947</td>\n",
       "    </tr>\n",
       "    <tr>\n",
       "      <th>11</th>\n",
       "      <td>0</td>\n",
       "      <td>0</td>\n",
       "      <td>0</td>\n",
       "      <td>0</td>\n",
       "      <td>1</td>\n",
       "      <td>0</td>\n",
       "      <td>0</td>\n",
       "      <td>1</td>\n",
       "      <td>0</td>\n",
       "      <td>0</td>\n",
       "      <td>...</td>\n",
       "      <td>1.0</td>\n",
       "      <td>1.0</td>\n",
       "      <td>1.0</td>\n",
       "      <td>0.0</td>\n",
       "      <td>7.0</td>\n",
       "      <td>7.0</td>\n",
       "      <td>4.077670e+05</td>\n",
       "      <td>0.175187</td>\n",
       "      <td>-0.085541</td>\n",
       "      <td>0.060402</td>\n",
       "    </tr>\n",
       "    <tr>\n",
       "      <th>9260</th>\n",
       "      <td>0</td>\n",
       "      <td>0</td>\n",
       "      <td>0</td>\n",
       "      <td>0</td>\n",
       "      <td>0</td>\n",
       "      <td>1</td>\n",
       "      <td>1</td>\n",
       "      <td>0</td>\n",
       "      <td>0</td>\n",
       "      <td>0</td>\n",
       "      <td>...</td>\n",
       "      <td>0.0</td>\n",
       "      <td>0.0</td>\n",
       "      <td>0.5</td>\n",
       "      <td>0.0</td>\n",
       "      <td>9.0</td>\n",
       "      <td>9.0</td>\n",
       "      <td>2.500000e+05</td>\n",
       "      <td>0.095725</td>\n",
       "      <td>-0.165003</td>\n",
       "      <td>-0.019060</td>\n",
       "    </tr>\n",
       "  </tbody>\n",
       "</table>\n",
       "<p>10 rows × 47 columns</p>\n",
       "</div>"
      ],
      "text/plain": [
       "       house_type_0  house_type_иное  house_type_каркасно-камышитовый  \\\n",
       "14190             0                0                                0   \n",
       "14255             0                0                                0   \n",
       "14316             0                0                                0   \n",
       "23148             0                0                                0   \n",
       "23601             0                0                                0   \n",
       "6740              0                0                                0   \n",
       "24371             0                0                                0   \n",
       "11650             0                0                                0   \n",
       "11                0                0                                0   \n",
       "9260              0                0                                0   \n",
       "\n",
       "       house_type_кирпичный  house_type_монолитный  house_type_панельный  \\\n",
       "14190                     0                      0                     1   \n",
       "14255                     0                      0                     1   \n",
       "14316                     0                      0                     1   \n",
       "23148                     0                      0                     1   \n",
       "23601                     0                      1                     0   \n",
       "6740                      0                      1                     0   \n",
       "24371                     1                      0                     0   \n",
       "11650                     0                      1                     0   \n",
       "11                        0                      1                     0   \n",
       "9260                      0                      0                     1   \n",
       "\n",
       "       state_0  state_евроремонт  state_свободная планировка  state_среднее  \\\n",
       "14190        0                 0                           0              1   \n",
       "14255        0                 0                           0              0   \n",
       "14316        0                 0                           0              0   \n",
       "23148        0                 0                           0              1   \n",
       "23601        1                 0                           0              0   \n",
       "6740         0                 1                           0              0   \n",
       "24371        0                 0                           0              0   \n",
       "11650        0                 0                           1              0   \n",
       "11           0                 1                           0              0   \n",
       "9260         1                 0                           0              0   \n",
       "\n",
       "             ...          phone  parking  furniture  at_the_hostel  \\\n",
       "14190        ...            0.0      0.0        0.0            0.0   \n",
       "14255        ...            0.0      0.0        0.0            0.0   \n",
       "14316        ...            1.0      1.0        1.0            0.0   \n",
       "23148        ...            1.0      1.0        0.5            0.0   \n",
       "23601        ...            1.0      1.0        0.5            0.0   \n",
       "6740         ...            1.0      1.0        1.0            0.0   \n",
       "24371        ...            1.0      1.0        0.0            0.0   \n",
       "11650        ...            1.0      0.0        0.0            0.0   \n",
       "11           ...            1.0      1.0        1.0            0.0   \n",
       "9260         ...            0.0      0.0        0.5            0.0   \n",
       "\n",
       "       appartments_floor  building_floors  price_for_sqr_meter  \\\n",
       "14190                4.0              5.0         3.272727e+05   \n",
       "14255                1.0              5.0         2.500000e+05   \n",
       "14316                4.0              5.0         3.887500e+05   \n",
       "23148                1.0              4.0         2.383333e+05   \n",
       "23601                1.0              2.0         1.043333e+06   \n",
       "6740                 5.0              7.0         5.923077e+05   \n",
       "24371                2.0              5.0         4.000000e+05   \n",
       "11650               14.0             15.0         4.678571e+05   \n",
       "11                   7.0              7.0         4.077670e+05   \n",
       "9260                 9.0              9.0         2.500000e+05   \n",
       "\n",
       "       trngl_first_point  trngl_second_point  trngl_third_point  \n",
       "14190           0.121381           -0.139347           0.006596  \n",
       "14255           0.194196           -0.066532           0.079411  \n",
       "14316           0.294702            0.033974           0.179917  \n",
       "23148           0.098151           -0.162577          -0.016634  \n",
       "23601           0.113467           -0.147261          -0.001318  \n",
       "6740            0.095924           -0.164804          -0.018861  \n",
       "24371           0.121045           -0.139683           0.006260  \n",
       "11650           0.109838           -0.150890          -0.004947  \n",
       "11              0.175187           -0.085541           0.060402  \n",
       "9260            0.095725           -0.165003          -0.019060  \n",
       "\n",
       "[10 rows x 47 columns]"
      ]
     },
     "execution_count": 169,
     "metadata": {},
     "output_type": "execute_result"
    }
   ],
   "source": [
    "X_test.sample(10)"
   ]
  },
  {
   "cell_type": "code",
   "execution_count": null,
   "metadata": {
    "collapsed": true
   },
   "outputs": [],
   "source": []
  }
 ],
 "metadata": {
  "kernelspec": {
   "display_name": "Python 3",
   "language": "python",
   "name": "python3"
  },
  "language_info": {
   "codemirror_mode": {
    "name": "ipython",
    "version": 3
   },
   "file_extension": ".py",
   "mimetype": "text/x-python",
   "name": "python",
   "nbconvert_exporter": "python",
   "pygments_lexer": "ipython3",
   "version": "3.5.2"
  }
 },
 "nbformat": 4,
 "nbformat_minor": 2
}
