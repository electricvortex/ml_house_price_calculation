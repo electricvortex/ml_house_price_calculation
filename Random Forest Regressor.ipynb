{
 "cells": [
  {
   "cell_type": "code",
   "execution_count": 78,
   "metadata": {
    "collapsed": true
   },
   "outputs": [],
   "source": [
    "#%matplotlib notebook\n",
    "import pandas as pd\n",
    "import numpy as np\n",
    "from sklearn.utils import shuffle\n",
    "from matplotlib import pyplot as plt\n",
    "from sklearn.neighbors import KNeighborsRegressor\n",
    "import seaborn as sns\n",
    "from sklearn.model_selection import train_test_split\n",
    "%matplotlib inline\n",
    "import math"
   ]
  },
  {
   "cell_type": "code",
   "execution_count": 79,
   "metadata": {
    "collapsed": true
   },
   "outputs": [],
   "source": [
    "df = pd.read_csv(\"new_dtrain.csv\", delimiter=\",\")\n",
    "zeros = df[df['latitude'] == 0]\n",
    "df = df[df['latitude'] != 0]\n",
    "subset = list(df.columns.values)\n",
    "subset = subset.remove('price')\n",
    "data = df.drop_duplicates(subset = subset)\n",
    "#print(len(data[data.price > 1000000000]))\n",
    "data = data[data.price < 1000000000]\n",
    "data = data[data.price < 800000000]\n",
    "data = shuffle(data)\n",
    "data = data.reset_index(drop=True)"
   ]
  },
  {
   "cell_type": "code",
   "execution_count": 80,
   "metadata": {
    "collapsed": true
   },
   "outputs": [],
   "source": [
    "# data = log_feature(data)\n",
    "#choosing data\n",
    "X = data[['room_number', 'house_type',\n",
    "       'built_time', 'appartments_floor', 'all_space', 'state', 'bathroom',\n",
    "       'balcony', 'balcony_glassed', 'door', 'phone', 'ceiling', 'safety',\n",
    "       'at_the_hotel', 'internet', 'furniture', 'parking', 'latitude',\n",
    "       'longitude', 'building_floors', 'map_complex', 'floor',\n",
    "          'trngl_first_point', 'trngl_second_point', 'trngl_third_point']]\n",
    "# X_geo = data[['geocode_lat', 'geocode_long', 'trngl_first_point', 'trngl_second_point', 'trngl_third_point']]\n",
    "y = data['price']\n",
    "# x_columns = X.columns\n",
    "# x_index = X.index\n",
    "# X = normalization(X)\n",
    "# X = pd.DataFrame(X, index=x_index, columns=x_columns)\n",
    "# X = pd.concat([X, X_geo], axis=1)\n",
    "\n",
    "X_train, X_test, y_train, y_test = train_test_split(X, y, random_state=7)"
   ]
  },
  {
   "cell_type": "code",
   "execution_count": 81,
   "metadata": {
    "collapsed": true
   },
   "outputs": [],
   "source": [
    "from sklearn.ensemble import RandomForestRegressor"
   ]
  },
  {
   "cell_type": "code",
   "execution_count": 82,
   "metadata": {
    "collapsed": true
   },
   "outputs": [],
   "source": [
    "model = RandomForestRegressor(n_estimators = 300, random_state=7)"
   ]
  },
  {
   "cell_type": "code",
   "execution_count": 83,
   "metadata": {},
   "outputs": [
    {
     "data": {
      "text/plain": [
       "RandomForestRegressor(bootstrap=True, criterion='mse', max_depth=None,\n",
       "           max_features='auto', max_leaf_nodes=None,\n",
       "           min_impurity_split=1e-07, min_samples_leaf=1,\n",
       "           min_samples_split=2, min_weight_fraction_leaf=0.0,\n",
       "           n_estimators=300, n_jobs=1, oob_score=False, random_state=7,\n",
       "           verbose=0, warm_start=False)"
      ]
     },
     "execution_count": 83,
     "metadata": {},
     "output_type": "execute_result"
    }
   ],
   "source": [
    "model.fit(X_train, y_train)"
   ]
  },
  {
   "cell_type": "code",
   "execution_count": 84,
   "metadata": {},
   "outputs": [
    {
     "name": "stdout",
     "output_type": "stream",
     "text": [
      "RFR Mean absolute error:  3082575.46405\n",
      "RFR Mean squared error:  1.31197001203e+14\n"
     ]
    }
   ],
   "source": [
    "from sklearn.metrics import mean_absolute_error, mean_squared_error\n",
    "print(\"RFR Mean absolute error: \", mean_absolute_error(model.predict(X_test), y_test))\n",
    "print(\"RFR Mean squared error: \", mean_squared_error(model.predict(X_test), y_test))"
   ]
  },
  {
   "cell_type": "code",
   "execution_count": 85,
   "metadata": {
    "collapsed": true
   },
   "outputs": [],
   "source": [
    "def percent_(price):\n",
    "    x = (7*price)/100\n",
    "    price -= x\n",
    "    return price"
   ]
  },
  {
   "cell_type": "code",
   "execution_count": 86,
   "metadata": {},
   "outputs": [],
   "source": [
    "def confidence_interval(data):\n",
    "    const = 3.62\n",
    "    price = data['price']\n",
    "    std = np.std(price)\n",
    "    Z = std/(math.sqrt(len(price)))\n",
    "    return (Z * const)"
   ]
  },
  {
   "cell_type": "code",
   "execution_count": 87,
   "metadata": {
    "collapsed": true
   },
   "outputs": [],
   "source": [
    "def price_range(price, interval):\n",
    "    #confidence interval should be Global variable!!!\n",
    "    upper_price = price + interval\n",
    "    lower_price = price - interval\n",
    "    return upper_price, price, lower_price"
   ]
  },
  {
   "cell_type": "code",
   "execution_count": 88,
   "metadata": {},
   "outputs": [],
   "source": [
    "test = X_test[-1:]"
   ]
  },
  {
   "cell_type": "code",
   "execution_count": 95,
   "metadata": {},
   "outputs": [
    {
     "data": {
      "text/html": [
       "<div>\n",
       "<style>\n",
       "    .dataframe thead tr:only-child th {\n",
       "        text-align: right;\n",
       "    }\n",
       "\n",
       "    .dataframe thead th {\n",
       "        text-align: left;\n",
       "    }\n",
       "\n",
       "    .dataframe tbody tr th {\n",
       "        vertical-align: top;\n",
       "    }\n",
       "</style>\n",
       "<table border=\"1\" class=\"dataframe\">\n",
       "  <thead>\n",
       "    <tr style=\"text-align: right;\">\n",
       "      <th></th>\n",
       "      <th>room_number</th>\n",
       "      <th>house_type</th>\n",
       "      <th>built_time</th>\n",
       "      <th>appartments_floor</th>\n",
       "      <th>all_space</th>\n",
       "      <th>state</th>\n",
       "      <th>bathroom</th>\n",
       "      <th>balcony</th>\n",
       "      <th>balcony_glassed</th>\n",
       "      <th>door</th>\n",
       "      <th>...</th>\n",
       "      <th>furniture</th>\n",
       "      <th>parking</th>\n",
       "      <th>latitude</th>\n",
       "      <th>longitude</th>\n",
       "      <th>building_floors</th>\n",
       "      <th>map_complex</th>\n",
       "      <th>floor</th>\n",
       "      <th>trngl_first_point</th>\n",
       "      <th>trngl_second_point</th>\n",
       "      <th>trngl_third_point</th>\n",
       "    </tr>\n",
       "  </thead>\n",
       "  <tbody>\n",
       "    <tr>\n",
       "      <th>27515</th>\n",
       "      <td>3</td>\n",
       "      <td>3</td>\n",
       "      <td>2014</td>\n",
       "      <td>2.0</td>\n",
       "      <td>95.0</td>\n",
       "      <td>6</td>\n",
       "      <td>3</td>\n",
       "      <td>0</td>\n",
       "      <td>0</td>\n",
       "      <td>0</td>\n",
       "      <td>...</td>\n",
       "      <td>0.0</td>\n",
       "      <td>0</td>\n",
       "      <td>43.238135</td>\n",
       "      <td>76.873887</td>\n",
       "      <td>22.0</td>\n",
       "      <td>1.0</td>\n",
       "      <td>6</td>\n",
       "      <td>17.8923</td>\n",
       "      <td>-8.1805</td>\n",
       "      <td>6.4138</td>\n",
       "    </tr>\n",
       "  </tbody>\n",
       "</table>\n",
       "<p>1 rows × 25 columns</p>\n",
       "</div>"
      ],
      "text/plain": [
       "       room_number  house_type  built_time  appartments_floor  all_space  \\\n",
       "27515            3           3        2014                2.0       95.0   \n",
       "\n",
       "       state  bathroom  balcony  balcony_glassed  door        ...          \\\n",
       "27515      6         3        0                0     0        ...           \n",
       "\n",
       "       furniture  parking   latitude  longitude  building_floors  map_complex  \\\n",
       "27515        0.0        0  43.238135  76.873887             22.0          1.0   \n",
       "\n",
       "       floor  trngl_first_point  trngl_second_point  trngl_third_point  \n",
       "27515      6            17.8923             -8.1805             6.4138  \n",
       "\n",
       "[1 rows x 25 columns]"
      ]
     },
     "execution_count": 95,
     "metadata": {},
     "output_type": "execute_result"
    }
   ],
   "source": [
    "X_test[-1:]"
   ]
  },
  {
   "cell_type": "code",
   "execution_count": 89,
   "metadata": {
    "collapsed": true
   },
   "outputs": [],
   "source": [
    "out = model.predict(test)"
   ]
  },
  {
   "cell_type": "code",
   "execution_count": 90,
   "metadata": {},
   "outputs": [],
   "source": [
    "out = percent_(out)"
   ]
  },
  {
   "cell_type": "code",
   "execution_count": 96,
   "metadata": {},
   "outputs": [
    {
     "data": {
      "text/plain": [
       "array([ 29179492.22857143])"
      ]
     },
     "execution_count": 96,
     "metadata": {},
     "output_type": "execute_result"
    }
   ],
   "source": [
    "out"
   ]
  },
  {
   "cell_type": "code",
   "execution_count": 92,
   "metadata": {},
   "outputs": [],
   "source": [
    "conf_int = confidence_interval(data)"
   ]
  },
  {
   "cell_type": "code",
   "execution_count": 93,
   "metadata": {},
   "outputs": [],
   "source": [
    "up, mid, low = price_range(out, conf_int)"
   ]
  },
  {
   "cell_type": "code",
   "execution_count": 97,
   "metadata": {
    "collapsed": true
   },
   "outputs": [],
   "source": [
    "def price_sqr_meter(sample, out):\n",
    "    space = sample['all_space']\n",
    "    return out/space"
   ]
  },
  {
   "cell_type": "code",
   "execution_count": 98,
   "metadata": {},
   "outputs": [
    {
     "name": "stdout",
     "output_type": "stream",
     "text": [
      "27515    307152.549774\n",
      "Name: all_space, dtype: float64\n"
     ]
    }
   ],
   "source": [
    "print(price_sqr_meter(test, out))"
   ]
  },
  {
   "cell_type": "code",
   "execution_count": 102,
   "metadata": {},
   "outputs": [
    {
     "data": {
      "text/plain": [
       "0                                            Луганского 1 \n",
       "1                                  Муратбаева 94 — Гоголя \n",
       "2                 Шагабутдинова 6 — Жибек Жолы (Горького) \n",
       "3                               Мендикулова 33a — Снегина \n",
       "4                                     Навои 7 — Жандосова \n",
       "5                            Тургута Озала 168 — Шакарима \n",
       "6                               Розыбакиева 81 — Сатпаева \n",
       "7                            Розыбакиева 283 — Аль-Фараби \n",
       "8                     мкр Орбита-1, Навои 1 — Торайгырова \n",
       "9                            Тимирязева 111 — Розыбакиева \n",
       "10                                Гагарина 127 — Мынбаева \n",
       "11                            Айтике Би (Октябрьская) 154 \n",
       "12                              Кунаева 22/13 — Маметовой \n",
       "13                              Спасская 61 — Бекмаханова \n",
       "14                        Кабанбай батыра 104 — Тулебаева \n",
       "15                                         Иргели село 19 \n",
       "16                             мкр Орбита-2, Мустафина 28 \n",
       "17                  Бауыржана Момышулы 13 — проспект Абая \n",
       "18         Шафик Чокина (Мирзояна) 189 — Толе би (Комсо...\n",
       "19                               мкр Кокжиек, Геологов 32 \n",
       "20                  мкр Самал-2, Мендикулова 41 — Снегина \n",
       "21           Байзакова 192 — Карасай Батыра (Виноградова) \n",
       "22                            мкр №9, Саина 18 — Шаляпина \n",
       "23                            Тургут Озала 230/150 — Абая \n",
       "24                            Байсеитовой Куляш 32 — Абая \n",
       "25                                           М-н Алтай 10 \n",
       "26         мкр Аксай-2, Бауыржана Момышулы 36 — Елемесова \n",
       "27                                  Жамбыла 173 — Айтиева \n",
       "28                              Айманова 154 — Джандосова \n",
       "29                                       Масанчи 1 — Абая \n",
       "                               ...                        \n",
       "35421                                Навои 66 — Жандосова \n",
       "35422             Туркебаева 63 — Толе би (Комсомольская) \n",
       "35423                           Курмангазы 145 — Муканова \n",
       "35424                               Кунаева 18 — Маметова \n",
       "35425                                      Туркебаева 281 \n",
       "35426               мкр Аксай-3, Б. Момышулы 10 — Толе би \n",
       "35427      мкр Алгабас, Бауыржана Момышулы 21 — проспек...\n",
       "35428             Айтике Би (Октябрьская) 37 — Абдуллиных \n",
       "35429                                     мкр Айнабулак-3 \n",
       "35430                         Розыбакиева 72 — Тимирязева \n",
       "35431             Райымбека (Ташкентская) 206/7 — Боткина \n",
       "35432      мкр Тастак-2, Дуйсенова Есена (Болотникова) ...\n",
       "35433                    мкр №3, Саина 33 — проспект Абая \n",
       "35434                           мкр Каргалы, Мустафина 98 \n",
       "35435            Радостовца (Мориса Тореза) 47 — Джамбула \n",
       "35436       мкр Мамыр-1, Шаляпина 11 — Бауыржана Момышулы \n",
       "35437       мкр №2, Алтынсарина (Правды) 45 — Куанышбаева \n",
       "35438          Казыбек Би (Советская) 183 — Шафика Чокина \n",
       "35439             мкр Самал-2, Мендикулова 71 — Бектурова \n",
       "35440                                 Муканова 245 — Абая \n",
       "35441                  мкр Аксай-5, Жубанова 2 — Момышулы \n",
       "35442      мкр Алгабас-6, Бауыржана Момышулы 1/178 — Ак...\n",
       "35443                Достык (Ленина) 111\\3 — Хаджи Мукана \n",
       "35444                 мкр №8, Утеген батыра 65 — Шаляпина \n",
       "35445                           проспект Достык — Омарова \n",
       "35446                         Тимирязева 66 — Розыбакиева \n",
       "35447      мкр Орбита-1, Мустафина 21 — Торайгырова (Фр...\n",
       "35448                                Саина 18 — Кабдолова \n",
       "35449       Абылай хана (Коммунистический) 127 — Шевченко \n",
       "35450           мкр №2, Жубанова 6 — Алтынсарина (Правды) \n",
       "Name: address, Length: 35451, dtype: object"
      ]
     },
     "execution_count": 102,
     "metadata": {},
     "output_type": "execute_result"
    }
   ],
   "source": [
    "data.address"
   ]
  },
  {
   "cell_type": "code",
   "execution_count": null,
   "metadata": {
    "collapsed": true
   },
   "outputs": [],
   "source": []
  }
 ],
 "metadata": {
  "kernelspec": {
   "display_name": "Python 3",
   "language": "python",
   "name": "python3"
  },
  "language_info": {
   "codemirror_mode": {
    "name": "ipython",
    "version": 3
   },
   "file_extension": ".py",
   "mimetype": "text/x-python",
   "name": "python",
   "nbconvert_exporter": "python",
   "pygments_lexer": "ipython3",
   "version": "3.5.2"
  }
 },
 "nbformat": 4,
 "nbformat_minor": 2
}
