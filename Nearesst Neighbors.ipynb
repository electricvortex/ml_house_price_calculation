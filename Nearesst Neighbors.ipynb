{
 "cells": [
  {
   "cell_type": "code",
   "execution_count": 257,
   "metadata": {
    "collapsed": true
   },
   "outputs": [],
   "source": [
    "%matplotlib notebook\n",
    "import pandas as pd\n",
    "import numpy as np\n",
    "from sklearn.utils import shuffle\n",
    "from matplotlib import pyplot as plt\n",
    "from sklearn.neighbors import KNeighborsRegressor\n",
    "import seaborn as sns\n",
    "from sklearn.model_selection import train_test_split\n",
    "import sys\n",
    "import math\n",
    "import warnings\n",
    "warnings.filterwarnings('ignore')"
   ]
  },
  {
   "cell_type": "code",
   "execution_count": 259,
   "metadata": {
    "collapsed": true
   },
   "outputs": [],
   "source": [
    "df = pd.read_csv(\"new_dtrain.csv\", delimiter=\",\")\n",
    "zeros = df[df['latitude'] == 0]\n",
    "df = df[df['latitude'] != 0]\n",
    "subset = list(df.columns.values)\n",
    "subset = subset.remove('price')\n",
    "data = df.drop_duplicates(subset = subset)\n",
    "data = data[data.price < 1000000000]\n",
    "data = data[data.price < 800000000]\n",
    "data = shuffle(data)\n",
    "data.replace(-1, 0, inplace=True)\n",
    "data = data.reset_index(drop=True)"
   ]
  },
  {
   "cell_type": "code",
   "execution_count": 260,
   "metadata": {
    "collapsed": true
   },
   "outputs": [],
   "source": [
    "#choosing data\n",
    "X = data[['room_number', 'house_type', 'district',\n",
    "       'built_time', 'appartments_floor', 'all_space', 'state', 'bathroom',\n",
    "       'balcony', 'balcony_glassed', 'door', 'phone', 'ceiling', 'safety',\n",
    "       'at_the_hotel', 'internet', 'furniture', 'parking', 'latitude',\n",
    "       'longitude', 'building_floors', 'map_complex', 'floor',\n",
    "          'trngl_first_point', 'trngl_second_point', 'trngl_third_point']]\n",
    "y = data['price']\n",
    "\n",
    "X_train, X_test, y_train, y_test = train_test_split(X, y, random_state=7)"
   ]
  },
  {
   "cell_type": "code",
   "execution_count": 261,
   "metadata": {
    "collapsed": true
   },
   "outputs": [],
   "source": [
    "out = X_test[-1:]"
   ]
  },
  {
   "cell_type": "code",
   "execution_count": 262,
   "metadata": {},
   "outputs": [
    {
     "data": {
      "text/plain": [
       "29177"
      ]
     },
     "execution_count": 262,
     "metadata": {},
     "output_type": "execute_result"
    }
   ],
   "source": [
    "out.index[0]"
   ]
  },
  {
   "cell_type": "code",
   "execution_count": 263,
   "metadata": {},
   "outputs": [
    {
     "data": {
      "text/plain": [
       "array([[3, 2, 4, 1995, 5.0, 70.0, 6, 2, 2, 0, 0, 0, 0.0, 0, 0, 0, 0.0, 0,\n",
       "        43.25780200000001, 76.930571, 9.0, 0.0, 0, 10.25720000000021,\n",
       "        -15.81559999999982, -1.2213000000009802]], dtype=object)"
      ]
     },
     "execution_count": 263,
     "metadata": {},
     "output_type": "execute_result"
    }
   ],
   "source": [
    "out.values"
   ]
  },
  {
   "cell_type": "code",
   "execution_count": 264,
   "metadata": {},
   "outputs": [
    {
     "data": {
      "text/html": [
       "<div>\n",
       "<style>\n",
       "    .dataframe thead tr:only-child th {\n",
       "        text-align: right;\n",
       "    }\n",
       "\n",
       "    .dataframe thead th {\n",
       "        text-align: left;\n",
       "    }\n",
       "\n",
       "    .dataframe tbody tr th {\n",
       "        vertical-align: top;\n",
       "    }\n",
       "</style>\n",
       "<table border=\"1\" class=\"dataframe\">\n",
       "  <thead>\n",
       "    <tr style=\"text-align: right;\">\n",
       "      <th></th>\n",
       "      <th>Index</th>\n",
       "      <th>district</th>\n",
       "      <th>address</th>\n",
       "      <th>room_number</th>\n",
       "      <th>price</th>\n",
       "      <th>map_complex</th>\n",
       "      <th>house_type</th>\n",
       "      <th>built_time</th>\n",
       "      <th>appartments_floor</th>\n",
       "      <th>all_space</th>\n",
       "      <th>...</th>\n",
       "      <th>internet</th>\n",
       "      <th>furniture</th>\n",
       "      <th>floor</th>\n",
       "      <th>parking</th>\n",
       "      <th>latitude</th>\n",
       "      <th>longitude</th>\n",
       "      <th>building_floors</th>\n",
       "      <th>trngl_first_point</th>\n",
       "      <th>trngl_second_point</th>\n",
       "      <th>trngl_third_point</th>\n",
       "    </tr>\n",
       "  </thead>\n",
       "  <tbody>\n",
       "    <tr>\n",
       "      <th>29177</th>\n",
       "      <td>18077</td>\n",
       "      <td>4</td>\n",
       "      <td>Айтеке би (Октябрьская) 99 — Байтурсынова (К...</td>\n",
       "      <td>3</td>\n",
       "      <td>26500000</td>\n",
       "      <td>0.0</td>\n",
       "      <td>2</td>\n",
       "      <td>1995</td>\n",
       "      <td>5.0</td>\n",
       "      <td>70.0</td>\n",
       "      <td>...</td>\n",
       "      <td>0</td>\n",
       "      <td>0.0</td>\n",
       "      <td>0</td>\n",
       "      <td>0</td>\n",
       "      <td>43.257802</td>\n",
       "      <td>76.930571</td>\n",
       "      <td>9.0</td>\n",
       "      <td>10.2572</td>\n",
       "      <td>-15.8156</td>\n",
       "      <td>-1.2213</td>\n",
       "    </tr>\n",
       "  </tbody>\n",
       "</table>\n",
       "<p>1 rows × 29 columns</p>\n",
       "</div>"
      ],
      "text/plain": [
       "       Index  district                                            address  \\\n",
       "29177  18077         4    Айтеке би (Октябрьская) 99 — Байтурсынова (К...   \n",
       "\n",
       "      room_number     price  map_complex  house_type  built_time  \\\n",
       "29177           3  26500000          0.0           2        1995   \n",
       "\n",
       "       appartments_floor  all_space        ...          internet  furniture  \\\n",
       "29177                5.0       70.0        ...                 0        0.0   \n",
       "\n",
       "       floor  parking   latitude  longitude  building_floors  \\\n",
       "29177      0        0  43.257802  76.930571              9.0   \n",
       "\n",
       "       trngl_first_point  trngl_second_point  trngl_third_point  \n",
       "29177            10.2572            -15.8156            -1.2213  \n",
       "\n",
       "[1 rows x 29 columns]"
      ]
     },
     "execution_count": 264,
     "metadata": {},
     "output_type": "execute_result"
    }
   ],
   "source": [
    "data[data.index == out.index[0]]"
   ]
  },
  {
   "cell_type": "code",
   "execution_count": 265,
   "metadata": {
    "collapsed": true
   },
   "outputs": [],
   "source": [
    "from math import sin, cos, sqrt, atan2, radians\n",
    "lat = X_train['latitude'].values\n",
    "lon = X_train['longitude'].values\n",
    "out_lat = out['latitude'].values\n",
    "out_lon = out['longitude'].values\n",
    "\n",
    "indx = X_train.index\n",
    "\n",
    "answer = np.zeros(len(lat))\n",
    "\n",
    "for i in range(len(lat)):\n",
    "    R = 6373.0\n",
    "    lat1 = radians(lat[i])\n",
    "    lon1 = radians(lon[i])\n",
    "    lat2 = radians(out_lat)\n",
    "    lon2 = radians(out_lon)\n",
    "    \n",
    "    dlon = lon2 - lon1\n",
    "    dlat = lat2 - lat1\n",
    "    \n",
    "    a = sin(dlat / 2)**2 + cos(lat1) * cos(lat2) * sin(dlon / 2)**2\n",
    "    c = 2 * atan2(sqrt(a), sqrt(1 - a))\n",
    "    \n",
    "    distance = R * c\n",
    "    \n",
    "    answer[i] = distance"
   ]
  },
  {
   "cell_type": "code",
   "execution_count": 266,
   "metadata": {
    "collapsed": true
   },
   "outputs": [],
   "source": [
    "newDf = pd.DataFrame()"
   ]
  },
  {
   "cell_type": "code",
   "execution_count": 267,
   "metadata": {
    "collapsed": true
   },
   "outputs": [],
   "source": [
    "newDf['distance'] = answer\n",
    "newDf['indx'] = indx"
   ]
  },
  {
   "cell_type": "code",
   "execution_count": 268,
   "metadata": {
    "collapsed": true,
    "scrolled": true
   },
   "outputs": [],
   "source": [
    "newDf = newDf.sort_values(['distance'], ascending=True)\n",
    "newDf = newDf[100:]"
   ]
  },
  {
   "cell_type": "code",
   "execution_count": 269,
   "metadata": {
    "collapsed": true
   },
   "outputs": [],
   "source": [
    "knn = KNeighborsRegressor(n_neighbors=15, n_jobs=-1)"
   ]
  },
  {
   "cell_type": "code",
   "execution_count": 270,
   "metadata": {
    "collapsed": true
   },
   "outputs": [],
   "source": [
    "mod_df = pd.DataFrame()\n",
    "ind = newDf.indx"
   ]
  },
  {
   "cell_type": "code",
   "execution_count": 271,
   "metadata": {},
   "outputs": [
    {
     "data": {
      "text/plain": [
       "array([25672,  6238, 15510, ..., 23322, 18184, 15825])"
      ]
     },
     "execution_count": 271,
     "metadata": {},
     "output_type": "execute_result"
    }
   ],
   "source": [
    "ind.values"
   ]
  },
  {
   "cell_type": "code",
   "execution_count": 272,
   "metadata": {
    "collapsed": true
   },
   "outputs": [],
   "source": [
    "tofit = data.loc[ind.values]"
   ]
  },
  {
   "cell_type": "code",
   "execution_count": 273,
   "metadata": {},
   "outputs": [
    {
     "data": {
      "text/html": [
       "<div>\n",
       "<style>\n",
       "    .dataframe thead tr:only-child th {\n",
       "        text-align: right;\n",
       "    }\n",
       "\n",
       "    .dataframe thead th {\n",
       "        text-align: left;\n",
       "    }\n",
       "\n",
       "    .dataframe tbody tr th {\n",
       "        vertical-align: top;\n",
       "    }\n",
       "</style>\n",
       "<table border=\"1\" class=\"dataframe\">\n",
       "  <thead>\n",
       "    <tr style=\"text-align: right;\">\n",
       "      <th></th>\n",
       "      <th>Index</th>\n",
       "      <th>district</th>\n",
       "      <th>address</th>\n",
       "      <th>room_number</th>\n",
       "      <th>price</th>\n",
       "      <th>map_complex</th>\n",
       "      <th>house_type</th>\n",
       "      <th>built_time</th>\n",
       "      <th>appartments_floor</th>\n",
       "      <th>all_space</th>\n",
       "      <th>...</th>\n",
       "      <th>internet</th>\n",
       "      <th>furniture</th>\n",
       "      <th>floor</th>\n",
       "      <th>parking</th>\n",
       "      <th>latitude</th>\n",
       "      <th>longitude</th>\n",
       "      <th>building_floors</th>\n",
       "      <th>trngl_first_point</th>\n",
       "      <th>trngl_second_point</th>\n",
       "      <th>trngl_third_point</th>\n",
       "    </tr>\n",
       "  </thead>\n",
       "  <tbody>\n",
       "    <tr>\n",
       "      <th>25672</th>\n",
       "      <td>32139</td>\n",
       "      <td>4</td>\n",
       "      <td>Гоголя 20 — Байтурсынова (Космонавтов)</td>\n",
       "      <td>3</td>\n",
       "      <td>17800000</td>\n",
       "      <td>0.0</td>\n",
       "      <td>2</td>\n",
       "      <td>1980</td>\n",
       "      <td>3.0</td>\n",
       "      <td>63.0</td>\n",
       "      <td>...</td>\n",
       "      <td>0</td>\n",
       "      <td>0.5</td>\n",
       "      <td>0</td>\n",
       "      <td>0</td>\n",
       "      <td>43.25819</td>\n",
       "      <td>76.925945</td>\n",
       "      <td>5.0</td>\n",
       "      <td>10.681</td>\n",
       "      <td>-15.3918</td>\n",
       "      <td>-0.7975</td>\n",
       "    </tr>\n",
       "  </tbody>\n",
       "</table>\n",
       "<p>1 rows × 29 columns</p>\n",
       "</div>"
      ],
      "text/plain": [
       "       Index  district                                    address room_number  \\\n",
       "25672  32139         4    Гоголя 20 — Байтурсынова (Космонавтов)            3   \n",
       "\n",
       "          price  map_complex  house_type  built_time  appartments_floor  \\\n",
       "25672  17800000          0.0           2        1980                3.0   \n",
       "\n",
       "       all_space        ...          internet  furniture  floor  parking  \\\n",
       "25672       63.0        ...                 0        0.5      0        0   \n",
       "\n",
       "       latitude  longitude  building_floors  trngl_first_point  \\\n",
       "25672  43.25819  76.925945              5.0             10.681   \n",
       "\n",
       "       trngl_second_point  trngl_third_point  \n",
       "25672            -15.3918            -0.7975  \n",
       "\n",
       "[1 rows x 29 columns]"
      ]
     },
     "execution_count": 273,
     "metadata": {},
     "output_type": "execute_result"
    }
   ],
   "source": [
    "data[data.index == ind.values[0]]"
   ]
  },
  {
   "cell_type": "code",
   "execution_count": 279,
   "metadata": {},
   "outputs": [],
   "source": [
    "X_fit = tofit[['room_number', 'house_type', 'district',\n",
    "       'built_time', 'appartments_floor', 'all_space', 'state', 'bathroom',\n",
    "       'balcony', 'balcony_glassed', 'door', 'phone', 'ceiling', 'safety',\n",
    "       'at_the_hotel', 'internet', 'furniture', 'parking', 'latitude',\n",
    "       'longitude', 'building_floors', 'map_complex', 'floor',\n",
    "          'trngl_first_point', 'trngl_second_point', 'trngl_third_point']]\n",
    "y_fit = tofit['price']\n",
    "\n",
    "X_fit.replace(' С ', '0', inplace=True)"
   ]
  },
  {
   "cell_type": "code",
   "execution_count": 280,
   "metadata": {},
   "outputs": [
    {
     "data": {
      "text/plain": [
       "KNeighborsRegressor(algorithm='auto', leaf_size=30, metric='minkowski',\n",
       "          metric_params=None, n_jobs=-1, n_neighbors=15, p=2,\n",
       "          weights='uniform')"
      ]
     },
     "execution_count": 280,
     "metadata": {},
     "output_type": "execute_result"
    }
   ],
   "source": [
    "knn.fit(X_fit, y_fit)"
   ]
  },
  {
   "cell_type": "code",
   "execution_count": 281,
   "metadata": {},
   "outputs": [
    {
     "data": {
      "text/plain": [
       "array([ 25679720.])"
      ]
     },
     "execution_count": 281,
     "metadata": {},
     "output_type": "execute_result"
    }
   ],
   "source": [
    "knn.predict(out)"
   ]
  },
  {
   "cell_type": "code",
   "execution_count": 282,
   "metadata": {},
   "outputs": [
    {
     "data": {
      "text/plain": [
       "29177    26500000\n",
       "Name: price, dtype: int64"
      ]
     },
     "execution_count": 282,
     "metadata": {},
     "output_type": "execute_result"
    }
   ],
   "source": [
    "y_test[-1:]"
   ]
  },
  {
   "cell_type": "code",
   "execution_count": 283,
   "metadata": {},
   "outputs": [
    {
     "data": {
      "text/plain": [
       "29177    820280.0\n",
       "Name: price, dtype: float64"
      ]
     },
     "execution_count": 283,
     "metadata": {},
     "output_type": "execute_result"
    }
   ],
   "source": [
    "abs(knn.predict(out) - y_test[-1:])"
   ]
  },
  {
   "cell_type": "code",
   "execution_count": 284,
   "metadata": {},
   "outputs": [
    {
     "data": {
      "text/html": [
       "<div>\n",
       "<style>\n",
       "    .dataframe thead tr:only-child th {\n",
       "        text-align: right;\n",
       "    }\n",
       "\n",
       "    .dataframe thead th {\n",
       "        text-align: left;\n",
       "    }\n",
       "\n",
       "    .dataframe tbody tr th {\n",
       "        vertical-align: top;\n",
       "    }\n",
       "</style>\n",
       "<table border=\"1\" class=\"dataframe\">\n",
       "  <thead>\n",
       "    <tr style=\"text-align: right;\">\n",
       "      <th></th>\n",
       "      <th>room_number</th>\n",
       "      <th>house_type</th>\n",
       "      <th>district</th>\n",
       "      <th>built_time</th>\n",
       "      <th>appartments_floor</th>\n",
       "      <th>all_space</th>\n",
       "      <th>state</th>\n",
       "      <th>bathroom</th>\n",
       "      <th>balcony</th>\n",
       "      <th>balcony_glassed</th>\n",
       "      <th>...</th>\n",
       "      <th>furniture</th>\n",
       "      <th>parking</th>\n",
       "      <th>latitude</th>\n",
       "      <th>longitude</th>\n",
       "      <th>building_floors</th>\n",
       "      <th>map_complex</th>\n",
       "      <th>floor</th>\n",
       "      <th>trngl_first_point</th>\n",
       "      <th>trngl_second_point</th>\n",
       "      <th>trngl_third_point</th>\n",
       "    </tr>\n",
       "  </thead>\n",
       "  <tbody>\n",
       "    <tr>\n",
       "      <th>29177</th>\n",
       "      <td>3</td>\n",
       "      <td>2</td>\n",
       "      <td>4</td>\n",
       "      <td>1995</td>\n",
       "      <td>5.0</td>\n",
       "      <td>70.0</td>\n",
       "      <td>6</td>\n",
       "      <td>2</td>\n",
       "      <td>2</td>\n",
       "      <td>0</td>\n",
       "      <td>...</td>\n",
       "      <td>0.0</td>\n",
       "      <td>0</td>\n",
       "      <td>43.257802</td>\n",
       "      <td>76.930571</td>\n",
       "      <td>9.0</td>\n",
       "      <td>0.0</td>\n",
       "      <td>0</td>\n",
       "      <td>10.2572</td>\n",
       "      <td>-15.8156</td>\n",
       "      <td>-1.2213</td>\n",
       "    </tr>\n",
       "  </tbody>\n",
       "</table>\n",
       "<p>1 rows × 26 columns</p>\n",
       "</div>"
      ],
      "text/plain": [
       "      room_number  house_type  district  built_time  appartments_floor  \\\n",
       "29177           3           2         4        1995                5.0   \n",
       "\n",
       "       all_space  state  bathroom  balcony  balcony_glassed  \\\n",
       "29177       70.0      6         2        2                0   \n",
       "\n",
       "             ...          furniture  parking   latitude  longitude  \\\n",
       "29177        ...                0.0        0  43.257802  76.930571   \n",
       "\n",
       "       building_floors  map_complex  floor  trngl_first_point  \\\n",
       "29177              9.0          0.0      0            10.2572   \n",
       "\n",
       "       trngl_second_point  trngl_third_point  \n",
       "29177            -15.8156            -1.2213  \n",
       "\n",
       "[1 rows x 26 columns]"
      ]
     },
     "execution_count": 284,
     "metadata": {},
     "output_type": "execute_result"
    }
   ],
   "source": [
    "out"
   ]
  },
  {
   "cell_type": "code",
   "execution_count": 285,
   "metadata": {},
   "outputs": [
    {
     "data": {
      "text/plain": [
       "(array([[ 2.61350346,  5.40648686,  5.59127843,  6.30261621,  6.50223085,\n",
       "          6.53340046,  6.56966125,  6.77307381,  6.77307381,  6.77307381,\n",
       "          6.77307381,  7.38325094,  7.4876235 ,  7.50143189,  7.58335234]]),\n",
       " array([[  176,  6070,  3970,    27,  1935,  2069,  4285,  1819,  1821,\n",
       "          1822,  1823,  3968,  2606, 10658,   165]]))"
      ]
     },
     "execution_count": 285,
     "metadata": {},
     "output_type": "execute_result"
    }
   ],
   "source": [
    "knn.kneighbors(out)"
   ]
  },
  {
   "cell_type": "code",
   "execution_count": 288,
   "metadata": {},
   "outputs": [
    {
     "data": {
      "text/html": [
       "<div>\n",
       "<style>\n",
       "    .dataframe thead tr:only-child th {\n",
       "        text-align: right;\n",
       "    }\n",
       "\n",
       "    .dataframe thead th {\n",
       "        text-align: left;\n",
       "    }\n",
       "\n",
       "    .dataframe tbody tr th {\n",
       "        vertical-align: top;\n",
       "    }\n",
       "</style>\n",
       "<table border=\"1\" class=\"dataframe\">\n",
       "  <thead>\n",
       "    <tr style=\"text-align: right;\">\n",
       "      <th></th>\n",
       "      <th>Index</th>\n",
       "      <th>district</th>\n",
       "      <th>address</th>\n",
       "      <th>room_number</th>\n",
       "      <th>price</th>\n",
       "      <th>map_complex</th>\n",
       "      <th>house_type</th>\n",
       "      <th>built_time</th>\n",
       "      <th>appartments_floor</th>\n",
       "      <th>all_space</th>\n",
       "      <th>...</th>\n",
       "      <th>internet</th>\n",
       "      <th>furniture</th>\n",
       "      <th>floor</th>\n",
       "      <th>parking</th>\n",
       "      <th>latitude</th>\n",
       "      <th>longitude</th>\n",
       "      <th>building_floors</th>\n",
       "      <th>trngl_first_point</th>\n",
       "      <th>trngl_second_point</th>\n",
       "      <th>trngl_third_point</th>\n",
       "    </tr>\n",
       "  </thead>\n",
       "  <tbody>\n",
       "    <tr>\n",
       "      <th>176</th>\n",
       "      <td>17045</td>\n",
       "      <td>4</td>\n",
       "      <td>Наурызбай батыра 28 — проспект Жибек Жолы</td>\n",
       "      <td>1</td>\n",
       "      <td>11000000</td>\n",
       "      <td>0.0</td>\n",
       "      <td>2</td>\n",
       "      <td>1985</td>\n",
       "      <td>3.0</td>\n",
       "      <td>33.0</td>\n",
       "      <td>...</td>\n",
       "      <td>2</td>\n",
       "      <td>0.5</td>\n",
       "      <td>0</td>\n",
       "      <td>1</td>\n",
       "      <td>43.26253</td>\n",
       "      <td>76.935622</td>\n",
       "      <td>5.0</td>\n",
       "      <td>9.27932</td>\n",
       "      <td>-16.79348</td>\n",
       "      <td>-2.19918</td>\n",
       "    </tr>\n",
       "  </tbody>\n",
       "</table>\n",
       "<p>1 rows × 29 columns</p>\n",
       "</div>"
      ],
      "text/plain": [
       "     Index  district                                       address  \\\n",
       "176  17045         4    Наурызбай батыра 28 — проспект Жибек Жолы    \n",
       "\n",
       "    room_number     price  map_complex  house_type  built_time  \\\n",
       "176           1  11000000          0.0           2        1985   \n",
       "\n",
       "     appartments_floor  all_space        ...          internet  furniture  \\\n",
       "176                3.0       33.0        ...                 2        0.5   \n",
       "\n",
       "     floor  parking  latitude  longitude  building_floors  trngl_first_point  \\\n",
       "176      0        1  43.26253  76.935622              5.0            9.27932   \n",
       "\n",
       "     trngl_second_point  trngl_third_point  \n",
       "176           -16.79348           -2.19918  \n",
       "\n",
       "[1 rows x 29 columns]"
      ]
     },
     "execution_count": 288,
     "metadata": {},
     "output_type": "execute_result"
    }
   ],
   "source": [
    "data[data.index == 176]"
   ]
  },
  {
   "cell_type": "code",
   "execution_count": 289,
   "metadata": {},
   "outputs": [
    {
     "data": {
      "text/html": [
       "<div>\n",
       "<style>\n",
       "    .dataframe thead tr:only-child th {\n",
       "        text-align: right;\n",
       "    }\n",
       "\n",
       "    .dataframe thead th {\n",
       "        text-align: left;\n",
       "    }\n",
       "\n",
       "    .dataframe tbody tr th {\n",
       "        vertical-align: top;\n",
       "    }\n",
       "</style>\n",
       "<table border=\"1\" class=\"dataframe\">\n",
       "  <thead>\n",
       "    <tr style=\"text-align: right;\">\n",
       "      <th></th>\n",
       "      <th>Index</th>\n",
       "      <th>district</th>\n",
       "      <th>address</th>\n",
       "      <th>room_number</th>\n",
       "      <th>price</th>\n",
       "      <th>map_complex</th>\n",
       "      <th>house_type</th>\n",
       "      <th>built_time</th>\n",
       "      <th>appartments_floor</th>\n",
       "      <th>all_space</th>\n",
       "      <th>...</th>\n",
       "      <th>internet</th>\n",
       "      <th>furniture</th>\n",
       "      <th>floor</th>\n",
       "      <th>parking</th>\n",
       "      <th>latitude</th>\n",
       "      <th>longitude</th>\n",
       "      <th>building_floors</th>\n",
       "      <th>trngl_first_point</th>\n",
       "      <th>trngl_second_point</th>\n",
       "      <th>trngl_third_point</th>\n",
       "    </tr>\n",
       "  </thead>\n",
       "  <tbody>\n",
       "    <tr>\n",
       "      <th>6070</th>\n",
       "      <td>26631</td>\n",
       "      <td>1</td>\n",
       "      <td>мкр №1, Саина 74</td>\n",
       "      <td>1</td>\n",
       "      <td>9500000</td>\n",
       "      <td>0.0</td>\n",
       "      <td>2</td>\n",
       "      <td>1970</td>\n",
       "      <td>3.0</td>\n",
       "      <td>33.0</td>\n",
       "      <td>...</td>\n",
       "      <td>2</td>\n",
       "      <td>0.0</td>\n",
       "      <td>0</td>\n",
       "      <td>1</td>\n",
       "      <td>43.230339</td>\n",
       "      <td>76.844881</td>\n",
       "      <td>4.0</td>\n",
       "      <td>21.5725</td>\n",
       "      <td>-4.5003</td>\n",
       "      <td>10.094</td>\n",
       "    </tr>\n",
       "  </tbody>\n",
       "</table>\n",
       "<p>1 rows × 29 columns</p>\n",
       "</div>"
      ],
      "text/plain": [
       "      Index  district              address room_number    price  map_complex  \\\n",
       "6070  26631         1    мкр №1, Саина 74            1  9500000          0.0   \n",
       "\n",
       "      house_type  built_time  appartments_floor  all_space        ...          \\\n",
       "6070           2        1970                3.0       33.0        ...           \n",
       "\n",
       "      internet  furniture  floor  parking   latitude  longitude  \\\n",
       "6070         2        0.0      0        1  43.230339  76.844881   \n",
       "\n",
       "      building_floors  trngl_first_point  trngl_second_point  \\\n",
       "6070              4.0            21.5725             -4.5003   \n",
       "\n",
       "      trngl_third_point  \n",
       "6070             10.094  \n",
       "\n",
       "[1 rows x 29 columns]"
      ]
     },
     "execution_count": 289,
     "metadata": {},
     "output_type": "execute_result"
    }
   ],
   "source": [
    "data[data.index == 6070]"
   ]
  },
  {
   "cell_type": "code",
   "execution_count": 290,
   "metadata": {},
   "outputs": [
    {
     "data": {
      "text/html": [
       "<div>\n",
       "<style>\n",
       "    .dataframe thead tr:only-child th {\n",
       "        text-align: right;\n",
       "    }\n",
       "\n",
       "    .dataframe thead th {\n",
       "        text-align: left;\n",
       "    }\n",
       "\n",
       "    .dataframe tbody tr th {\n",
       "        vertical-align: top;\n",
       "    }\n",
       "</style>\n",
       "<table border=\"1\" class=\"dataframe\">\n",
       "  <thead>\n",
       "    <tr style=\"text-align: right;\">\n",
       "      <th></th>\n",
       "      <th>Index</th>\n",
       "      <th>district</th>\n",
       "      <th>address</th>\n",
       "      <th>room_number</th>\n",
       "      <th>price</th>\n",
       "      <th>map_complex</th>\n",
       "      <th>house_type</th>\n",
       "      <th>built_time</th>\n",
       "      <th>appartments_floor</th>\n",
       "      <th>all_space</th>\n",
       "      <th>...</th>\n",
       "      <th>internet</th>\n",
       "      <th>furniture</th>\n",
       "      <th>floor</th>\n",
       "      <th>parking</th>\n",
       "      <th>latitude</th>\n",
       "      <th>longitude</th>\n",
       "      <th>building_floors</th>\n",
       "      <th>trngl_first_point</th>\n",
       "      <th>trngl_second_point</th>\n",
       "      <th>trngl_third_point</th>\n",
       "    </tr>\n",
       "  </thead>\n",
       "  <tbody>\n",
       "    <tr>\n",
       "      <th>3970</th>\n",
       "      <td>2068</td>\n",
       "      <td>1</td>\n",
       "      <td>мкр Таугуль 3 — Шаляпина</td>\n",
       "      <td>3</td>\n",
       "      <td>24900000</td>\n",
       "      <td>0.0</td>\n",
       "      <td>4</td>\n",
       "      <td>1979</td>\n",
       "      <td>2.0</td>\n",
       "      <td>59.0</td>\n",
       "      <td>...</td>\n",
       "      <td>2</td>\n",
       "      <td>1.0</td>\n",
       "      <td>0</td>\n",
       "      <td>1</td>\n",
       "      <td>43.205531</td>\n",
       "      <td>76.836383</td>\n",
       "      <td>2.0</td>\n",
       "      <td>24.9031</td>\n",
       "      <td>-1.1697</td>\n",
       "      <td>13.4246</td>\n",
       "    </tr>\n",
       "  </tbody>\n",
       "</table>\n",
       "<p>1 rows × 29 columns</p>\n",
       "</div>"
      ],
      "text/plain": [
       "      Index  district                      address room_number     price  \\\n",
       "3970   2068         1    мкр Таугуль 3 — Шаляпина            3  24900000   \n",
       "\n",
       "      map_complex  house_type  built_time  appartments_floor  all_space  \\\n",
       "3970          0.0           4        1979                2.0       59.0   \n",
       "\n",
       "            ...          internet  furniture  floor  parking   latitude  \\\n",
       "3970        ...                 2        1.0      0        1  43.205531   \n",
       "\n",
       "      longitude  building_floors  trngl_first_point  trngl_second_point  \\\n",
       "3970  76.836383              2.0            24.9031             -1.1697   \n",
       "\n",
       "      trngl_third_point  \n",
       "3970            13.4246  \n",
       "\n",
       "[1 rows x 29 columns]"
      ]
     },
     "execution_count": 290,
     "metadata": {},
     "output_type": "execute_result"
    }
   ],
   "source": [
    "data[data.index == 3970]"
   ]
  },
  {
   "cell_type": "code",
   "execution_count": 291,
   "metadata": {},
   "outputs": [
    {
     "data": {
      "text/html": [
       "<div>\n",
       "<style>\n",
       "    .dataframe thead tr:only-child th {\n",
       "        text-align: right;\n",
       "    }\n",
       "\n",
       "    .dataframe thead th {\n",
       "        text-align: left;\n",
       "    }\n",
       "\n",
       "    .dataframe tbody tr th {\n",
       "        vertical-align: top;\n",
       "    }\n",
       "</style>\n",
       "<table border=\"1\" class=\"dataframe\">\n",
       "  <thead>\n",
       "    <tr style=\"text-align: right;\">\n",
       "      <th></th>\n",
       "      <th>Index</th>\n",
       "      <th>district</th>\n",
       "      <th>address</th>\n",
       "      <th>room_number</th>\n",
       "      <th>price</th>\n",
       "      <th>map_complex</th>\n",
       "      <th>house_type</th>\n",
       "      <th>built_time</th>\n",
       "      <th>appartments_floor</th>\n",
       "      <th>all_space</th>\n",
       "      <th>...</th>\n",
       "      <th>internet</th>\n",
       "      <th>furniture</th>\n",
       "      <th>floor</th>\n",
       "      <th>parking</th>\n",
       "      <th>latitude</th>\n",
       "      <th>longitude</th>\n",
       "      <th>building_floors</th>\n",
       "      <th>trngl_first_point</th>\n",
       "      <th>trngl_second_point</th>\n",
       "      <th>trngl_third_point</th>\n",
       "    </tr>\n",
       "  </thead>\n",
       "  <tbody>\n",
       "    <tr>\n",
       "      <th>27</th>\n",
       "      <td>12166</td>\n",
       "      <td>6</td>\n",
       "      <td>мкр Кокжиек, Мкр. Кокжиек 31</td>\n",
       "      <td>1</td>\n",
       "      <td>8400000</td>\n",
       "      <td>0.0</td>\n",
       "      <td>0</td>\n",
       "      <td>2010</td>\n",
       "      <td>5.0</td>\n",
       "      <td>40.0</td>\n",
       "      <td>...</td>\n",
       "      <td>2</td>\n",
       "      <td>0.5</td>\n",
       "      <td>0</td>\n",
       "      <td>1</td>\n",
       "      <td>43.358533</td>\n",
       "      <td>76.923007</td>\n",
       "      <td>6.0</td>\n",
       "      <td>0.9405</td>\n",
       "      <td>-25.1323</td>\n",
       "      <td>-10.538</td>\n",
       "    </tr>\n",
       "  </tbody>\n",
       "</table>\n",
       "<p>1 rows × 29 columns</p>\n",
       "</div>"
      ],
      "text/plain": [
       "    Index  district                          address room_number    price  \\\n",
       "27  12166         6    мкр Кокжиек, Мкр. Кокжиек 31            1  8400000   \n",
       "\n",
       "    map_complex  house_type  built_time  appartments_floor  all_space  \\\n",
       "27          0.0           0        2010                5.0       40.0   \n",
       "\n",
       "          ...          internet  furniture  floor  parking   latitude  \\\n",
       "27        ...                 2        0.5      0        1  43.358533   \n",
       "\n",
       "    longitude  building_floors  trngl_first_point  trngl_second_point  \\\n",
       "27  76.923007              6.0             0.9405            -25.1323   \n",
       "\n",
       "    trngl_third_point  \n",
       "27            -10.538  \n",
       "\n",
       "[1 rows x 29 columns]"
      ]
     },
     "execution_count": 291,
     "metadata": {},
     "output_type": "execute_result"
    }
   ],
   "source": [
    "data[data.index == 27]"
   ]
  },
  {
   "cell_type": "code",
   "execution_count": null,
   "metadata": {
    "collapsed": true
   },
   "outputs": [],
   "source": []
  }
 ],
 "metadata": {
  "kernelspec": {
   "display_name": "Python 3",
   "language": "python",
   "name": "python3"
  },
  "language_info": {
   "codemirror_mode": {
    "name": "ipython",
    "version": 3
   },
   "file_extension": ".py",
   "mimetype": "text/x-python",
   "name": "python",
   "nbconvert_exporter": "python",
   "pygments_lexer": "ipython3",
   "version": "3.5.2"
  }
 },
 "nbformat": 4,
 "nbformat_minor": 2
}
