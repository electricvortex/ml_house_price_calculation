{
 "cells": [
  {
   "cell_type": "code",
   "execution_count": 17,
   "metadata": {
    "collapsed": true
   },
   "outputs": [],
   "source": [
    "%matplotlib notebook\n",
    "import pandas as pd\n",
    "import numpy as np\n",
    "from matplotlib import pyplot as plt\n",
    "import seaborn as sns\n",
    "import pygeohash as pgh\n",
    "import warnings\n",
    "warnings.filterwarnings('ignore')"
   ]
  },
  {
   "cell_type": "code",
   "execution_count": 18,
   "metadata": {
    "collapsed": false
   },
   "outputs": [
    {
     "name": "stdout",
     "output_type": "stream",
     "text": [
      "Index(['id', 'room_number', 'address', 'price', 'region', 'map_complex',\n",
      "       'house_type', 'built_time', 'floor', 'all_space', 'living_space',\n",
      "       'kitchen_space', 'state', 'bathroom', 'balcony', 'balcony_is_glazed',\n",
      "       'door', 'phone', 'internet', 'parking', 'furniture', 'flooring',\n",
      "       'ceiling', 'safety', 'at_the_hostel', 'description_option',\n",
      "       'description_text', 'geocode_lat', 'geocode_long', 'last_update_time',\n",
      "       'last_update_script'],\n",
      "      dtype='object')\n",
      "['бронированная' nan 'металлическая' 'деревянная']\n"
     ]
    }
   ],
   "source": [
    "data = pd.read_csv(\"train.csv\", delimiter=\",\")\n",
    "print(data.columns)\n",
    "print(data['door'].unique())    "
   ]
  },
  {
   "cell_type": "code",
   "execution_count": 19,
   "metadata": {
    "collapsed": true
   },
   "outputs": [],
   "source": [
    "def transfiguration(data):\n",
    "    df = data[['address', 'room_number', 'price', 'region', 'map_complex', 'house_type', 'built_time', 'floor', 'all_space', \n",
    "         'state', 'bathroom', 'balcony', 'door', 'phone', 'internet', 'parking', 'furniture',\n",
    "         'safety', 'at_the_hostel', 'geocode_lat', 'geocode_long']]\n",
    "    \n",
    "#     df['house_type'].replace([\"монолитный\", \"панельный\", \"кирпичный\", \"иное\", \"каркасно-камышитовый\"],\n",
    "#                              [1, 2, 3, 4, 5],inplace=True)\n",
    "#     df['state'].replace([\"евроремонт\", \"хорошее\", \"черновая отделка\", \"требует ремонта\", \"среднее\",\n",
    "#                          \"свободная планировка\"],\n",
    "#                              [1, 2, 3, 4, 5, 6],inplace=True)\n",
    "    df['parking'].replace([\"рядом охраняемая стоянка\", \"паркинг\", \"гараж\"],\n",
    "                             [1, 1, 1],inplace=True)\n",
    "    df['furniture'].replace([\"полностью меблирована\", \"частично меблирована\", \"пустая\"],\n",
    "                             [1, 0.5, 0],inplace=True)\n",
    "#     df['door'].replace([\"бронированная\", \"металлическая\", \"деревянная\"],\n",
    "#                              [1, 2, 3],inplace=True)\n",
    "#     df['region'].replace(['Алматы, Бостандыкский р-н', 'Алматы, Жетысуский р-н',\n",
    "#                          'Алматы, Ауэзовский р-н','Алматы, Алатауский р-н',\n",
    "#                          'Алматы, Жетысуйский р-н', 'Алматы, Медеуский р-н',\n",
    "#                          'Алматы, Наурызбайский р-н', 'Алматы, Алмалинский р-н',\n",
    "#                         'Алматы, Турксибский р-н', 'Алматы','Казахстан'],[1,2,3,4,2,5,6,7,8,0,0],inplace=True)\n",
    "    df['at_the_hostel'].replace([\"нет\", \"да\"],\n",
    "                             [0, 1],inplace=True)\n",
    "    df['balcony'].replace([\"да\", \"балкон\", \"лоджия\", \"балкон и лоджия\", \"несколько балконов или лоджий\"],\n",
    "                             [1, 1, 1, 1, 1],inplace=True)\n",
    "#     df['internet'].replace([\"ADSL\", \"проводной\", \"через TV кабель\", \"оптика\"],\n",
    "#                              [1, 1, 2, 3],inplace=True)\n",
    "#     df['bathroom'].replace(['раздельный', 'совмещенный', '2 с/у и более', 'нет'],\n",
    "#                              [1, 2, 3, 4],inplace=True)\n",
    "    df['phone'].replace(['отдельный', 'есть возможность подключения', 'нет', 'блокиратор'],\n",
    "                             [1, 0, 0, 0], inplace=True)\n",
    "\n",
    "    df['geocode_lat'] = df['geocode_lat'].convert_objects(convert_numeric = True)\n",
    "    df['geocode_long'] = df['geocode_long'].convert_objects(convert_numeric = True)\n",
    "    df['all_space'] = df['all_space'].str.replace('м2','')\n",
    "    df['all_space'] = df['all_space'].convert_objects(convert_numeric = True)\n",
    "    df['price'] = df['price'].apply(lambda x: x.replace(\"\\xa0\", \"\"))\n",
    "    df['price'] = pd.to_numeric(df['price'])\n",
    "    df.replace(\"None\", 0, inplace=True)\n",
    "    df = df.fillna(0)\n",
    "    return df\n",
    "\n",
    "def floor_divider(df):\n",
    "    floor = df['floor']\n",
    "    building_floor = np.zeros(len(floor))\n",
    "    appartments_floor = np.zeros(len(floor))\n",
    "    for i in range(len(floor)):\n",
    "        if (floor[i] != 0):\n",
    "            temp = floor[i]\n",
    "            building_floor[i] = temp[-2:]\n",
    "            appartments_floor[i] = temp[:2]\n",
    "        else:\n",
    "            building_floor[i] = 0\n",
    "            appartments_floor[i] = 0\n",
    "\n",
    "\n",
    "    df['appartments_floor'] = appartments_floor\n",
    "    df['building_floors'] = building_floor\n",
    "    return df\n",
    "\n",
    "def built_time_divider(df):\n",
    "    time = df['built_time']\n",
    "    temp = np.zeros(len(time))\n",
    "    for i in range(len(time)):\n",
    "        if \"г.п.\" in time[i]:\n",
    "            temporary = time[i]\n",
    "            temp[i] = temporary[:-4]\n",
    "        else:\n",
    "            temp[i] = time[i]\n",
    "\n",
    "    df['built_time'] = temp\n",
    "    return df\n",
    "\n",
    "def calculate_price_for_sqr_meter(x):\n",
    "    return (x['price'] + 0.0) / x['all_space']\n",
    "\n",
    "def get_price_for_sqr_meter(dataframe):\n",
    "    dataframe['price_for_sqr_meter'] = dataframe.apply(lambda x: calculate_price_for_sqr_meter(x), axis = 1)\n",
    "    return dataframe\n",
    "\n",
    "def make_geohash(data):\n",
    "    lat = data['geocode_lat']\n",
    "    long = data['geocode_long']\n",
    "    geohash = []\n",
    "    for i in range(len(lat)):\n",
    "        geohash.append(pgh.encode(lat[i], long[i], precision=5))\n",
    "    data['geohash'] = geohash\n",
    "    data['geohash'] = pd.to_numeric(data['geohash'], errors='coerce').fillna(0).astype(np.int64)\n",
    "    return data\n",
    "\n",
    "def binning(df_X):\n",
    "    for_binning = ['house_type', 'state', 'door', 'region', 'internet', 'bathroom']\n",
    "    for c in for_binning:\n",
    "        data_label = pd.get_dummies(df_X[c],prefix = c)\n",
    "        df_X = df_X.drop(c,axis =1)\n",
    "        #df_X = df_X.join(data_label, lsuffix='_df_X', rsuffix='_data_label')\n",
    "        df_X = pd.concat([df_X, data_label], axis=1, join_axes=[df_X.index])\n",
    "        print(\"Binned\", c,'to ',data_label.columns)\n",
    "    return df_X\n",
    "\n",
    "def triangulation(df):\n",
    "    latitude = df['geocode_lat']\n",
    "    longitude = df['geocode_long']\n",
    "    #Almaty - 1: 43.340777, 76.950168\n",
    "    #Kalkaman - 1: 43.232742, 76.797475\n",
    "    #Tausamal: 43.196848, 76.979312\n",
    "    first_point = []\n",
    "    second_point = []\n",
    "    third_point = []\n",
    "    for i in range(len(latitude)):\n",
    "        first_point.append((43.340777 - latitude[i]) + (76.950168 - longitude[i]))\n",
    "        second_point.append((43.232742 - latitude[i]) + (76.797475 - longitude[i]))\n",
    "        third_point.append((43.196848 - latitude[i]) + (76.979312 - longitude[i]))\n",
    "    \n",
    "    df['trngl_first_point'] = first_point\n",
    "    df['trngl_second_point'] = second_point\n",
    "    df['trngl_third_point'] = third_point\n",
    "    return df"
   ]
  },
  {
   "cell_type": "code",
   "execution_count": 20,
   "metadata": {
    "collapsed": false
   },
   "outputs": [
    {
     "name": "stdout",
     "output_type": "stream",
     "text": [
      "Binned house_type to  Index(['house_type_0', 'house_type_иное', 'house_type_каркасно-камышитовый',\n",
      "       'house_type_кирпичный', 'house_type_монолитный',\n",
      "       'house_type_панельный'],\n",
      "      dtype='object')\n",
      "Binned state to  Index(['state_0', 'state_евроремонт', 'state_свободная планировка',\n",
      "       'state_среднее', 'state_требует ремонта', 'state_хорошее',\n",
      "       'state_черновая отделка'],\n",
      "      dtype='object')\n",
      "Binned door to  Index(['door_0', 'door_бронированная', 'door_деревянная',\n",
      "       'door_металлическая'],\n",
      "      dtype='object')\n",
      "Binned region to  Index(['region_Алматы', 'region_Алматы, Алатауский р-н',\n",
      "       'region_Алматы, Алмалинский р-н', 'region_Алматы, Ауэзовский р-н',\n",
      "       'region_Алматы, Бостандыкский р-н', 'region_Алматы, Жетысуйский р-н',\n",
      "       'region_Алматы, Жетысуский р-н', 'region_Алматы, Медеуский р-н',\n",
      "       'region_Алматы, Наурызбайский р-н', 'region_Алматы, Турксибский р-н',\n",
      "       'region_Казахстан'],\n",
      "      dtype='object')\n",
      "Binned internet to  Index(['internet_0', 'internet_ADSL', 'internet_оптика', 'internet_проводной',\n",
      "       'internet_через TV кабель'],\n",
      "      dtype='object')\n",
      "Binned bathroom to  Index(['bathroom_0', 'bathroom_2 с/у и более', 'bathroom_нет',\n",
      "       'bathroom_раздельный', 'bathroom_совмещенный'],\n",
      "      dtype='object')\n"
     ]
    }
   ],
   "source": [
    "df = transfiguration(data)\n",
    "df = floor_divider(df)\n",
    "df = built_time_divider(df)\n",
    "df = get_price_for_sqr_meter(df)\n",
    "df = make_geohash(df)\n",
    "df = binning(df)\n",
    "df = triangulation(df)"
   ]
  },
  {
   "cell_type": "code",
   "execution_count": 21,
   "metadata": {
    "collapsed": true
   },
   "outputs": [],
   "source": [
    "# for d, i in df.iterrows():\n",
    "#     print(i)\n",
    "#     break"
   ]
  },
  {
   "cell_type": "code",
   "execution_count": null,
   "metadata": {
    "collapsed": true
   },
   "outputs": [],
   "source": []
  },
  {
   "cell_type": "code",
   "execution_count": 22,
   "metadata": {
    "collapsed": true
   },
   "outputs": [],
   "source": [
    "df.to_csv(\"dtrain.csv\", index=False)"
   ]
  },
  {
   "cell_type": "code",
   "execution_count": null,
   "metadata": {
    "collapsed": true
   },
   "outputs": [],
   "source": []
  }
 ],
 "metadata": {
  "anaconda-cloud": {},
  "kernelspec": {
   "display_name": "Python [default]",
   "language": "python",
   "name": "python3"
  },
  "language_info": {
   "codemirror_mode": {
    "name": "ipython",
    "version": 3
   },
   "file_extension": ".py",
   "mimetype": "text/x-python",
   "name": "python",
   "nbconvert_exporter": "python",
   "pygments_lexer": "ipython3",
   "version": "3.5.2"
  }
 },
 "nbformat": 4,
 "nbformat_minor": 2
}
