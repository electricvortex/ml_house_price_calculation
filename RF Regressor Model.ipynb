{
 "cells": [
  {
   "cell_type": "code",
   "execution_count": 1,
   "metadata": {
    "collapsed": true
   },
   "outputs": [],
   "source": [
    "%matplotlib notebook\n",
    "import pandas as pd\n",
    "import numpy as np\n",
    "from matplotlib import pyplot as plt\n",
    "from sklearn.neighbors import KNeighborsRegressor\n",
    "from sklearn.ensemble import RandomForestRegressor\n",
    "import seaborn as sns\n",
    "from sklearn.model_selection import train_test_split"
   ]
  },
  {
   "cell_type": "code",
   "execution_count": 2,
   "metadata": {
    "collapsed": true
   },
   "outputs": [],
   "source": [
    "def normalization(data):\n",
    "    from sklearn.preprocessing import MinMaxScaler\n",
    "    scaler = MinMaxScaler()\n",
    "    data = scaler.fit_transform(data)\n",
    "    return data"
   ]
  },
  {
   "cell_type": "code",
   "execution_count": 3,
   "metadata": {
    "collapsed": true
   },
   "outputs": [],
   "source": [
    "data = pd.read_csv(\"dtrain.csv\", delimiter=\",\")\n",
    "data = data[data['geocode_lat'] != 0]\n",
    "zeros = data[data['geocode_lat'] == 0]"
   ]
  },
  {
   "cell_type": "code",
   "execution_count": 4,
   "metadata": {
    "collapsed": true
   },
   "outputs": [],
   "source": [
    "#choosing data\n",
    "X = data[['house_type_0', 'house_type_иное', 'house_type_каркасно-камышитовый',\n",
    "       'house_type_кирпичный', 'house_type_монолитный',\n",
    "       'house_type_панельный', 'state_0', 'state_евроремонт', 'state_свободная планировка',\n",
    "       'state_среднее', 'state_требует ремонта', 'state_хорошее',\n",
    "       'state_черновая отделка', 'region_Алматы', 'region_Алматы, Алатауский р-н',\n",
    "       'region_Алматы, Алмалинский р-н', 'region_Алматы, Ауэзовский р-н',\n",
    "       'region_Алматы, Бостандыкский р-н', 'region_Алматы, Жетысуйский р-н',\n",
    "       'region_Алматы, Жетысуский р-н', 'region_Алматы, Медеуский р-н',\n",
    "       'region_Алматы, Наурызбайский р-н', 'region_Алматы, Турксибский р-н',\n",
    "       'region_Казахстан', 'internet_0', 'internet_ADSL', 'internet_оптика', 'internet_проводной',\n",
    "       'internet_через TV кабель', 'bathroom_0', 'bathroom_2 с/у и более', 'bathroom_нет',\n",
    "       'bathroom_раздельный', 'bathroom_совмещенный', 'built_time', 'all_space', 'balcony',\n",
    "          'phone', 'parking', 'furniture', 'at_the_hostel',\n",
    "          'appartments_floor', 'building_floors', 'price_for_sqr_meter',\n",
    "         'trngl_first_point', 'trngl_second_point', 'trngl_third_point']]\n",
    "#X_geo = data[['geocode_lat', 'geocode_long']]\n",
    "y = data['price']\n",
    "#x_columns = X.columns\n",
    "#x_index = X.index\n",
    "# X = normalization(X)\n",
    "#X = pd.DataFrame(X, index=x_index, columns=x_columns)\n",
    "#X = pd.concat([X, X_geo], axis=1)\n",
    "\n",
    "X_train, X_test, y_train, y_test = train_test_split(X, y, random_state=0)"
   ]
  },
  {
   "cell_type": "code",
   "execution_count": 5,
   "metadata": {
    "collapsed": true
   },
   "outputs": [],
   "source": [
    "model = RandomForestRegressor(n_estimators = (len(X.columns) * 2), n_jobs = -1, oob_score = True, random_state=7)"
   ]
  },
  {
   "cell_type": "code",
   "execution_count": 6,
   "metadata": {},
   "outputs": [
    {
     "data": {
      "text/plain": [
       "RandomForestRegressor(bootstrap=True, criterion='mse', max_depth=None,\n",
       "           max_features='auto', max_leaf_nodes=None,\n",
       "           min_impurity_split=1e-07, min_samples_leaf=1,\n",
       "           min_samples_split=2, min_weight_fraction_leaf=0.0,\n",
       "           n_estimators=94, n_jobs=-1, oob_score=True, random_state=7,\n",
       "           verbose=0, warm_start=False)"
      ]
     },
     "execution_count": 6,
     "metadata": {},
     "output_type": "execute_result"
    }
   ],
   "source": [
    "model.fit(X_train, y_train)"
   ]
  },
  {
   "cell_type": "code",
   "execution_count": 7,
   "metadata": {},
   "outputs": [
    {
     "data": {
      "text/plain": [
       "0.97011885757805594"
      ]
     },
     "execution_count": 7,
     "metadata": {},
     "output_type": "execute_result"
    }
   ],
   "source": [
    "model.score(X_test, y_test)"
   ]
  },
  {
   "cell_type": "code",
   "execution_count": 8,
   "metadata": {},
   "outputs": [
    {
     "data": {
      "text/plain": [
       "Index(['house_type_0', 'house_type_иное', 'house_type_каркасно-камышитовый',\n",
       "       'house_type_кирпичный', 'house_type_монолитный', 'house_type_панельный',\n",
       "       'state_0', 'state_евроремонт', 'state_свободная планировка',\n",
       "       'state_среднее', 'state_требует ремонта', 'state_хорошее',\n",
       "       'state_черновая отделка', 'region_Алматы',\n",
       "       'region_Алматы, Алатауский р-н', 'region_Алматы, Алмалинский р-н',\n",
       "       'region_Алматы, Ауэзовский р-н', 'region_Алматы, Бостандыкский р-н',\n",
       "       'region_Алматы, Жетысуйский р-н', 'region_Алматы, Жетысуский р-н',\n",
       "       'region_Алматы, Медеуский р-н', 'region_Алматы, Наурызбайский р-н',\n",
       "       'region_Алматы, Турксибский р-н', 'region_Казахстан', 'internet_0',\n",
       "       'internet_ADSL', 'internet_оптика', 'internet_проводной',\n",
       "       'internet_через TV кабель', 'bathroom_0', 'bathroom_2 с/у и более',\n",
       "       'bathroom_нет', 'bathroom_раздельный', 'bathroom_совмещенный',\n",
       "       'built_time', 'all_space', 'balcony', 'phone', 'parking', 'furniture',\n",
       "       'at_the_hostel', 'appartments_floor', 'building_floors',\n",
       "       'price_for_sqr_meter', 'trngl_first_point', 'trngl_second_point',\n",
       "       'trngl_third_point'],\n",
       "      dtype='object')"
      ]
     },
     "execution_count": 8,
     "metadata": {},
     "output_type": "execute_result"
    }
   ],
   "source": [
    "X.columns"
   ]
  },
  {
   "cell_type": "code",
   "execution_count": 9,
   "metadata": {
    "collapsed": true
   },
   "outputs": [],
   "source": [
    "# #last two features - latitude and longitude (index 48 and 49)\n",
    "# print(model.feature_importances_[48])\n",
    "# print(model.feature_importances_[49])"
   ]
  },
  {
   "cell_type": "code",
   "execution_count": 10,
   "metadata": {},
   "outputs": [
    {
     "name": "stdout",
     "output_type": "stream",
     "text": [
      "Mean absolute error:  517285.420173\n",
      "Mean squared error:  6.93400461108e+13\n"
     ]
    }
   ],
   "source": [
    "from sklearn.metrics import mean_absolute_error, mean_squared_error\n",
    "print(\"Mean absolute error: \", mean_absolute_error(model.predict(X_test), y_test))\n",
    "print(\"Mean squared error: \", mean_squared_error(model.predict(X_test), y_test))"
   ]
  },
  {
   "cell_type": "code",
   "execution_count": 11,
   "metadata": {
    "scrolled": true
   },
   "outputs": [
    {
     "data": {
      "text/plain": [
       "array([  7.76333931e-06,   5.63936770e-07,   1.99519990e-08,\n",
       "         2.85214287e-05,   3.03031191e-04,   7.74624210e-05,\n",
       "         2.12956781e-04,   4.28784700e-04,   1.65746880e-05,\n",
       "         4.60114922e-04,   1.51448470e-06,   4.12548553e-05,\n",
       "         7.97988905e-06,   3.70169400e-06,   1.27700346e-07,\n",
       "         2.65327338e-04,   2.80802075e-06,   2.48403079e-03,\n",
       "         8.99085321e-11,   9.48032215e-08,   1.21976108e-03,\n",
       "         4.80910603e-06,   9.34164569e-08,   0.00000000e+00,\n",
       "         6.71943872e-04,   3.15795459e-04,   7.70133198e-05,\n",
       "         2.46491969e-05,   3.49374943e-04,   3.24014497e-04,\n",
       "         8.38712017e-05,   1.07281313e-08,   2.57375012e-04,\n",
       "         5.97323179e-06,   1.17604528e-03,   5.25813383e-01,\n",
       "         2.77149652e-04,   5.52598474e-05,   1.07445701e-04,\n",
       "         1.18199528e-04,   9.21274875e-08,   3.82902048e-02,\n",
       "         3.26288562e-03,   4.18367905e-01,   2.02198585e-03,\n",
       "         1.60233645e-03,   1.22978948e-03])"
      ]
     },
     "execution_count": 11,
     "metadata": {},
     "output_type": "execute_result"
    }
   ],
   "source": [
    "model.feature_importances_"
   ]
  },
  {
   "cell_type": "code",
   "execution_count": 12,
   "metadata": {
    "collapsed": true
   },
   "outputs": [],
   "source": [
    "def scorer(clf, X, y):\n",
    "    return mean_absolute_error(clf.predict(X), y)"
   ]
  },
  {
   "cell_type": "code",
   "execution_count": 13,
   "metadata": {},
   "outputs": [
    {
     "name": "stdout",
     "output_type": "stream",
     "text": [
      "[ 3618815.19083155   335270.48198061   295212.04753519   119848.72226562\n",
      "   209934.58216206]\n"
     ]
    }
   ],
   "source": [
    "from sklearn.model_selection import cross_val_score\n",
    "scores = cross_val_score(model, X, y, cv=5, scoring=scorer)\n",
    "print(scores)"
   ]
  },
  {
   "cell_type": "code",
   "execution_count": 14,
   "metadata": {},
   "outputs": [
    {
     "name": "stdout",
     "output_type": "stream",
     "text": [
      "915816.204955\n"
     ]
    }
   ],
   "source": [
    "print(scores.mean())"
   ]
  },
  {
   "cell_type": "code",
   "execution_count": 15,
   "metadata": {
    "collapsed": true
   },
   "outputs": [],
   "source": [
    "t = [(model.feature_importances_[i], X.columns[i]) for i in range(X.shape[1])]\n",
    "t.sort(reverse=True)"
   ]
  },
  {
   "cell_type": "code",
   "execution_count": 16,
   "metadata": {},
   "outputs": [
    {
     "data": {
      "text/plain": [
       "[(0.52581338254395316, 'all_space'),\n",
       " (0.41836790503866578, 'price_for_sqr_meter'),\n",
       " (0.038290204800329471, 'appartments_floor'),\n",
       " (0.0032628856174852501, 'building_floors'),\n",
       " (0.0024840307880825674, 'region_Алматы, Бостандыкский р-н'),\n",
       " (0.0020219858528856592, 'trngl_first_point'),\n",
       " (0.0016023364492485201, 'trngl_second_point'),\n",
       " (0.0012297894816159104, 'trngl_third_point'),\n",
       " (0.0012197610760695942, 'region_Алматы, Медеуский р-н'),\n",
       " (0.0011760452759525637, 'built_time'),\n",
       " (0.00067194387239048129, 'internet_0'),\n",
       " (0.00046011492190065696, 'state_среднее'),\n",
       " (0.00042878470010155559, 'state_евроремонт'),\n",
       " (0.00034937494348801456, 'internet_через TV кабель'),\n",
       " (0.00032401449725510679, 'bathroom_0'),\n",
       " (0.00031579545906041642, 'internet_ADSL'),\n",
       " (0.00030303119101401298, 'house_type_монолитный'),\n",
       " (0.0002771496516037598, 'balcony'),\n",
       " (0.00026532733779698254, 'region_Алматы, Алмалинский р-н'),\n",
       " (0.00025737501229295464, 'bathroom_раздельный'),\n",
       " (0.00021295678146652234, 'state_0'),\n",
       " (0.00011819952753442697, 'furniture'),\n",
       " (0.00010744570103161104, 'parking'),\n",
       " (8.3871201721221253e-05, 'bathroom_2 с/у и более'),\n",
       " (7.7462421031218947e-05, 'house_type_панельный'),\n",
       " (7.701331980064727e-05, 'internet_оптика'),\n",
       " (5.5259847412010328e-05, 'phone'),\n",
       " (4.1254855318610366e-05, 'state_хорошее'),\n",
       " (2.8521428670850773e-05, 'house_type_кирпичный'),\n",
       " (2.4649196920869565e-05, 'internet_проводной'),\n",
       " (1.6574687950091212e-05, 'state_свободная планировка'),\n",
       " (7.9798890469027126e-06, 'state_черновая отделка'),\n",
       " (7.7633393106424816e-06, 'house_type_0'),\n",
       " (5.9732317858754266e-06, 'bathroom_совмещенный'),\n",
       " (4.8091060323268769e-06, 'region_Алматы, Наурызбайский р-н'),\n",
       " (3.7016939982141152e-06, 'region_Алматы'),\n",
       " (2.8080207510290783e-06, 'region_Алматы, Ауэзовский р-н'),\n",
       " (1.5144847039874773e-06, 'state_требует ремонта'),\n",
       " (5.6393677013840634e-07, 'house_type_иное'),\n",
       " (1.2770034556447005e-07, 'region_Алматы, Алатауский р-н'),\n",
       " (9.4803221458841016e-08, 'region_Алматы, Жетысуский р-н'),\n",
       " (9.3416456908545493e-08, 'region_Алматы, Турксибский р-н'),\n",
       " (9.2127487549249099e-08, 'at_the_hostel'),\n",
       " (1.9951998962745296e-08, 'house_type_каркасно-камышитовый'),\n",
       " (1.0728131318973597e-08, 'bathroom_нет'),\n",
       " (8.9908532086228585e-11, 'region_Алматы, Жетысуйский р-н'),\n",
       " (0.0, 'region_Казахстан')]"
      ]
     },
     "execution_count": 16,
     "metadata": {},
     "output_type": "execute_result"
    }
   ],
   "source": [
    "t"
   ]
  },
  {
   "cell_type": "code",
   "execution_count": 140,
   "metadata": {
    "collapsed": true
   },
   "outputs": [],
   "source": []
  },
  {
   "cell_type": "code",
   "execution_count": 198,
   "metadata": {
    "collapsed": true
   },
   "outputs": [],
   "source": [
    "#all_cols = X.columns\n",
    "# good_cols = []\n",
    "# bad_cols = []\n",
    "# scores = cross_val_score(model, X, y, cv=5, scoring=scorer)\n",
    "# old_score = scores.mean()\n",
    "# for col in all_cols:\n",
    "#     tmpX = X[list(set(X.columns) - set(col) - set(bad_cols))]\n",
    "#     new_scores = cross_val_score(model, tmpX, y, cv=5, scoring=scorer)\n",
    "#     if(old_score < new_scores.mean()):\n",
    "#         good_cols.append(col)\n",
    "#     else:\n",
    "#         bad_cols.append(col)\n",
    "#     old_score = new_scores.mean()"
   ]
  },
  {
   "cell_type": "code",
   "execution_count": 180,
   "metadata": {
    "collapsed": true
   },
   "outputs": [],
   "source": [
    "# good_cols[13:17]"
   ]
  }
 ],
 "metadata": {
  "kernelspec": {
   "display_name": "Python 3",
   "language": "python",
   "name": "python3"
  },
  "language_info": {
   "codemirror_mode": {
    "name": "ipython",
    "version": 3
   },
   "file_extension": ".py",
   "mimetype": "text/x-python",
   "name": "python",
   "nbconvert_exporter": "python",
   "pygments_lexer": "ipython3",
   "version": "3.5.2"
  }
 },
 "nbformat": 4,
 "nbformat_minor": 2
}
