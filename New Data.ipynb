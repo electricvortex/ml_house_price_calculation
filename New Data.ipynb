{
 "cells": [
  {
   "cell_type": "code",
   "execution_count": 36,
   "metadata": {
    "collapsed": true
   },
   "outputs": [],
   "source": [
    "%matplotlib notebook\n",
    "import pandas as pd\n",
    "import numpy as np\n",
    "from matplotlib import pyplot as plt\n",
    "from sklearn.neighbors import KNeighborsRegressor\n",
    "from sklearn.ensemble import RandomForestRegressor\n",
    "import seaborn as sns\n",
    "from sklearn.model_selection import train_test_split"
   ]
  },
  {
   "cell_type": "code",
   "execution_count": 37,
   "metadata": {
    "collapsed": true
   },
   "outputs": [],
   "source": [
    "def normalization(data):\n",
    "    from sklearn.preprocessing import MinMaxScaler\n",
    "    scaler = MinMaxScaler()\n",
    "    data = scaler.fit_transform(data)\n",
    "    return data\n",
    "\n",
    "\n",
    "def floor_divider(df):\n",
    "    floor = df['appartments_floor']\n",
    "    building_floor = np.zeros(len(floor))\n",
    "    appartments_floor = np.zeros(len(floor))\n",
    "    for i in range(len(floor)):\n",
    "        if (\"из\" in floor[i]):\n",
    "            temp = floor[i].split(\"из\")\n",
    "            building_floor[i] = temp[1]\n",
    "            appartments_floor[i] = temp[0]\n",
    "        else:\n",
    "            building_floor[i] = 0\n",
    "            appartments_floor[i] = 0\n",
    "\n",
    "    df['appartments_floor'] = appartments_floor\n",
    "    df['building_floors'] = building_floor\n",
    "    return df\n",
    "\n",
    "def built_time_divider(df):\n",
    "    time = df['built_time']\n",
    "    temp = np.zeros(len(time))\n",
    "    for i in range(len(time)):\n",
    "        if \"г.п.\" in time[i]:\n",
    "            temporary = time[i]\n",
    "            temp[i] = temporary[:-4]\n",
    "        else:\n",
    "            temp[i] = time[i]\n",
    "\n",
    "    df['built_time'] = temp\n",
    "    return df\n",
    "\n",
    "def triangulation(df):\n",
    "    latitude = df['geocode_lat']\n",
    "    longitude = df['geocode_long']\n",
    "    #Almaty - 1: 43.340777, 76.950168\n",
    "    #Kalkaman - 1: 43.232742, 76.797475\n",
    "    #Tausamal: 43.196848, 76.979312\n",
    "    first_point = []\n",
    "    second_point = []\n",
    "    third_point = []\n",
    "    for i in range(len(latitude)):\n",
    "        first_point.append((43.340777 - latitude[i]) + (76.950168 - longitude[i]))\n",
    "        second_point.append((43.232742 - latitude[i]) + (76.797475 - longitude[i]))\n",
    "        third_point.append((43.196848 - latitude[i]) + (76.979312 - longitude[i]))\n",
    "    \n",
    "    df['trngl_first_point'] = first_point\n",
    "    df['trngl_second_point'] = second_point\n",
    "    df['trngl_third_point'] = third_point\n",
    "    return df\n",
    "\n",
    "def binning(df_X):\n",
    "    for_binning = ['map_complex', 'floor']\n",
    "    for c in for_binning:\n",
    "        data_label = pd.get_dummies(df_X[c],prefix = c)\n",
    "        df_X = df_X.drop(c,axis =1)\n",
    "        #df_X = df_X.join(data_label, lsuffix='_df_X', rsuffix='_data_label')\n",
    "        df_X = pd.concat([df_X, data_label], axis=1, join_axes=[df_X.index])\n",
    "        print(\"Binned\", c,'to ',data_label.columns)\n",
    "    return df_X\n",
    "\n",
    "def triangulation(df):\n",
    "    latitude = df['latitude']\n",
    "    longitude = df['longitude']\n",
    "    #Almaty - 1: 43.340777, 76.950168\n",
    "    #Kalkaman - 1: 43.232742, 76.797475\n",
    "    #Tausamal: 43.196848, 76.979312\n",
    "    first_point = []\n",
    "    second_point = []\n",
    "    third_point = []\n",
    "    for i in range(len(latitude)):\n",
    "        first_point.append(((43.340777 - latitude[i]) + (76.950168 - longitude[i]))*100)\n",
    "        second_point.append(((43.232742 - latitude[i]) + (76.797475 - longitude[i]))*100)\n",
    "        third_point.append(((43.196848 - latitude[i]) + (76.979312 - longitude[i]))*100)\n",
    "    \n",
    "    df['trngl_first_point'] = first_point\n",
    "    df['trngl_second_point'] = second_point \n",
    "    df['trngl_third_point'] = third_point\n",
    "    return df"
   ]
  },
  {
   "cell_type": "code",
   "execution_count": 38,
   "metadata": {
    "collapsed": true
   },
   "outputs": [],
   "source": [
    "#read data\n",
    "columns = ['Index', 'address', 'room_number', 'price', 'map_complex', 'house_type', 'built_time',\n",
    "          'appartments_floor', 'all_space', 'state', 'bathroom', 'balcony', 'balcony_glassed', 'door',\n",
    "          'phone', 'ceiling', 'safety', 'at_the_hotel', 'internet', 'furniture', 'floor', 'parking', \n",
    "           'latitude', 'longitude']\n",
    "data = pd.read_csv(\"tocsv.txt\", delimiter=\";\", header = None)\n",
    "data.columns = columns\n",
    "\n",
    "#modifying price (remove \"\\xa0 and ₸ symbol)\n",
    "data['price'] = data['price'].str.replace(\"\\xa0\", \"\")\n",
    "data['price'] = data['price'].str.replace(\"₸\", \"\")\n",
    "data.price = data.price.astype(int)"
   ]
  },
  {
   "cell_type": "code",
   "execution_count": 39,
   "metadata": {
    "collapsed": true
   },
   "outputs": [],
   "source": [
    "lat = data[data['latitude'] != 0]"
   ]
  },
  {
   "cell_type": "code",
   "execution_count": 40,
   "metadata": {},
   "outputs": [
    {
     "data": {
      "text/plain": [
       "808"
      ]
     },
     "execution_count": 40,
     "metadata": {},
     "output_type": "execute_result"
    }
   ],
   "source": [
    "len(data) - len(lat)"
   ]
  },
  {
   "cell_type": "code",
   "execution_count": 41,
   "metadata": {
    "collapsed": true
   },
   "outputs": [],
   "source": [
    "# data.map_complex.unique()"
   ]
  },
  {
   "cell_type": "code",
   "execution_count": 42,
   "metadata": {
    "scrolled": true
   },
   "outputs": [],
   "source": [
    "data = floor_divider(data)\n",
    "data['built_time'] = data['built_time'].str.replace(\"г.п.\", \"\")\n",
    "data['all_space'] = data['all_space'].str.replace(\"м2\", \"\")\n",
    "data['ceiling'] = data['ceiling'].str.replace(\"м \", \"\")\n",
    "data.replace(-1, 0, inplace=True)\n",
    "#replacing -1 with 0 (-1 as object)\n",
    "tr = data['floor'][0]\n",
    "vl = 0\n",
    "data.replace(to_replace=tr, value=vl, inplace=True)\n",
    "#Replacing string with int\n",
    "data['state'].replace([' черновая отделка ', ' свободная планировка ', ' хорошее ',\n",
    "       ' среднее ', ' евроремонт ', ' требует ремонта '], [2 , 1, 5, 4, 6, 3], inplace=True)\n",
    "data['bathroom'].replace([' 2 с/у и более ', ' совмещенный ', ' раздельный ',' нет '], \n",
    "                      [3, 1, 2, 0], inplace=True)\n",
    "data['balcony'].replace([' лоджия ', 0, ' балкон ', ' несколько балконов или лоджий ',\n",
    "       ' балкон и лоджия '], [2, 0, 1, 4, 3], inplace=True)\n",
    "data['balcony_glassed'].replace([' да ', 0], [1, 0], inplace=True)\n",
    "data['at_the_hotel'].replace([' нет ', ' да ', 0], [0, 1, 0], inplace=True)\n",
    "data['door'].replace([' бронированная ', ' металлическая ', ' деревянная ', 0], [3, 2, 1, 0], inplace=True)\n",
    "data['phone'].replace([' есть возможность подключения ', 0, ' отдельный ', ' нет ',\n",
    "       ' блокиратор '], [ 3, 0, 4, 0, 2], inplace=True)\n",
    "data['internet'].replace([' оптика ', 0, ' через TV кабель ', ' ADSL ', ' проводной '], [ 4, 0, 1, 2, 3],\n",
    "                        inplace=True)\n",
    "data['furniture'].replace([' пустая ', ' полностью меблирована ', ' частично меблирована ', 0], [0, 1, 0.5, 0],\n",
    "                         inplace=True)\n",
    "data['parking'].replace([' паркинг ', 0, ' рядом охраняемая стоянка ', ' гараж '], [1, 0, 1, 1],\n",
    "                       inplace=True)\n",
    "data['house_type'].replace([' монолитный ', ' панельный ', ' кирпичный ', 0,\n",
    "       ' каркасно-камышитовый ', ' иное '], [ 3, 2, 4, 0, 1, 0], inplace=True)\n",
    "data['floor'].replace([' -1 ', ' линолеум ', ' ламинат ', ' паркет ', ' дерево ',\n",
    "       ' плитка ', ' пробковое ', ' ковролан '], [0, 1, 6, 7, 5, 3, 4, 2], inplace=True)\n",
    "data = triangulation(data)"
   ]
  },
  {
   "cell_type": "code",
   "execution_count": 43,
   "metadata": {
    "collapsed": true
   },
   "outputs": [],
   "source": [
    "names = data['map_complex'].unique()\n",
    "# names = np.delete(names, 1)\n",
    "# indx = np.arange(1, len(data['map_complex'].unique()), 1)\n",
    "# data['map_complex'] = data['map_complex'].replace(names, indx, inplace=True)\n",
    "complexs = data['map_complex']\n",
    "ans = np.zeros(len(data))\n",
    "for i in range(len(names)):\n",
    "    for j in range(len(data)):\n",
    "        if names[i] == complexs[j]:\n",
    "            ans[j] = i\n",
    "            \n",
    "data['map_complex'] = ans"
   ]
  },
  {
   "cell_type": "code",
   "execution_count": 44,
   "metadata": {
    "collapsed": true
   },
   "outputs": [],
   "source": [
    "data.to_csv(\"new_dtrain.csv\", index=False)"
   ]
  },
  {
   "cell_type": "code",
   "execution_count": null,
   "metadata": {
    "collapsed": true
   },
   "outputs": [],
   "source": []
  }
 ],
 "metadata": {
  "kernelspec": {
   "display_name": "Python 3",
   "language": "python",
   "name": "python3"
  },
  "language_info": {
   "codemirror_mode": {
    "name": "ipython",
    "version": 3
   },
   "file_extension": ".py",
   "mimetype": "text/x-python",
   "name": "python",
   "nbconvert_exporter": "python",
   "pygments_lexer": "ipython3",
   "version": "3.5.2"
  }
 },
 "nbformat": 4,
 "nbformat_minor": 2
}
