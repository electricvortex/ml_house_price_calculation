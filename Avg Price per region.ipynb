{
 "cells": [
  {
   "cell_type": "code",
   "execution_count": 2,
   "metadata": {
    "collapsed": true
   },
   "outputs": [],
   "source": [
    "import pandas as pd\n",
    "import numpy as np\n",
    "import matplotlib as plt\n",
    "import sys\n",
    "import math\n",
    "%matplotlib inline"
   ]
  },
  {
   "cell_type": "code",
   "execution_count": 3,
   "metadata": {
    "collapsed": true
   },
   "outputs": [],
   "source": [
    "data = pd.read_csv(\"train.csv\", delimiter = \",\")"
   ]
  },
  {
   "cell_type": "code",
   "execution_count": 5,
   "metadata": {
    "scrolled": true
   },
   "outputs": [
    {
     "data": {
      "text/html": [
       "<div>\n",
       "<style>\n",
       "    .dataframe thead tr:only-child th {\n",
       "        text-align: right;\n",
       "    }\n",
       "\n",
       "    .dataframe thead th {\n",
       "        text-align: left;\n",
       "    }\n",
       "\n",
       "    .dataframe tbody tr th {\n",
       "        vertical-align: top;\n",
       "    }\n",
       "</style>\n",
       "<table border=\"1\" class=\"dataframe\">\n",
       "  <thead>\n",
       "    <tr style=\"text-align: right;\">\n",
       "      <th></th>\n",
       "      <th>id</th>\n",
       "      <th>room_number</th>\n",
       "      <th>address</th>\n",
       "      <th>price</th>\n",
       "      <th>region</th>\n",
       "      <th>map_complex</th>\n",
       "      <th>house_type</th>\n",
       "      <th>built_time</th>\n",
       "      <th>floor</th>\n",
       "      <th>all_space</th>\n",
       "      <th>...</th>\n",
       "      <th>flooring</th>\n",
       "      <th>ceiling</th>\n",
       "      <th>safety</th>\n",
       "      <th>at_the_hostel</th>\n",
       "      <th>description_option</th>\n",
       "      <th>description_text</th>\n",
       "      <th>geocode_lat</th>\n",
       "      <th>geocode_long</th>\n",
       "      <th>last_update_time</th>\n",
       "      <th>last_update_script</th>\n",
       "    </tr>\n",
       "  </thead>\n",
       "  <tbody>\n",
       "    <tr>\n",
       "      <th>0</th>\n",
       "      <td>2118808</td>\n",
       "      <td>3</td>\n",
       "      <td>Аскарова — Аль-Фараби</td>\n",
       "      <td>51 975 000</td>\n",
       "      <td>Алматы, Бостандыкский р-н</td>\n",
       "      <td>Аль-Фараби</td>\n",
       "      <td>монолитный</td>\n",
       "      <td>2010</td>\n",
       "      <td>9 из 9</td>\n",
       "      <td>111 м2</td>\n",
       "      <td>...</td>\n",
       "      <td>паркет</td>\n",
       "      <td>3 м</td>\n",
       "      <td>охрана, видеодомофон</td>\n",
       "      <td>нет</td>\n",
       "      <td>Пластиковые окна, неугловая, улучшенная, комна...</td>\n",
       "      <td>Жил. комплекс ЖК \"Аль-Фараби\", Монолитный дом,...</td>\n",
       "      <td>None</td>\n",
       "      <td>None</td>\n",
       "      <td>None</td>\n",
       "      <td>None</td>\n",
       "    </tr>\n",
       "    <tr>\n",
       "      <th>1</th>\n",
       "      <td>2619943</td>\n",
       "      <td>3</td>\n",
       "      <td>Кабанбай батыра 49 — Луганского</td>\n",
       "      <td>90 480 000</td>\n",
       "      <td>Алматы, Медеуский р-н</td>\n",
       "      <td>Максима Резидентс</td>\n",
       "      <td>монолитный</td>\n",
       "      <td>2014</td>\n",
       "      <td>2 из 9</td>\n",
       "      <td>135 м2</td>\n",
       "      <td>...</td>\n",
       "      <td>NaN</td>\n",
       "      <td>3 м</td>\n",
       "      <td>охрана, домофон, видеонаблюдение, видеодомофон</td>\n",
       "      <td>нет</td>\n",
       "      <td>Неугловая, комнаты изолированы, встроенная кух...</td>\n",
       "      <td>Жил. комплекс ЖК \"Максима\", Монолитный дом, 20...</td>\n",
       "      <td>43.242988</td>\n",
       "      <td>76.798402</td>\n",
       "      <td>1497606806</td>\n",
       "      <td>2</td>\n",
       "    </tr>\n",
       "  </tbody>\n",
       "</table>\n",
       "<p>2 rows × 31 columns</p>\n",
       "</div>"
      ],
      "text/plain": [
       "        id  room_number                          address       price  \\\n",
       "0  2118808            3            Аскарова — Аль-Фараби  51 975 000   \n",
       "1  2619943            3  Кабанбай батыра 49 — Луганского  90 480 000   \n",
       "\n",
       "                      region        map_complex  house_type built_time  \\\n",
       "0  Алматы, Бостандыкский р-н         Аль-Фараби  монолитный       2010   \n",
       "1      Алматы, Медеуский р-н  Максима Резидентс  монолитный       2014   \n",
       "\n",
       "    floor all_space        ...         flooring ceiling  \\\n",
       "0  9 из 9    111 м2        ...           паркет     3 м   \n",
       "1  2 из 9    135 м2        ...              NaN     3 м   \n",
       "\n",
       "                                           safety at_the_hostel  \\\n",
       "0                            охрана, видеодомофон           нет   \n",
       "1  охрана, домофон, видеонаблюдение, видеодомофон           нет   \n",
       "\n",
       "                                  description_option  \\\n",
       "0  Пластиковые окна, неугловая, улучшенная, комна...   \n",
       "1  Неугловая, комнаты изолированы, встроенная кух...   \n",
       "\n",
       "                                    description_text geocode_lat geocode_long  \\\n",
       "0  Жил. комплекс ЖК \"Аль-Фараби\", Монолитный дом,...        None         None   \n",
       "1  Жил. комплекс ЖК \"Максима\", Монолитный дом, 20...   43.242988    76.798402   \n",
       "\n",
       "  last_update_time last_update_script  \n",
       "0             None               None  \n",
       "1       1497606806                  2  \n",
       "\n",
       "[2 rows x 31 columns]"
      ]
     },
     "execution_count": 5,
     "metadata": {},
     "output_type": "execute_result"
    }
   ],
   "source": [
    "data.head(2)"
   ]
  },
  {
   "cell_type": "code",
   "execution_count": 6,
   "metadata": {},
   "outputs": [
    {
     "name": "stderr",
     "output_type": "stream",
     "text": [
      "/usr/local/lib/python3.5/dist-packages/ipykernel_launcher.py:8: FutureWarning: convert_objects is deprecated.  Use the data-type specific converters pd.to_datetime, pd.to_timedelta and pd.to_numeric.\n",
      "  \n"
     ]
    }
   ],
   "source": [
    "data['region'].replace(['Алматы, Бостандыкский р-н', 'Алматы, Жетысуский р-н',\n",
    "                      'Алматы, Ауэзовский р-н','Алматы, Алатауский р-н',\n",
    "                      'Алматы, Жетысуйский р-н', 'Алматы, Медеуский р-н',\n",
    "                      'Алматы, Наурызбайский р-н', 'Алматы, Алмалинский р-н',\n",
    "                      'Алматы, Турксибский р-н', 'Алматы','Казахстан'],[1,2,3,4,2,5,6,7,8,0,0],inplace=True)\n",
    "data['price'] = data['price'].str.replace(\"\\xa0\", \"\")\n",
    "data['all_space'] = data['all_space'].str.replace('м2','')\n",
    "data['all_space'] = data['all_space'].convert_objects(convert_numeric = True)"
   ]
  },
  {
   "cell_type": "code",
   "execution_count": 7,
   "metadata": {},
   "outputs": [
    {
     "data": {
      "text/plain": [
       "array([1, 5, 2, 6, 3, 7, 0, 4, 8])"
      ]
     },
     "execution_count": 7,
     "metadata": {},
     "output_type": "execute_result"
    }
   ],
   "source": [
    "data['region'].unique()"
   ]
  },
  {
   "cell_type": "code",
   "execution_count": 8,
   "metadata": {
    "collapsed": true
   },
   "outputs": [],
   "source": [
    "region = data['region'].unique()\n",
    "reg = data['region']\n",
    "price = data['price']\n",
    "avg_price = []\n",
    "sums = 0\n",
    "cnt = 0\n",
    "for i in range(len(region)):\n",
    "    for j in range(len(data)):\n",
    "        if reg[j] == region[i]:\n",
    "            sums += int(price[j])\n",
    "            cnt += 1\n",
    "    avg_price.append(sums/cnt)\n",
    "    sums = 0\n",
    "    cnt = 0"
   ]
  },
  {
   "cell_type": "code",
   "execution_count": 9,
   "metadata": {},
   "outputs": [
    {
     "data": {
      "text/plain": [
       "[37021032.11607457,\n",
       " 60581450.71007217,\n",
       " 13361807.007393716,\n",
       " 27095326.618705034,\n",
       " 18746118.198818896,\n",
       " 22217247.505908098,\n",
       " 44899792.05671642,\n",
       " 15086025.517361112,\n",
       " 12130053.593495935]"
      ]
     },
     "execution_count": 9,
     "metadata": {},
     "output_type": "execute_result"
    }
   ],
   "source": [
    "avg_price"
   ]
  },
  {
   "cell_type": "code",
   "execution_count": 10,
   "metadata": {
    "collapsed": true
   },
   "outputs": [],
   "source": [
    "price_sqr_meter = []\n",
    "space_sums = []\n",
    "all_space = data['all_space']\n",
    "sp = 0\n",
    "for i in range(len(region)):\n",
    "    for j in range(len(data)):\n",
    "        if (reg[j] == region[i]):\n",
    "            sp += all_space[j]\n",
    "            cnt += 1\n",
    "    space_sums.append(sp/cnt)\n",
    "    sp = 0\n",
    "    cnt = 0"
   ]
  },
  {
   "cell_type": "code",
   "execution_count": 11,
   "metadata": {},
   "outputs": [
    {
     "data": {
      "text/plain": [
       "[78.514490561613428,\n",
       " 109.46783809224971,\n",
       " 54.472772643253215,\n",
       " 96.351079136690672,\n",
       " 61.400885826771663,\n",
       " 62.918421590080285,\n",
       " 88.058626865671641,\n",
       " 63.467534722222211,\n",
       " 50.903658536585368]"
      ]
     },
     "execution_count": 11,
     "metadata": {},
     "output_type": "execute_result"
    }
   ],
   "source": [
    "space_sums"
   ]
  },
  {
   "cell_type": "code",
   "execution_count": 12,
   "metadata": {
    "collapsed": true
   },
   "outputs": [],
   "source": [
    "for i in range(len(space_sums)):\n",
    "    price_sqr_meter.append(avg_price[i]/space_sums[i])"
   ]
  },
  {
   "cell_type": "code",
   "execution_count": 13,
   "metadata": {},
   "outputs": [
    {
     "data": {
      "text/plain": [
       "[471518.46558849799,\n",
       " 553417.80531939922,\n",
       " 245293.31552299196,\n",
       " 281214.56304880226,\n",
       " 305306.96660805045,\n",
       " 353111.96537407843,\n",
       " 509885.2168704432,\n",
       " 237696.73083077805,\n",
       " 238294.33762168291]"
      ]
     },
     "execution_count": 13,
     "metadata": {},
     "output_type": "execute_result"
    }
   ],
   "source": [
    "price_sqr_meter"
   ]
  },
  {
   "cell_type": "code",
   "execution_count": 19,
   "metadata": {},
   "outputs": [],
   "source": [
    "test = data[data.index == 1000]"
   ]
  },
  {
   "cell_type": "code",
   "execution_count": 20,
   "metadata": {
    "collapsed": true
   },
   "outputs": [],
   "source": [
    "region = data['region'].unique()\n",
    "reg = data['region']\n",
    "spaces = data['all_space']\n",
    "predicted_prices = np.zeros(len(reg))\n",
    "for i in range(len(data)):\n",
    "    for j in range(len(region)):\n",
    "        if (region[j] == reg[i]):\n",
    "            predicted_prices[i] = price_sqr_meter[j] * spaces[i]\n",
    "            \n"
   ]
  },
  {
   "cell_type": "code",
   "execution_count": 22,
   "metadata": {},
   "outputs": [],
   "source": [
    "from sklearn.metrics import mean_absolute_error"
   ]
  },
  {
   "cell_type": "code",
   "execution_count": 23,
   "metadata": {},
   "outputs": [
    {
     "name": "stdout",
     "output_type": "stream",
     "text": [
      "Default MAE:  9349096.46507\n"
     ]
    }
   ],
   "source": [
    "print(\"Default MAE: \", mean_absolute_error(price, predicted_prices))"
   ]
  },
  {
   "cell_type": "code",
   "execution_count": 24,
   "metadata": {
    "collapsed": true
   },
   "outputs": [],
   "source": [
    "from sklearn.metrics import mean_squared_error"
   ]
  },
  {
   "cell_type": "code",
   "execution_count": 25,
   "metadata": {},
   "outputs": [
    {
     "name": "stdout",
     "output_type": "stream",
     "text": [
      "Default MSE:  1.02910241565e+15\n"
     ]
    }
   ],
   "source": [
    "print(\"Default MSE: \", mean_squared_error(price, predicted_prices))"
   ]
  },
  {
   "cell_type": "code",
   "execution_count": null,
   "metadata": {
    "collapsed": true
   },
   "outputs": [],
   "source": []
  }
 ],
 "metadata": {
  "kernelspec": {
   "display_name": "Python 3",
   "language": "python",
   "name": "python3"
  },
  "language_info": {
   "codemirror_mode": {
    "name": "ipython",
    "version": 3
   },
   "file_extension": ".py",
   "mimetype": "text/x-python",
   "name": "python",
   "nbconvert_exporter": "python",
   "pygments_lexer": "ipython3",
   "version": "3.5.2"
  }
 },
 "nbformat": 4,
 "nbformat_minor": 2
}
